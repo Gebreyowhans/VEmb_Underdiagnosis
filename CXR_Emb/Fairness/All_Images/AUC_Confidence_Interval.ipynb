{
 "cells": [
  {
   "cell_type": "code",
   "execution_count": 1,
   "metadata": {},
   "outputs": [],
   "source": [
    "import pandas as pd\n",
    "import numpy as np\n",
    "import math"
   ]
  },
  {
   "cell_type": "code",
   "execution_count": 2,
   "metadata": {},
   "outputs": [],
   "source": [
    "seed_19_auc = pd.read_csv(\"./Prediction_results/eval_19.csv\", usecols=[\"label\", \"class_auc\"]).rename(columns={'class_auc':'auc1'})\n",
    "seed_31_auc = pd.read_csv(\"./Prediction_results/eval_31.csv\", usecols=[\"label\", \"class_auc\"])\n",
    "seed_38_auc = pd.read_csv(\"./Prediction_results/eval_38.csv\", usecols=[\"label\", \"class_auc\"])\n",
    "seed_47_auc = pd.read_csv(\"./Prediction_results/eval_47.csv\", usecols=[\"label\", \"class_auc\"])\n",
    "seed_77_auc = pd.read_csv(\"./Prediction_results/eval_77.csv\", usecols=[\"label\", \"class_auc\"])"
   ]
  },
  {
   "cell_type": "code",
   "execution_count": 3,
   "metadata": {},
   "outputs": [
    {
     "data": {
      "text/html": [
       "<div>\n",
       "<style scoped>\n",
       "    .dataframe tbody tr th:only-of-type {\n",
       "        vertical-align: middle;\n",
       "    }\n",
       "\n",
       "    .dataframe tbody tr th {\n",
       "        vertical-align: top;\n",
       "    }\n",
       "\n",
       "    .dataframe thead th {\n",
       "        text-align: right;\n",
       "    }\n",
       "</style>\n",
       "<table border=\"1\" class=\"dataframe\">\n",
       "  <thead>\n",
       "    <tr style=\"text-align: right;\">\n",
       "      <th></th>\n",
       "      <th>label</th>\n",
       "      <th>auc1</th>\n",
       "      <th>auc2</th>\n",
       "      <th>auc3</th>\n",
       "      <th>auc4</th>\n",
       "      <th>auc5</th>\n",
       "    </tr>\n",
       "  </thead>\n",
       "  <tbody>\n",
       "    <tr>\n",
       "      <th>0</th>\n",
       "      <td>No Finding</td>\n",
       "      <td>0.911633</td>\n",
       "      <td>0.913064</td>\n",
       "      <td>0.914312</td>\n",
       "      <td>0.914667</td>\n",
       "      <td>0.900968</td>\n",
       "    </tr>\n",
       "    <tr>\n",
       "      <th>1</th>\n",
       "      <td>Enlarged Cardiomediastinum</td>\n",
       "      <td>0.956380</td>\n",
       "      <td>0.956260</td>\n",
       "      <td>0.956955</td>\n",
       "      <td>0.957398</td>\n",
       "      <td>0.952119</td>\n",
       "    </tr>\n",
       "    <tr>\n",
       "      <th>2</th>\n",
       "      <td>Cardiomegaly</td>\n",
       "      <td>0.887040</td>\n",
       "      <td>0.889385</td>\n",
       "      <td>0.889959</td>\n",
       "      <td>0.890247</td>\n",
       "      <td>0.878406</td>\n",
       "    </tr>\n",
       "    <tr>\n",
       "      <th>3</th>\n",
       "      <td>Lung Lesion</td>\n",
       "      <td>0.881137</td>\n",
       "      <td>0.880779</td>\n",
       "      <td>0.882531</td>\n",
       "      <td>0.881759</td>\n",
       "      <td>0.855125</td>\n",
       "    </tr>\n",
       "    <tr>\n",
       "      <th>4</th>\n",
       "      <td>Lung Opacity</td>\n",
       "      <td>0.900083</td>\n",
       "      <td>0.900878</td>\n",
       "      <td>0.901129</td>\n",
       "      <td>0.899732</td>\n",
       "      <td>0.890671</td>\n",
       "    </tr>\n",
       "    <tr>\n",
       "      <th>5</th>\n",
       "      <td>Edema</td>\n",
       "      <td>0.912979</td>\n",
       "      <td>0.915537</td>\n",
       "      <td>0.914730</td>\n",
       "      <td>0.912852</td>\n",
       "      <td>0.907852</td>\n",
       "    </tr>\n",
       "    <tr>\n",
       "      <th>6</th>\n",
       "      <td>Consolidation</td>\n",
       "      <td>0.938976</td>\n",
       "      <td>0.940253</td>\n",
       "      <td>0.939403</td>\n",
       "      <td>0.939182</td>\n",
       "      <td>0.932253</td>\n",
       "    </tr>\n",
       "    <tr>\n",
       "      <th>7</th>\n",
       "      <td>Pneumonia</td>\n",
       "      <td>0.852065</td>\n",
       "      <td>0.854645</td>\n",
       "      <td>0.855248</td>\n",
       "      <td>0.853470</td>\n",
       "      <td>0.835751</td>\n",
       "    </tr>\n",
       "    <tr>\n",
       "      <th>8</th>\n",
       "      <td>Atelectasis</td>\n",
       "      <td>0.891166</td>\n",
       "      <td>0.892119</td>\n",
       "      <td>0.893652</td>\n",
       "      <td>0.894535</td>\n",
       "      <td>0.883810</td>\n",
       "    </tr>\n",
       "    <tr>\n",
       "      <th>9</th>\n",
       "      <td>Pneumothorax</td>\n",
       "      <td>0.897132</td>\n",
       "      <td>0.894004</td>\n",
       "      <td>0.899176</td>\n",
       "      <td>0.898815</td>\n",
       "      <td>0.865789</td>\n",
       "    </tr>\n",
       "    <tr>\n",
       "      <th>10</th>\n",
       "      <td>Pleural Effusion</td>\n",
       "      <td>0.917490</td>\n",
       "      <td>0.917562</td>\n",
       "      <td>0.917741</td>\n",
       "      <td>0.918406</td>\n",
       "      <td>0.908184</td>\n",
       "    </tr>\n",
       "    <tr>\n",
       "      <th>11</th>\n",
       "      <td>Pleural Other</td>\n",
       "      <td>0.923750</td>\n",
       "      <td>0.921986</td>\n",
       "      <td>0.926766</td>\n",
       "      <td>0.924171</td>\n",
       "      <td>0.901928</td>\n",
       "    </tr>\n",
       "    <tr>\n",
       "      <th>12</th>\n",
       "      <td>Fracture</td>\n",
       "      <td>0.913564</td>\n",
       "      <td>0.912537</td>\n",
       "      <td>0.917750</td>\n",
       "      <td>0.918112</td>\n",
       "      <td>0.899859</td>\n",
       "    </tr>\n",
       "    <tr>\n",
       "      <th>13</th>\n",
       "      <td>Support Devices</td>\n",
       "      <td>0.930395</td>\n",
       "      <td>0.932031</td>\n",
       "      <td>0.933153</td>\n",
       "      <td>0.932687</td>\n",
       "      <td>0.916000</td>\n",
       "    </tr>\n",
       "  </tbody>\n",
       "</table>\n",
       "</div>"
      ],
      "text/plain": [
       "                         label      auc1      auc2      auc3      auc4  \\\n",
       "0                   No Finding  0.911633  0.913064  0.914312  0.914667   \n",
       "1   Enlarged Cardiomediastinum  0.956380  0.956260  0.956955  0.957398   \n",
       "2                 Cardiomegaly  0.887040  0.889385  0.889959  0.890247   \n",
       "3                  Lung Lesion  0.881137  0.880779  0.882531  0.881759   \n",
       "4                 Lung Opacity  0.900083  0.900878  0.901129  0.899732   \n",
       "5                        Edema  0.912979  0.915537  0.914730  0.912852   \n",
       "6                Consolidation  0.938976  0.940253  0.939403  0.939182   \n",
       "7                    Pneumonia  0.852065  0.854645  0.855248  0.853470   \n",
       "8                  Atelectasis  0.891166  0.892119  0.893652  0.894535   \n",
       "9                 Pneumothorax  0.897132  0.894004  0.899176  0.898815   \n",
       "10            Pleural Effusion  0.917490  0.917562  0.917741  0.918406   \n",
       "11               Pleural Other  0.923750  0.921986  0.926766  0.924171   \n",
       "12                    Fracture  0.913564  0.912537  0.917750  0.918112   \n",
       "13             Support Devices  0.930395  0.932031  0.933153  0.932687   \n",
       "\n",
       "        auc5  \n",
       "0   0.900968  \n",
       "1   0.952119  \n",
       "2   0.878406  \n",
       "3   0.855125  \n",
       "4   0.890671  \n",
       "5   0.907852  \n",
       "6   0.932253  \n",
       "7   0.835751  \n",
       "8   0.883810  \n",
       "9   0.865789  \n",
       "10  0.908184  \n",
       "11  0.901928  \n",
       "12  0.899859  \n",
       "13  0.916000  "
      ]
     },
     "execution_count": 3,
     "metadata": {},
     "output_type": "execute_result"
    }
   ],
   "source": [
    "auc = seed_19_auc[['label','auc1']]\n",
    "auc[\"auc2\"]=seed_31_auc['class_auc']\n",
    "auc[\"auc3\"]=seed_38_auc['class_auc']\n",
    "auc[\"auc4\"]=seed_47_auc['class_auc']\n",
    "auc[\"auc5\"]=seed_77_auc['class_auc']\n",
    "auc"
   ]
  },
  {
   "cell_type": "code",
   "execution_count": 4,
   "metadata": {},
   "outputs": [
    {
     "data": {
      "text/plain": [
       "auc1    0.908\n",
       "auc2    0.909\n",
       "auc3    0.910\n",
       "auc4    0.910\n",
       "auc5    0.895\n",
       "dtype: float64"
      ]
     },
     "execution_count": 4,
     "metadata": {},
     "output_type": "execute_result"
    }
   ],
   "source": [
    "numeric_cols = auc.select_dtypes(include='number').iloc[:, 0:]\n",
    "round(numeric_cols.mean(axis=0),3)"
   ]
  },
  {
   "cell_type": "code",
   "execution_count": 5,
   "metadata": {},
   "outputs": [
    {
     "name": "stdout",
     "output_type": "stream",
     "text": [
      "Mean of 14 aucs mean over 5 run:  0.906\n",
      " Confidence interval of 14 aucs mean over 5 run:  0.006\n"
     ]
    }
   ],
   "source": [
    "mean=round(numeric_cols.mean(axis=0).mean(),3)\n",
    "confidence_interval=round( 1.96 * numeric_cols.mean(axis=0).std()/np.sqrt(5) ,3 )\n",
    "\n",
    "print(\"Mean of 14 aucs mean over 5 run: \",mean)\n",
    "print(\" Confidence interval of 14 aucs mean over 5 run: \",confidence_interval)"
   ]
  },
  {
   "cell_type": "code",
   "execution_count": 6,
   "metadata": {},
   "outputs": [
    {
     "name": "stdout",
     "output_type": "stream",
     "text": [
      "mean of auce per disease over 5 run:     \n"
     ]
    },
    {
     "data": {
      "text/plain": [
       "0     0.911\n",
       "1     0.956\n",
       "2     0.887\n",
       "3     0.876\n",
       "4     0.898\n",
       "5     0.913\n",
       "6     0.938\n",
       "7     0.850\n",
       "8     0.891\n",
       "9     0.891\n",
       "10    0.916\n",
       "11    0.920\n",
       "12    0.912\n",
       "13    0.929\n",
       "dtype: float64"
      ]
     },
     "execution_count": 6,
     "metadata": {},
     "output_type": "execute_result"
    }
   ],
   "source": [
    "print(\"mean of auce per disease over 5 run:     \")\n",
    "round(numeric_cols.mean(axis=1),3)"
   ]
  },
  {
   "cell_type": "code",
   "execution_count": 7,
   "metadata": {},
   "outputs": [
    {
     "name": "stdout",
     "output_type": "stream",
     "text": [
      "confidence interval of auce per disease over 5 run:\n"
     ]
    },
    {
     "data": {
      "text/plain": [
       "0     0.005\n",
       "1     0.002\n",
       "2     0.004\n",
       "3     0.010\n",
       "4     0.004\n",
       "5     0.003\n",
       "6     0.003\n",
       "7     0.007\n",
       "8     0.004\n",
       "9     0.012\n",
       "10    0.004\n",
       "11    0.009\n",
       "12    0.006\n",
       "13    0.006\n",
       "dtype: float64"
      ]
     },
     "execution_count": 7,
     "metadata": {},
     "output_type": "execute_result"
    }
   ],
   "source": [
    "print(\"confidence interval of auce per disease over 5 run:\")\n",
    "round(1.96 * numeric_cols.std(axis=1)/ np.sqrt(5),3)"
   ]
  }
 ],
 "metadata": {
  "kernelspec": {
   "display_name": "base",
   "language": "python",
   "name": "python3"
  },
  "language_info": {
   "codemirror_mode": {
    "name": "ipython",
    "version": 3
   },
   "file_extension": ".py",
   "mimetype": "text/x-python",
   "name": "python",
   "nbconvert_exporter": "python",
   "pygments_lexer": "ipython3",
   "version": "3.11.7"
  }
 },
 "nbformat": 4,
 "nbformat_minor": 2
}

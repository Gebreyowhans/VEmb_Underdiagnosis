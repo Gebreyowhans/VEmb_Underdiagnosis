{
  "cells": [
    {
      "cell_type": "code",
      "execution_count": null,
      "metadata": {
        "colab": {
          "base_uri": "https://localhost:8080/"
        },
        "id": "pxiv070RyZz_",
        "outputId": "b384c4bd-af03-4565-f581-71a481e63811"
      },
      "outputs": [],
      "source": [
        "import pandas as pd\n",
        "from IPython.display import clear_output\n",
        "import io\n",
        "import os\n",
        "import glob\n",
        "import numpy as np\n",
        "import random as python_random\n",
        "import matplotlib.pyplot as plt\n",
        "from sklearn.preprocessing import LabelEncoder\n",
        "from sklearn.utils import shuffle\n",
        "\n",
        "import tensorflow as tf\n",
        "from tensorflow.keras.utils import to_categorical\n",
        "from tensorflow.keras.models import Model\n",
        "from tensorflow.keras.layers import Input,Dense,BatchNormalization, Dropout\n",
        "from tensorflow.keras.metrics import AUC\n",
        "from tensorflow.keras.optimizers.schedules import CosineDecay\n",
        "from tensorflow.keras.optimizers import Adam\n",
        "from tensorflow.keras.losses import BinaryCrossentropy\n",
        "from tensorflow.keras.initializers import HeUniform\n",
        "from tensorflow.keras.callbacks import EarlyStopping\n",
        "\n",
        "\n",
        "from sklearn.metrics import roc_auc_score, roc_curve, auc\n",
        "\n",
        "from cxr_foundation import embeddings_data\n",
        "\n",
        "seed=19\n",
        "\n",
        "np.random.seed(seed)\n",
        "python_random.seed(seed)\n",
        "tf.random.set_seed(seed)"
      ]
    },
    {
      "cell_type": "code",
      "execution_count": null,
      "metadata": {},
      "outputs": [],
      "source": [
        "mimic_train=pd.read_csv(\"./Extracted_Embeddings/mimic_train_df.csv\")\n",
        "mimic_validation=pd.read_csv(\"./Extracted_Embeddings/mimic_validation_df.csv\")\n",
        "mimic_test=pd.read_csv(\"./Extracted_Embeddings/mimic_test_df.csv\")"
      ]
    },
    {
      "cell_type": "code",
      "execution_count": null,
      "metadata": {},
      "outputs": [],
      "source": [
        "data_df=pd.concat([mimic_train,mimic_validation,mimic_test],axis=0,ignore_index=True)"
      ]
    },
    {
      "cell_type": "code",
      "execution_count": null,
      "metadata": {},
      "outputs": [
        {
          "data": {
            "text/plain": [
              "'files/p14/p14174495/s51234155/2404c1ab-a3b40cde-0c825331-769edf1e-2d99b2cf.tfrecord'"
            ]
          },
          "execution_count": 5,
          "metadata": {},
          "output_type": "execute_result"
        }
      ],
      "source": [
        "data_df.path[0]"
      ]
    },
    {
      "cell_type": "code",
      "execution_count": null,
      "metadata": {},
      "outputs": [],
      "source": [
        "# Local path\n",
        "data_df['path'] = \"./Extracted_Embeddings/generalized-image-embeddings-for-the-mimic-chest-x-ray-dataset-1.0/\"+data_df['path']\n"
      ]
    },
    {
      "cell_type": "code",
      "execution_count": null,
      "metadata": {},
      "outputs": [
        {
          "name": "stdout",
          "output_type": "stream",
          "text": [
            "./Extracted_Embeddings/generalized-image-embeddings-for-the-mimic-chest-x-ray-dataset-1.0/files/p14/p14174495/s51234155/2404c1ab-a3b40cde-0c825331-769edf1e-2d99b2cf.tfrecord\n"
          ]
        }
      ],
      "source": [
        "print(data_df.path[0])"
      ]
    },
    {
      "cell_type": "code",
      "execution_count": null,
      "metadata": {},
      "outputs": [
        {
          "data": {
            "text/plain": [
              "(227641, 23)"
            ]
          },
          "execution_count": 8,
          "metadata": {},
          "output_type": "execute_result"
        }
      ],
      "source": [
        "data_df.shape"
      ]
    },
    {
      "cell_type": "code",
      "execution_count": null,
      "metadata": {
        "colab": {
          "base_uri": "https://localhost:8080/"
        },
        "id": "OMiFE2xrGQSg",
        "outputId": "ea9baf5a-37f9-46b4-856b-b61f57bcbdcd"
      },
      "outputs": [
        {
          "data": {
            "text/plain": [
              "split\n",
              "train       182896\n",
              "validate     23154\n",
              "test         21591\n",
              "Name: count, dtype: int64"
            ]
          },
          "execution_count": 9,
          "metadata": {},
          "output_type": "execute_result"
        }
      ],
      "source": [
        "data_df.split.value_counts()"
      ]
    },
    {
      "cell_type": "code",
      "execution_count": null,
      "metadata": {},
      "outputs": [
        {
          "data": {
            "text/plain": [
              "insurance\n",
              "Other       107228\n",
              "Medicare    101722\n",
              "Medicaid     18691\n",
              "Name: count, dtype: int64"
            ]
          },
          "execution_count": 10,
          "metadata": {},
          "output_type": "execute_result"
        }
      ],
      "source": [
        "data_df.insurance.value_counts()"
      ]
    },
    {
      "cell_type": "code",
      "execution_count": null,
      "metadata": {},
      "outputs": [
        {
          "data": {
            "text/plain": [
              "split\n",
              "train       0.803441\n",
              "validate    0.101713\n",
              "test        0.094847\n",
              "Name: proportion, dtype: float64"
            ]
          },
          "execution_count": 11,
          "metadata": {},
          "output_type": "execute_result"
        }
      ],
      "source": [
        "data_df.split.value_counts(normalize=True)"
      ]
    },
    {
      "cell_type": "code",
      "execution_count": null,
      "metadata": {},
      "outputs": [
        {
          "data": {
            "text/plain": [
              "split\n",
              "train       182896\n",
              "validate     23154\n",
              "test         21591\n",
              "Name: count, dtype: int64"
            ]
          },
          "execution_count": 12,
          "metadata": {},
          "output_type": "execute_result"
        }
      ],
      "source": [
        "data_df.split.value_counts()"
      ]
    },
    {
      "cell_type": "code",
      "execution_count": null,
      "metadata": {},
      "outputs": [],
      "source": [
        "data_df['path'] = data_df['path'].apply(str)\n",
        "data_df['subject_id'] = data_df['subject_id'].apply(str)\n",
        "\n",
        "data_df['study_id'] = data_df['study_id'].apply(str)\n",
        "data_df['dicom_id'] = data_df['dicom_id'].apply(str)\n",
        "data_df['split'] = data_df['split'].astype('category')\n"
      ]
    },
    {
      "cell_type": "code",
      "execution_count": null,
      "metadata": {},
      "outputs": [],
      "source": [
        "data_df['race']=data_df['race'].replace({'WHITE':'White','BLACK/AFRICAN AMERICAN':'Black','HISPANIC/LATINO':'Hispanic',\n",
        "                                         'OTHER':'Other','ASIAN':'Asian','AMERICAN INDIAN/ALASKA NATIVE':'AMERICAN INDIAN/ALASKA NATIVE'})"
      ]
    },
    {
      "cell_type": "code",
      "execution_count": null,
      "metadata": {},
      "outputs": [],
      "source": [
        "\n",
        "data_df = data_df[data_df.race .isin(['White','Asian','Black'])]"
      ]
    },
    {
      "cell_type": "code",
      "execution_count": null,
      "metadata": {
        "id": "lTPQP7f1VFSu"
      },
      "outputs": [],
      "source": [
        "# Define the class names (replace with your actual class names)\n",
        "class_names = data_df['race'].unique()"
      ]
    },
    {
      "cell_type": "code",
      "execution_count": null,
      "metadata": {},
      "outputs": [
        {
          "data": {
            "text/plain": [
              "race\n",
              "White    150364\n",
              "Black     36572\n",
              "Asian      7390\n",
              "Name: count, dtype: int64"
            ]
          },
          "execution_count": 17,
          "metadata": {},
          "output_type": "execute_result"
        }
      ],
      "source": [
        "data_df.race.value_counts()"
      ]
    },
    {
      "cell_type": "markdown",
      "metadata": {
        "id": "BRKYnUYiYASO"
      },
      "source": [
        "# Preparing Embeddings Files for Model Training\n",
        "\n",
        "We want to detect race of a patient using the embeddings with this label."
      ]
    },
    {
      "cell_type": "code",
      "execution_count": null,
      "metadata": {
        "id": "3_BpvugzYQYZ"
      },
      "outputs": [],
      "source": [
        "df_train = data_df[data_df[\"split\"] == \"train\"]\n",
        "df_validate = data_df[data_df[\"split\"] == \"validate\"]\n",
        "df_test = data_df[data_df[\"split\"] == \"test\"]"
      ]
    },
    {
      "cell_type": "code",
      "execution_count": null,
      "metadata": {
        "colab": {
          "base_uri": "https://localhost:8080/"
        },
        "id": "kOI6CkRCfk1C",
        "outputId": "1395a145-5c40-48d2-a95a-e2973df32015"
      },
      "outputs": [
        {
          "name": "stdout",
          "output_type": "stream",
          "text": [
            "175373\n"
          ]
        }
      ],
      "source": [
        "print(len(df_train)+len(df_validate))"
      ]
    },
    {
      "cell_type": "code",
      "execution_count": null,
      "metadata": {
        "colab": {
          "base_uri": "https://localhost:8080/"
        },
        "id": "m-7Fsni0ft4w",
        "outputId": "8af6c6f3-952d-41fb-8547-7f3920cabf3c"
      },
      "outputs": [
        {
          "name": "stdout",
          "output_type": "stream",
          "text": [
            "18953\n"
          ]
        }
      ],
      "source": [
        "print(len(df_test))"
      ]
    },
    {
      "cell_type": "code",
      "execution_count": null,
      "metadata": {
        "colab": {
          "base_uri": "https://localhost:8080/"
        },
        "id": "cYmaEPQtiFsn",
        "outputId": "561f749b-cc97-4a49-ac93-84d6bc54747a"
      },
      "outputs": [
        {
          "name": "stderr",
          "output_type": "stream",
          "text": [
            "C:\\Users\\gebre\\AppData\\Local\\Temp\\ipykernel_12280\\4209739039.py:2: SettingWithCopyWarning: \n",
            "A value is trying to be set on a copy of a slice from a DataFrame.\n",
            "Try using .loc[row_indexer,col_indexer] = value instead\n",
            "\n",
            "See the caveats in the documentation: https://pandas.pydata.org/pandas-docs/stable/user_guide/indexing.html#returning-a-view-versus-a-copy\n",
            "  df_train['race'] = label_encoder.fit_transform(df_train['race'])\n",
            "C:\\Users\\gebre\\AppData\\Local\\Temp\\ipykernel_12280\\4209739039.py:3: SettingWithCopyWarning: \n",
            "A value is trying to be set on a copy of a slice from a DataFrame.\n",
            "Try using .loc[row_indexer,col_indexer] = value instead\n",
            "\n",
            "See the caveats in the documentation: https://pandas.pydata.org/pandas-docs/stable/user_guide/indexing.html#returning-a-view-versus-a-copy\n",
            "  df_validate['race'] = label_encoder.fit_transform(df_validate['race'])\n",
            "C:\\Users\\gebre\\AppData\\Local\\Temp\\ipykernel_12280\\4209739039.py:4: SettingWithCopyWarning: \n",
            "A value is trying to be set on a copy of a slice from a DataFrame.\n",
            "Try using .loc[row_indexer,col_indexer] = value instead\n",
            "\n",
            "See the caveats in the documentation: https://pandas.pydata.org/pandas-docs/stable/user_guide/indexing.html#returning-a-view-versus-a-copy\n",
            "  df_test['race'] = label_encoder.fit_transform(df_test['race'])\n"
          ]
        }
      ],
      "source": [
        "label_encoder = LabelEncoder()\n",
        "df_train['race'] = label_encoder.fit_transform(df_train['race'])\n",
        "df_validate['race'] = label_encoder.fit_transform(df_validate['race'])\n",
        "df_test['race'] = label_encoder.fit_transform(df_test['race'])"
      ]
    },
    {
      "cell_type": "code",
      "execution_count": null,
      "metadata": {
        "id": "uTjltFs0CLnf"
      },
      "outputs": [],
      "source": [
        "y_train_encoded = label_encoder.fit_transform(df_train.race)\n",
        "y_val_encoded = label_encoder.transform(df_validate.race)\n",
        "y_test_encoded = label_encoder.transform(df_test.race)"
      ]
    },
    {
      "cell_type": "code",
      "execution_count": null,
      "metadata": {
        "colab": {
          "base_uri": "https://localhost:8080/"
        },
        "id": "hUS2X9BhUc8u",
        "outputId": "553803f4-9dec-4f03-b6ec-d279f713b992"
      },
      "outputs": [
        {
          "data": {
            "text/plain": [
              "3"
            ]
          },
          "execution_count": 23,
          "metadata": {},
          "output_type": "execute_result"
        }
      ],
      "source": [
        "num_classes=len(class_names)\n",
        "num_classes"
      ]
    },
    {
      "cell_type": "code",
      "execution_count": null,
      "metadata": {
        "id": "yUGP-zdbCkaN"
      },
      "outputs": [],
      "source": [
        "# Convert integer labels to one-hot encoding\n",
        "y_train_one_hot = to_categorical(y_train_encoded, num_classes=num_classes)\n",
        "y_val_one_hot = to_categorical(y_val_encoded, num_classes=num_classes)\n",
        "y_test_one_hot = to_categorical(y_test_encoded, num_classes=num_classes)"
      ]
    },
    {
      "cell_type": "code",
      "execution_count": null,
      "metadata": {
        "id": "225yYu09ZlCK"
      },
      "outputs": [],
      "source": [
        "# Create training and validation Datasets\n",
        "training_data = embeddings_data.get_dataset(filenames=df_train.path.values,\n",
        "                        labels=y_train_one_hot)\n",
        "\n",
        "validation_data = embeddings_data.get_dataset(filenames=df_validate.path.values,\n",
        "                        labels=y_val_one_hot)\n",
        "test_data = embeddings_data.get_dataset(filenames=df_test.path.values,\n",
        "                        labels=y_test_one_hot)"
      ]
    },
    {
      "cell_type": "code",
      "execution_count": null,
      "metadata": {
        "colab": {
          "base_uri": "https://localhost:8080/"
        },
        "id": "VHkCeDeLqbY_",
        "outputId": "0db37aa7-9a67-4532-cf91-8f1f79976fe1"
      },
      "outputs": [
        {
          "name": "stdout",
          "output_type": "stream",
          "text": [
            "(<tf.Tensor: shape=(1376,), dtype=float32, numpy=\n",
            "array([-0.8899373, -0.7238064,  0.6096619, ..., -1.0742147,  0.552022 ,\n",
            "       -1.1484494], dtype=float32)>, <tf.Tensor: shape=(3,), dtype=float32, numpy=array([0., 0., 1.], dtype=float32)>)\n",
            "(<tf.Tensor: shape=(1376,), dtype=float32, numpy=\n",
            "array([-1.2096279 , -1.2627047 ,  0.573153  , ..., -1.3845499 ,\n",
            "        0.89542544,  0.05854055], dtype=float32)>, <tf.Tensor: shape=(3,), dtype=float32, numpy=array([0., 0., 1.], dtype=float32)>)\n"
          ]
        }
      ],
      "source": [
        "for _train in training_data.take(2):\n",
        "    print(_train)"
      ]
    },
    {
      "cell_type": "code",
      "execution_count": null,
      "metadata": {
        "colab": {
          "base_uri": "https://localhost:8080/"
        },
        "id": "Ld1PGw-LZw7h",
        "outputId": "f6f5a75b-eb75-40bf-ea9d-96f7ac5ce42d"
      },
      "outputs": [
        {
          "name": "stdout",
          "output_type": "stream",
          "text": [
            "(<tf.Tensor: shape=(1376,), dtype=float32, numpy=\n",
            "array([-0.04722768, -2.2200613 ,  0.79090464, ...,  0.3898869 ,\n",
            "        0.66962755, -0.33819684], dtype=float32)>, <tf.Tensor: shape=(3,), dtype=float32, numpy=array([0., 0., 1.], dtype=float32)>)\n",
            "(<tf.Tensor: shape=(1376,), dtype=float32, numpy=\n",
            "array([-0.24736385, -1.2518303 ,  1.3279704 , ..., -0.50830483,\n",
            "        1.8371172 , -1.3065869 ], dtype=float32)>, <tf.Tensor: shape=(3,), dtype=float32, numpy=array([0., 0., 1.], dtype=float32)>)\n"
          ]
        }
      ],
      "source": [
        "for _validation in validation_data.take(2):\n",
        "  print(_validation)"
      ]
    },
    {
      "cell_type": "code",
      "execution_count": null,
      "metadata": {
        "colab": {
          "base_uri": "https://localhost:8080/"
        },
        "id": "aF0qH70wEJ5U",
        "outputId": "ae6698fa-744d-4c71-f97f-c3bd0208dc42"
      },
      "outputs": [
        {
          "name": "stdout",
          "output_type": "stream",
          "text": [
            "(<tf.Tensor: shape=(1376,), dtype=float32, numpy=\n",
            "array([ 0.12077017, -1.2427995 ,  1.5837867 , ..., -0.5301808 ,\n",
            "        1.6034485 , -0.7398392 ], dtype=float32)>, <tf.Tensor: shape=(3,), dtype=float32, numpy=array([0., 1., 0.], dtype=float32)>)\n",
            "(<tf.Tensor: shape=(1376,), dtype=float32, numpy=\n",
            "array([ 0.4763338 , -1.3996319 ,  1.7271736 , ..., -0.51695174,\n",
            "        1.1214144 , -1.1303827 ], dtype=float32)>, <tf.Tensor: shape=(3,), dtype=float32, numpy=array([0., 0., 1.], dtype=float32)>)\n"
          ]
        }
      ],
      "source": [
        "for _test in test_data.take(2):\n",
        "  print(_test)"
      ]
    },
    {
      "cell_type": "markdown",
      "metadata": {
        "id": "uWVhSgNjZbtU"
      },
      "source": [
        "# Create and Train Model"
      ]
    },
    {
      "cell_type": "code",
      "execution_count": null,
      "metadata": {
        "id": "GTPRNC2VdVKT"
      },
      "outputs": [],
      "source": [
        "embeddings_size=1376\n",
        "learning_rate=0.001\n",
        "batch_size = 128\n",
        "epochs = 50\n",
        "end_lr_factor=1.0\n",
        "dropout_rate=0.2\n",
        "decay_steps=1000\n",
        "loss_weights=None\n",
        "weight_decay = 0.001\n",
        "hidden_layer_sizes = [256, 128, 64]\n",
        "#hidden_layer_sizes = [32, 16]"
      ]
    },
    {
      "cell_type": "code",
      "execution_count": null,
      "metadata": {
        "id": "odBbQq2eeCM5"
      },
      "outputs": [],
      "source": [
        "# Early Stopping\n",
        "early_stopping = EarlyStopping(monitor='val_loss', patience=5, restore_best_weights=True)"
      ]
    },
    {
      "cell_type": "code",
      "execution_count": null,
      "metadata": {
        "id": "2Da5gsEdaSCN"
      },
      "outputs": [],
      "source": [
        "from tensorflow.keras.metrics import Accuracy\n",
        "\n",
        "# ...\n",
        "\n",
        "# Define a function to build the model\n",
        "def build_model():\n",
        "\n",
        "  # Define the input layer\n",
        "  inputs = Input(shape=(embeddings_size,))\n",
        "\n",
        "  # Build the model using the Functional API\n",
        "  hidden = inputs\n",
        "  for size in hidden_layer_sizes:\n",
        "    hidden = Dense(size,\n",
        "                   activation='relu',\n",
        "                   kernel_initializer=HeUniform(),\n",
        "                   kernel_regularizer=tf.keras.regularizers.l2(l2=weight_decay),\n",
        "                   bias_regularizer=tf.keras.regularizers.l2(l2=weight_decay))(hidden)\n",
        "    hidden = BatchNormalization()(hidden)\n",
        "    hidden = Dropout(dropout_rate)(hidden)\n",
        "\n",
        "  output = Dense(num_classes, activation='softmax', kernel_initializer=HeUniform())(hidden)\n",
        "\n",
        "  # Create the model\n",
        "  model = Model(inputs=inputs, outputs=output)\n",
        "\n",
        "  # Compile the model with accuracy and AUC as metrics\n",
        "  model.compile(\n",
        "      optimizer=Adam(learning_rate=learning_rate),\n",
        "      loss='categorical_crossentropy',\n",
        "      metrics=[AUC()])\n",
        "\n",
        "  return model\n",
        "\n",
        "model = build_model()\n"
      ]
    },
    {
      "cell_type": "code",
      "execution_count": null,
      "metadata": {
        "colab": {
          "base_uri": "https://localhost:8080/",
          "height": 1000
        },
        "id": "NZ-aqYIYeT_R",
        "outputId": "674fa1ba-c00c-4848-f3fe-412867ddf06e"
      },
      "outputs": [
        {
          "name": "stdout",
          "output_type": "stream",
          "text": [
            "You must install pydot (`pip install pydot`) and install graphviz (see instructions at https://graphviz.gitlab.io/download/) for plot_model to work.\n"
          ]
        }
      ],
      "source": [
        "tf.keras.utils.plot_model(\n",
        "    model,\n",
        "    to_file='model.png',\n",
        "    show_shapes=True,\n",
        "    show_layer_names=True\n",
        ")"
      ]
    },
    {
      "cell_type": "code",
      "execution_count": null,
      "metadata": {
        "colab": {
          "base_uri": "https://localhost:8080/"
        },
        "id": "zqZnABrW5W1G",
        "outputId": "046ef4a3-3d0e-42cb-b55e-140c4dc48552"
      },
      "outputs": [
        {
          "name": "stdout",
          "output_type": "stream",
          "text": [
            "Epoch 1/50\n",
            "   1109/Unknown - 267s 239ms/step - loss: 1.0115 - auc: 0.9200"
          ]
        }
      ],
      "source": [
        "# train the model\n",
        "history=model.fit(\n",
        "    x=training_data.batch(batch_size).prefetch(tf.data.AUTOTUNE).cache(),\n",
        "    validation_data=validation_data.batch(batch_size).cache(),\n",
        "    callbacks=[early_stopping],\n",
        "    epochs=epochs,\n",
        ")"
      ]
    },
    {
      "cell_type": "markdown",
      "metadata": {
        "id": "Qb_tS_SyzqAM"
      },
      "source": [
        "## Prepare test dataset and evaluate model performance"
      ]
    },
    {
      "cell_type": "code",
      "execution_count": null,
      "metadata": {
        "colab": {
          "base_uri": "https://localhost:8080/"
        },
        "id": "5e86MW8cJOEs",
        "outputId": "1eae7032-7986-45d9-b038-0285f0e30479"
      },
      "outputs": [
        {
          "name": "stdout",
          "output_type": "stream",
          "text": [
            "149/149 [==============================] - 23s 153ms/step\n"
          ]
        },
        {
          "data": {
            "text/plain": [
              "array([0.00387014, 0.78975964, 0.20637017], dtype=float32)"
            ]
          },
          "execution_count": 77,
          "metadata": {},
          "output_type": "execute_result"
        }
      ],
      "source": [
        "# Evaluate using ROC-AUC\n",
        "y_pred_prob = model.predict(test_data.batch(batch_size))\n",
        "y_pred_prob[0]"
      ]
    },
    {
      "cell_type": "code",
      "execution_count": null,
      "metadata": {
        "colab": {
          "base_uri": "https://localhost:8080/"
        },
        "id": "LU1eawBRKqUd",
        "outputId": "55e7a923-52e6-4746-c402-3b06a1bef055"
      },
      "outputs": [
        {
          "data": {
            "text/plain": [
              "3"
            ]
          },
          "execution_count": 78,
          "metadata": {},
          "output_type": "execute_result"
        }
      ],
      "source": [
        "# Calculate ROC-AUC for each class\n",
        "n_classes = y_pred_prob.shape[1]  # Number of classes\n",
        "n_classes"
      ]
    },
    {
      "cell_type": "code",
      "execution_count": null,
      "metadata": {
        "id": "k3gaq85aQ-L4"
      },
      "outputs": [],
      "source": [
        "fpr = dict()\n",
        "tpr = dict()\n",
        "roc_auc = dict()"
      ]
    },
    {
      "cell_type": "code",
      "execution_count": null,
      "metadata": {
        "id": "Ig4FbnJtKuoN"
      },
      "outputs": [],
      "source": [
        "\n",
        "for class_idx in range(n_classes):\n",
        "    # Extract true labels and predicted probabilities for the current class\n",
        "    y_true = y_test_one_hot[:, class_idx]\n",
        "    y_prob = y_pred_prob[:, class_idx]\n",
        "\n",
        "    # Calculate ROC-AUC for the current class\n",
        "    fpr[class_idx], tpr[class_idx], _ = roc_curve(y_true, y_prob)\n",
        "    roc_auc[class_idx] = auc(fpr[class_idx], tpr[class_idx])\n"
      ]
    },
    {
      "cell_type": "code",
      "execution_count": null,
      "metadata": {
        "colab": {
          "base_uri": "https://localhost:8080/"
        },
        "id": "gAonb_TdkB3U",
        "outputId": "bac6baa3-8e3f-47cf-a0e8-3e9aec08b190"
      },
      "outputs": [
        {
          "data": {
            "text/plain": [
              "{0: 0.873792407143291, 1: 0.8849023453954654, 2: 0.8758045675432011}"
            ]
          },
          "execution_count": 81,
          "metadata": {},
          "output_type": "execute_result"
        }
      ],
      "source": [
        "roc_auc"
      ]
    },
    {
      "cell_type": "code",
      "execution_count": null,
      "metadata": {
        "colab": {
          "base_uri": "https://localhost:8080/",
          "height": 564
        },
        "id": "091S1GslRok6",
        "outputId": "b7775c0b-2985-45b9-a1e7-f5a4e25852e1"
      },
      "outputs": [
        {
          "data": {
            "image/png": "[encoded data removed]",
            "text/plain": [
              "<Figure size 1000x600 with 1 Axes>"
            ]
          },
          "metadata": {},
          "output_type": "display_data"
        }
      ],
      "source": [
        "# Plot ROC Curves for each class\n",
        "plt.figure(figsize=(10, 6))\n",
        "for class_idx in range(n_classes):\n",
        "  plt.plot(fpr[class_idx], tpr[class_idx], lw=2, label=f'{class_names[class_idx]} (AUC = {roc_auc[class_idx]:.2f})')\n",
        "\n",
        "# Calculate and display the average AUC score\n",
        "average_auc = np.mean(list(roc_auc.values()))\n",
        "plt.text(0.6, 0.3, f'Average AUC = {average_auc:.2f}', fontsize=12)\n",
        "\n",
        "# Plot the diagonal line for reference (random classifier)\n",
        "plt.plot([0, 1], [0, 1], color='navy', lw=2, linestyle='--')\n",
        "\n",
        "# Customize the plot\n",
        "plt.xlim([0.0, 1.0])\n",
        "plt.ylim([0.0, 1.05])\n",
        "plt.xlabel('False Positive Rate')\n",
        "plt.ylabel('True Positive Rate')\n",
        "plt.title('ROC Curve for Race-Class Classification')\n",
        "plt.legend(loc='lower right')\n",
        "plt.show()"
      ]
    }
  ],
  "metadata": {
    "accelerator": "GPU",
    "colab": {
      "gpuType": "T4",
      "provenance": []
    },
    "kernelspec": {
      "display_name": "base",
      "language": "python",
      "name": "python3"
    },
    "language_info": {
      "codemirror_mode": {
        "name": "ipython",
        "version": 3
      },
      "file_extension": ".py",
      "mimetype": "text/x-python",
      "name": "python",
      "nbconvert_exporter": "python",
      "pygments_lexer": "ipython3",
      "version": "3.11.7"
    }
  },
  "nbformat": 4,
  "nbformat_minor": 0
}

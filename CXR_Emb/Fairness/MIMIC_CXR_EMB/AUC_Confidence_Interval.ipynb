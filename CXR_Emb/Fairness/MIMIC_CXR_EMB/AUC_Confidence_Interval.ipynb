{
 "cells": [
  {
   "cell_type": "code",
   "execution_count": 1,
   "metadata": {},
   "outputs": [],
   "source": [
    "import pandas as pd\n",
    "import numpy as np\n",
    "import math"
   ]
  },
  {
   "cell_type": "code",
   "execution_count": 3,
   "metadata": {},
   "outputs": [],
   "source": [
    "seed_19_auc = pd.read_csv(\"./Prediction_results/eval_19.csv\", usecols=[\"label\", \"class_auc\"]).rename(columns={'class_auc':'auc1'})\n",
    "seed_31_auc = pd.read_csv(\"./Prediction_results/eval_31.csv\", usecols=[\"label\", \"class_auc\"])\n",
    "seed_38_auc = pd.read_csv(\"./Prediction_results/eval_38.csv\", usecols=[\"label\", \"class_auc\"])\n",
    "seed_47_auc = pd.read_csv(\"./Prediction_results/eval_47.csv\", usecols=[\"label\", \"class_auc\"])\n",
    "seed_77_auc = pd.read_csv(\"./Prediction_results/eval_77.csv\", usecols=[\"label\", \"class_auc\"])"
   ]
  },
  {
   "cell_type": "code",
   "execution_count": 4,
   "metadata": {},
   "outputs": [
    {
     "data": {
      "text/html": [
       "<div>\n",
       "<style scoped>\n",
       "    .dataframe tbody tr th:only-of-type {\n",
       "        vertical-align: middle;\n",
       "    }\n",
       "\n",
       "    .dataframe tbody tr th {\n",
       "        vertical-align: top;\n",
       "    }\n",
       "\n",
       "    .dataframe thead th {\n",
       "        text-align: right;\n",
       "    }\n",
       "</style>\n",
       "<table border=\"1\" class=\"dataframe\">\n",
       "  <thead>\n",
       "    <tr style=\"text-align: right;\">\n",
       "      <th></th>\n",
       "      <th>label</th>\n",
       "      <th>auc1</th>\n",
       "      <th>auc2</th>\n",
       "      <th>auc3</th>\n",
       "      <th>auc4</th>\n",
       "      <th>auc5</th>\n",
       "    </tr>\n",
       "  </thead>\n",
       "  <tbody>\n",
       "    <tr>\n",
       "      <th>0</th>\n",
       "      <td>No Finding</td>\n",
       "      <td>0.866663</td>\n",
       "      <td>0.866353</td>\n",
       "      <td>0.867477</td>\n",
       "      <td>0.867007</td>\n",
       "      <td>0.867385</td>\n",
       "    </tr>\n",
       "    <tr>\n",
       "      <th>1</th>\n",
       "      <td>Enlarged Cardiomediastinum</td>\n",
       "      <td>0.728334</td>\n",
       "      <td>0.719885</td>\n",
       "      <td>0.730857</td>\n",
       "      <td>0.729767</td>\n",
       "      <td>0.730631</td>\n",
       "    </tr>\n",
       "    <tr>\n",
       "      <th>2</th>\n",
       "      <td>Cardiomegaly</td>\n",
       "      <td>0.806356</td>\n",
       "      <td>0.805871</td>\n",
       "      <td>0.804390</td>\n",
       "      <td>0.804047</td>\n",
       "      <td>0.805158</td>\n",
       "    </tr>\n",
       "    <tr>\n",
       "      <th>3</th>\n",
       "      <td>Lung Lesion</td>\n",
       "      <td>0.813356</td>\n",
       "      <td>0.813372</td>\n",
       "      <td>0.805372</td>\n",
       "      <td>0.808782</td>\n",
       "      <td>0.805563</td>\n",
       "    </tr>\n",
       "    <tr>\n",
       "      <th>4</th>\n",
       "      <td>Lung Opacity</td>\n",
       "      <td>0.770834</td>\n",
       "      <td>0.767184</td>\n",
       "      <td>0.769988</td>\n",
       "      <td>0.770558</td>\n",
       "      <td>0.768883</td>\n",
       "    </tr>\n",
       "    <tr>\n",
       "      <th>5</th>\n",
       "      <td>Edema</td>\n",
       "      <td>0.892527</td>\n",
       "      <td>0.892637</td>\n",
       "      <td>0.892089</td>\n",
       "      <td>0.892106</td>\n",
       "      <td>0.891277</td>\n",
       "    </tr>\n",
       "    <tr>\n",
       "      <th>6</th>\n",
       "      <td>Consolidation</td>\n",
       "      <td>0.823343</td>\n",
       "      <td>0.829021</td>\n",
       "      <td>0.825425</td>\n",
       "      <td>0.827956</td>\n",
       "      <td>0.823455</td>\n",
       "    </tr>\n",
       "    <tr>\n",
       "      <th>7</th>\n",
       "      <td>Pneumonia</td>\n",
       "      <td>0.743379</td>\n",
       "      <td>0.741048</td>\n",
       "      <td>0.747354</td>\n",
       "      <td>0.745992</td>\n",
       "      <td>0.745023</td>\n",
       "    </tr>\n",
       "    <tr>\n",
       "      <th>8</th>\n",
       "      <td>Atelectasis</td>\n",
       "      <td>0.809953</td>\n",
       "      <td>0.809048</td>\n",
       "      <td>0.810601</td>\n",
       "      <td>0.809081</td>\n",
       "      <td>0.808107</td>\n",
       "    </tr>\n",
       "    <tr>\n",
       "      <th>9</th>\n",
       "      <td>Pneumothorax</td>\n",
       "      <td>0.885423</td>\n",
       "      <td>0.883910</td>\n",
       "      <td>0.883885</td>\n",
       "      <td>0.883563</td>\n",
       "      <td>0.882351</td>\n",
       "    </tr>\n",
       "    <tr>\n",
       "      <th>10</th>\n",
       "      <td>Pleural Effusion</td>\n",
       "      <td>0.909890</td>\n",
       "      <td>0.909486</td>\n",
       "      <td>0.909250</td>\n",
       "      <td>0.909245</td>\n",
       "      <td>0.908841</td>\n",
       "    </tr>\n",
       "    <tr>\n",
       "      <th>11</th>\n",
       "      <td>Pleural Other</td>\n",
       "      <td>0.885215</td>\n",
       "      <td>0.879924</td>\n",
       "      <td>0.875080</td>\n",
       "      <td>0.870468</td>\n",
       "      <td>0.876691</td>\n",
       "    </tr>\n",
       "    <tr>\n",
       "      <th>12</th>\n",
       "      <td>Fracture</td>\n",
       "      <td>0.800619</td>\n",
       "      <td>0.798901</td>\n",
       "      <td>0.795864</td>\n",
       "      <td>0.797043</td>\n",
       "      <td>0.796969</td>\n",
       "    </tr>\n",
       "    <tr>\n",
       "      <th>13</th>\n",
       "      <td>Support Devices</td>\n",
       "      <td>0.929023</td>\n",
       "      <td>0.928472</td>\n",
       "      <td>0.928149</td>\n",
       "      <td>0.928378</td>\n",
       "      <td>0.928373</td>\n",
       "    </tr>\n",
       "  </tbody>\n",
       "</table>\n",
       "</div>"
      ],
      "text/plain": [
       "                         label      auc1      auc2      auc3      auc4  \\\n",
       "0                   No Finding  0.866663  0.866353  0.867477  0.867007   \n",
       "1   Enlarged Cardiomediastinum  0.728334  0.719885  0.730857  0.729767   \n",
       "2                 Cardiomegaly  0.806356  0.805871  0.804390  0.804047   \n",
       "3                  Lung Lesion  0.813356  0.813372  0.805372  0.808782   \n",
       "4                 Lung Opacity  0.770834  0.767184  0.769988  0.770558   \n",
       "5                        Edema  0.892527  0.892637  0.892089  0.892106   \n",
       "6                Consolidation  0.823343  0.829021  0.825425  0.827956   \n",
       "7                    Pneumonia  0.743379  0.741048  0.747354  0.745992   \n",
       "8                  Atelectasis  0.809953  0.809048  0.810601  0.809081   \n",
       "9                 Pneumothorax  0.885423  0.883910  0.883885  0.883563   \n",
       "10            Pleural Effusion  0.909890  0.909486  0.909250  0.909245   \n",
       "11               Pleural Other  0.885215  0.879924  0.875080  0.870468   \n",
       "12                    Fracture  0.800619  0.798901  0.795864  0.797043   \n",
       "13             Support Devices  0.929023  0.928472  0.928149  0.928378   \n",
       "\n",
       "        auc5  \n",
       "0   0.867385  \n",
       "1   0.730631  \n",
       "2   0.805158  \n",
       "3   0.805563  \n",
       "4   0.768883  \n",
       "5   0.891277  \n",
       "6   0.823455  \n",
       "7   0.745023  \n",
       "8   0.808107  \n",
       "9   0.882351  \n",
       "10  0.908841  \n",
       "11  0.876691  \n",
       "12  0.796969  \n",
       "13  0.928373  "
      ]
     },
     "execution_count": 4,
     "metadata": {},
     "output_type": "execute_result"
    }
   ],
   "source": [
    "auc = seed_19_auc[['label','auc1']]\n",
    "auc[\"auc2\"]=seed_31_auc['class_auc']\n",
    "auc[\"auc3\"]=seed_38_auc['class_auc']\n",
    "auc[\"auc4\"]=seed_47_auc['class_auc']\n",
    "auc[\"auc5\"]=seed_77_auc['class_auc']\n",
    "auc"
   ]
  },
  {
   "cell_type": "code",
   "execution_count": 5,
   "metadata": {},
   "outputs": [
    {
     "data": {
      "text/plain": [
       "auc1    0.833\n",
       "auc2    0.832\n",
       "auc3    0.832\n",
       "auc4    0.832\n",
       "auc5    0.831\n",
       "dtype: float64"
      ]
     },
     "execution_count": 5,
     "metadata": {},
     "output_type": "execute_result"
    }
   ],
   "source": [
    "numeric_cols = auc.select_dtypes(include='number').iloc[:, 0:]\n",
    "round(numeric_cols.mean(axis=0),3)"
   ]
  },
  {
   "cell_type": "code",
   "execution_count": 6,
   "metadata": {},
   "outputs": [
    {
     "name": "stdout",
     "output_type": "stream",
     "text": [
      "Mean of 14 aucs mean over 5 run:  0.832\n",
      " Confidence interval of 14 aucs mean over 5 run:  0.001\n"
     ]
    }
   ],
   "source": [
    "mean=round(numeric_cols.mean(axis=0).mean(),3)\n",
    "confidence_interval=round( 1.96 * numeric_cols.mean(axis=0).std()/np.sqrt(5) ,3 )\n",
    "\n",
    "print(\"Mean of 14 aucs mean over 5 run: \",mean)\n",
    "print(\" Confidence interval of 14 aucs mean over 5 run: \",confidence_interval)"
   ]
  },
  {
   "cell_type": "code",
   "execution_count": 7,
   "metadata": {},
   "outputs": [
    {
     "name": "stdout",
     "output_type": "stream",
     "text": [
      "mean of auce per disease over 5 run:     \n"
     ]
    },
    {
     "data": {
      "text/plain": [
       "0     0.867\n",
       "1     0.728\n",
       "2     0.805\n",
       "3     0.809\n",
       "4     0.769\n",
       "5     0.892\n",
       "6     0.826\n",
       "7     0.745\n",
       "8     0.809\n",
       "9     0.884\n",
       "10    0.909\n",
       "11    0.877\n",
       "12    0.798\n",
       "13    0.928\n",
       "dtype: float64"
      ]
     },
     "execution_count": 7,
     "metadata": {},
     "output_type": "execute_result"
    }
   ],
   "source": [
    "print(\"mean of auce per disease over 5 run:     \")\n",
    "round(numeric_cols.mean(axis=1),3)"
   ]
  },
  {
   "cell_type": "code",
   "execution_count": 8,
   "metadata": {},
   "outputs": [
    {
     "name": "stdout",
     "output_type": "stream",
     "text": [
      "confidence interval of auce per disease over 5 run:\n"
     ]
    },
    {
     "data": {
      "text/plain": [
       "0     0.000\n",
       "1     0.004\n",
       "2     0.001\n",
       "3     0.003\n",
       "4     0.001\n",
       "5     0.000\n",
       "6     0.002\n",
       "7     0.002\n",
       "8     0.001\n",
       "9     0.001\n",
       "10    0.000\n",
       "11    0.005\n",
       "12    0.002\n",
       "13    0.000\n",
       "dtype: float64"
      ]
     },
     "execution_count": 8,
     "metadata": {},
     "output_type": "execute_result"
    }
   ],
   "source": [
    "print(\"confidence interval of auce per disease over 5 run:\")\n",
    "round(1.96 * numeric_cols.std(axis=1)/ np.sqrt(5),3)"
   ]
  }
 ],
 "metadata": {
  "kernelspec": {
   "display_name": "base",
   "language": "python",
   "name": "python3"
  },
  "language_info": {
   "codemirror_mode": {
    "name": "ipython",
    "version": 3
   },
   "file_extension": ".py",
   "mimetype": "text/x-python",
   "name": "python",
   "nbconvert_exporter": "python",
   "pygments_lexer": "ipython3",
   "version": "3.11.7"
  }
 },
 "nbformat": 4,
 "nbformat_minor": 2
}

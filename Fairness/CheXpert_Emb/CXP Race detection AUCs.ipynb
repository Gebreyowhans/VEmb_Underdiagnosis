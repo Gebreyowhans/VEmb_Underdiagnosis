{
 "cells": [
  {
   "cell_type": "code",
   "execution_count": 1,
   "metadata": {},
   "outputs": [],
   "source": [
    "import pandas as pd\n",
    "import numpy as np\n",
    "import math"
   ]
  },
  {
   "cell_type": "code",
   "execution_count": 2,
   "metadata": {},
   "outputs": [
    {
     "data": {
      "text/html": [
       "<div>\n",
       "<style scoped>\n",
       "    .dataframe tbody tr th:only-of-type {\n",
       "        vertical-align: middle;\n",
       "    }\n",
       "\n",
       "    .dataframe tbody tr th {\n",
       "        vertical-align: top;\n",
       "    }\n",
       "\n",
       "    .dataframe thead th {\n",
       "        text-align: right;\n",
       "    }\n",
       "</style>\n",
       "<table border=\"1\" class=\"dataframe\">\n",
       "  <thead>\n",
       "    <tr style=\"text-align: right;\">\n",
       "      <th></th>\n",
       "      <th>Race</th>\n",
       "      <th>Seed_19</th>\n",
       "      <th>Seed_31</th>\n",
       "      <th>Seed_38</th>\n",
       "      <th>Seed_47</th>\n",
       "      <th>Seed_77</th>\n",
       "    </tr>\n",
       "  </thead>\n",
       "  <tbody>\n",
       "    <tr>\n",
       "      <th>0</th>\n",
       "      <td>Asian</td>\n",
       "      <td>0.86</td>\n",
       "      <td>0.87</td>\n",
       "      <td>0.84</td>\n",
       "      <td>0.84</td>\n",
       "      <td>0.88</td>\n",
       "    </tr>\n",
       "    <tr>\n",
       "      <th>1</th>\n",
       "      <td>Black</td>\n",
       "      <td>0.87</td>\n",
       "      <td>0.84</td>\n",
       "      <td>0.84</td>\n",
       "      <td>0.84</td>\n",
       "      <td>0.87</td>\n",
       "    </tr>\n",
       "    <tr>\n",
       "      <th>2</th>\n",
       "      <td>White</td>\n",
       "      <td>0.88</td>\n",
       "      <td>0.82</td>\n",
       "      <td>0.85</td>\n",
       "      <td>0.86</td>\n",
       "      <td>0.88</td>\n",
       "    </tr>\n",
       "  </tbody>\n",
       "</table>\n",
       "</div>"
      ],
      "text/plain": [
       "    Race  Seed_19  Seed_31  Seed_38  Seed_47  Seed_77\n",
       "0  Asian     0.86     0.87     0.84     0.84     0.88\n",
       "1  Black     0.87     0.84     0.84     0.84     0.87\n",
       "2  White     0.88     0.82     0.85     0.86     0.88"
      ]
     },
     "execution_count": 2,
     "metadata": {},
     "output_type": "execute_result"
    }
   ],
   "source": [
    "AuC = pd.read_excel(\"./Chexpert_Race_AUCs.xlsx\")\n",
    "AuC.head(5)"
   ]
  },
  {
   "cell_type": "code",
   "execution_count": 3,
   "metadata": {},
   "outputs": [
    {
     "data": {
      "text/plain": [
       "Seed_19    0.870\n",
       "Seed_31    0.843\n",
       "Seed_38    0.843\n",
       "Seed_47    0.847\n",
       "Seed_77    0.877\n",
       "dtype: float64"
      ]
     },
     "execution_count": 3,
     "metadata": {},
     "output_type": "execute_result"
    }
   ],
   "source": [
    "numeric_cols = AuC.select_dtypes(include='number').iloc[:, 0:]\n",
    "round(numeric_cols.mean(axis=0),3)"
   ]
  },
  {
   "cell_type": "code",
   "execution_count": 4,
   "metadata": {},
   "outputs": [
    {
     "name": "stdout",
     "output_type": "stream",
     "text": [
      "Mean of 3 aucs mean over 5 run:  0.856\n",
      " Confidence interval of 3 aucs mean over 5 run:  0.014\n"
     ]
    }
   ],
   "source": [
    "mean=round(numeric_cols.mean(axis=0).mean(),3)\n",
    "confidence_interval=round( 1.96 * numeric_cols.mean(axis=0).std()/np.sqrt(5) ,3 )\n",
    "\n",
    "print(\"Mean of 3 aucs mean over 5 run: \",mean)\n",
    "print(\" Confidence interval of 3 aucs mean over 5 run: \",confidence_interval)"
   ]
  },
  {
   "cell_type": "code",
   "execution_count": 5,
   "metadata": {},
   "outputs": [
    {
     "name": "stdout",
     "output_type": "stream",
     "text": [
      "mean of auce per disease over 5 run:     \n"
     ]
    },
    {
     "data": {
      "text/plain": [
       "0    0.858\n",
       "1    0.852\n",
       "2    0.858\n",
       "dtype: float64"
      ]
     },
     "execution_count": 5,
     "metadata": {},
     "output_type": "execute_result"
    }
   ],
   "source": [
    "print(\"mean of auce per disease over 5 run:     \")\n",
    "round(numeric_cols.mean(axis=1),3)"
   ]
  },
  {
   "cell_type": "code",
   "execution_count": 6,
   "metadata": {},
   "outputs": [
    {
     "name": "stdout",
     "output_type": "stream",
     "text": [
      "confidence interval of auce per disease over 5 run:\n"
     ]
    },
    {
     "data": {
      "text/plain": [
       "0    0.016\n",
       "1    0.014\n",
       "2    0.022\n",
       "dtype: float64"
      ]
     },
     "execution_count": 6,
     "metadata": {},
     "output_type": "execute_result"
    }
   ],
   "source": [
    "print(\"confidence interval of auce per disease over 5 run:\")\n",
    "round(1.96 * numeric_cols.std(axis=1)/ np.sqrt(5),3)"
   ]
  }
 ],
 "metadata": {
  "kernelspec": {
   "display_name": "Python 3",
   "language": "python",
   "name": "python3"
  },
  "language_info": {
   "codemirror_mode": {
    "name": "ipython",
    "version": 3
   },
   "file_extension": ".py",
   "mimetype": "text/x-python",
   "name": "python",
   "nbconvert_exporter": "python",
   "pygments_lexer": "ipython3",
   "version": "3.10.11"
  }
 },
 "nbformat": 4,
 "nbformat_minor": 2
}

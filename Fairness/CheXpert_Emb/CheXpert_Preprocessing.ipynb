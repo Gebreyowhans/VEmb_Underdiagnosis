{
  "cells": [
    {
      "cell_type": "code",
      "execution_count": 1,
      "metadata": {
        "id": "F8Cy1KAK-94A"
      },
      "outputs": [],
      "source": [
        "import pandas as pd\n",
        "from IPython.display import clear_output\n",
        "import io\n",
        "import os\n",
        "import glob\n",
        "import zipfile\n",
        "import shutil\n",
        "\n",
        "import numpy as np\n",
        "import random as python_random\n",
        "import matplotlib.pyplot as plt\n",
        "import seaborn as sns\n",
        "import sklearn.metrics as sklm\n",
        "from sklearn.utils import shuffle\n",
        "import tensorflow as tf\n",
        "\n",
        "seed=19\n",
        "np.random.seed(seed)\n",
        "python_random.seed(seed)"
      ]
    },
    {
      "cell_type": "code",
      "execution_count": null,
      "metadata": {
        "colab": {
          "base_uri": "https://localhost:8080/"
        },
        "id": "BayZ7Jpx_Cer",
        "outputId": "0f2ab8bc-68d3-4c0b-e3e3-3bfdac3dac09"
      },
      "outputs": [],
      "source": [
        "\n",
        "dataset_path=\"./DataSet/\"\n",
        "os.makedirs(dataset_path, exist_ok=True)"
      ]
    },
    {
      "cell_type": "code",
      "execution_count": 4,
      "metadata": {},
      "outputs": [],
      "source": [
        "chexpert_meta_data = pd.read_csv(dataset_path+'train_visualCheXbert.csv')"
      ]
    },
    {
      "cell_type": "code",
      "execution_count": 5,
      "metadata": {
        "colab": {
          "base_uri": "https://localhost:8080/",
          "height": 426
        },
        "id": "EGaEQCWz_C-z",
        "outputId": "662e7d8b-3e8e-455c-bf4b-880d080722e0"
      },
      "outputs": [
        {
          "data": {
            "text/html": [
              "<div>\n",
              "<style scoped>\n",
              "    .dataframe tbody tr th:only-of-type {\n",
              "        vertical-align: middle;\n",
              "    }\n",
              "\n",
              "    .dataframe tbody tr th {\n",
              "        vertical-align: top;\n",
              "    }\n",
              "\n",
              "    .dataframe thead th {\n",
              "        text-align: right;\n",
              "    }\n",
              "</style>\n",
              "<table border=\"1\" class=\"dataframe\">\n",
              "  <thead>\n",
              "    <tr style=\"text-align: right;\">\n",
              "      <th></th>\n",
              "      <th>Path</th>\n",
              "      <th>Sex</th>\n",
              "      <th>Age</th>\n",
              "      <th>Frontal/Lateral</th>\n",
              "      <th>AP/PA</th>\n",
              "      <th>Enlarged Cardiomediastinum</th>\n",
              "      <th>Cardiomegaly</th>\n",
              "      <th>Lung Opacity</th>\n",
              "      <th>Lung Lesion</th>\n",
              "      <th>Edema</th>\n",
              "      <th>Consolidation</th>\n",
              "      <th>Pneumonia</th>\n",
              "      <th>Atelectasis</th>\n",
              "      <th>Pneumothorax</th>\n",
              "      <th>Pleural Effusion</th>\n",
              "      <th>Pleural Other</th>\n",
              "      <th>Fracture</th>\n",
              "      <th>Support Devices</th>\n",
              "      <th>No Finding</th>\n",
              "    </tr>\n",
              "  </thead>\n",
              "  <tbody>\n",
              "    <tr>\n",
              "      <th>0</th>\n",
              "      <td>CheXpert-v1.0/train/patient00001/study1/view1_...</td>\n",
              "      <td>Female</td>\n",
              "      <td>68</td>\n",
              "      <td>Frontal</td>\n",
              "      <td>AP</td>\n",
              "      <td>0.0</td>\n",
              "      <td>0.0</td>\n",
              "      <td>0.0</td>\n",
              "      <td>0.0</td>\n",
              "      <td>0.0</td>\n",
              "      <td>0.0</td>\n",
              "      <td>0.0</td>\n",
              "      <td>0.0</td>\n",
              "      <td>0.0</td>\n",
              "      <td>0.0</td>\n",
              "      <td>0.0</td>\n",
              "      <td>0.0</td>\n",
              "      <td>1.0</td>\n",
              "      <td>0.0</td>\n",
              "    </tr>\n",
              "    <tr>\n",
              "      <th>1</th>\n",
              "      <td>CheXpert-v1.0/train/patient00002/study2/view1_...</td>\n",
              "      <td>Female</td>\n",
              "      <td>87</td>\n",
              "      <td>Frontal</td>\n",
              "      <td>AP</td>\n",
              "      <td>1.0</td>\n",
              "      <td>1.0</td>\n",
              "      <td>1.0</td>\n",
              "      <td>0.0</td>\n",
              "      <td>1.0</td>\n",
              "      <td>1.0</td>\n",
              "      <td>0.0</td>\n",
              "      <td>1.0</td>\n",
              "      <td>0.0</td>\n",
              "      <td>1.0</td>\n",
              "      <td>0.0</td>\n",
              "      <td>0.0</td>\n",
              "      <td>0.0</td>\n",
              "      <td>0.0</td>\n",
              "    </tr>\n",
              "  </tbody>\n",
              "</table>\n",
              "</div>"
            ],
            "text/plain": [
              "                                                Path     Sex  Age  \\\n",
              "0  CheXpert-v1.0/train/patient00001/study1/view1_...  Female   68   \n",
              "1  CheXpert-v1.0/train/patient00002/study2/view1_...  Female   87   \n",
              "\n",
              "  Frontal/Lateral AP/PA  Enlarged Cardiomediastinum  Cardiomegaly  \\\n",
              "0         Frontal    AP                         0.0           0.0   \n",
              "1         Frontal    AP                         1.0           1.0   \n",
              "\n",
              "   Lung Opacity  Lung Lesion  Edema  Consolidation  Pneumonia  Atelectasis  \\\n",
              "0           0.0          0.0    0.0            0.0        0.0          0.0   \n",
              "1           1.0          0.0    1.0            1.0        0.0          1.0   \n",
              "\n",
              "   Pneumothorax  Pleural Effusion  Pleural Other  Fracture  Support Devices  \\\n",
              "0           0.0               0.0            0.0       0.0              1.0   \n",
              "1           0.0               1.0            0.0       0.0              0.0   \n",
              "\n",
              "   No Finding  \n",
              "0         0.0  \n",
              "1         0.0  "
            ]
          },
          "execution_count": 5,
          "metadata": {},
          "output_type": "execute_result"
        }
      ],
      "source": [
        "chexpert_meta_data.head(2)"
      ]
    },
    {
      "cell_type": "code",
      "execution_count": 6,
      "metadata": {},
      "outputs": [],
      "source": [
        "chexpert_meta_data['path_splited'] = chexpert_meta_data['Path'].str.split('/')\n",
        "chexpert_meta_data['patientid'] = chexpert_meta_data['path_splited'].apply(lambda x: x[2])\n",
        "\n",
        "# Insert 'patient_id' column at the second position\n",
        "chexpert_meta_data.insert(1, 'patient_id', chexpert_meta_data['patientid'])\n",
        "\n",
        "# Drop the intermediate 'path_splited' column\n",
        "chexpert_meta_data.drop('path_splited', axis=1, inplace=True)\n",
        "chexpert_meta_data.drop('patientid', axis=1, inplace=True)\n"
      ]
    },
    {
      "cell_type": "code",
      "execution_count": 7,
      "metadata": {},
      "outputs": [
        {
          "data": {
            "text/html": [
              "<div>\n",
              "<style scoped>\n",
              "    .dataframe tbody tr th:only-of-type {\n",
              "        vertical-align: middle;\n",
              "    }\n",
              "\n",
              "    .dataframe tbody tr th {\n",
              "        vertical-align: top;\n",
              "    }\n",
              "\n",
              "    .dataframe thead th {\n",
              "        text-align: right;\n",
              "    }\n",
              "</style>\n",
              "<table border=\"1\" class=\"dataframe\">\n",
              "  <thead>\n",
              "    <tr style=\"text-align: right;\">\n",
              "      <th></th>\n",
              "      <th>Path</th>\n",
              "      <th>patient_id</th>\n",
              "      <th>Sex</th>\n",
              "      <th>Age</th>\n",
              "      <th>Frontal/Lateral</th>\n",
              "      <th>AP/PA</th>\n",
              "      <th>Enlarged Cardiomediastinum</th>\n",
              "      <th>Cardiomegaly</th>\n",
              "      <th>Lung Opacity</th>\n",
              "      <th>Lung Lesion</th>\n",
              "      <th>Edema</th>\n",
              "      <th>Consolidation</th>\n",
              "      <th>Pneumonia</th>\n",
              "      <th>Atelectasis</th>\n",
              "      <th>Pneumothorax</th>\n",
              "      <th>Pleural Effusion</th>\n",
              "      <th>Pleural Other</th>\n",
              "      <th>Fracture</th>\n",
              "      <th>Support Devices</th>\n",
              "      <th>No Finding</th>\n",
              "    </tr>\n",
              "  </thead>\n",
              "  <tbody>\n",
              "    <tr>\n",
              "      <th>0</th>\n",
              "      <td>CheXpert-v1.0/train/patient00001/study1/view1_...</td>\n",
              "      <td>patient00001</td>\n",
              "      <td>Female</td>\n",
              "      <td>68</td>\n",
              "      <td>Frontal</td>\n",
              "      <td>AP</td>\n",
              "      <td>0.0</td>\n",
              "      <td>0.0</td>\n",
              "      <td>0.0</td>\n",
              "      <td>0.0</td>\n",
              "      <td>0.0</td>\n",
              "      <td>0.0</td>\n",
              "      <td>0.0</td>\n",
              "      <td>0.0</td>\n",
              "      <td>0.0</td>\n",
              "      <td>0.0</td>\n",
              "      <td>0.0</td>\n",
              "      <td>0.0</td>\n",
              "      <td>1.0</td>\n",
              "      <td>0.0</td>\n",
              "    </tr>\n",
              "    <tr>\n",
              "      <th>1</th>\n",
              "      <td>CheXpert-v1.0/train/patient00002/study2/view1_...</td>\n",
              "      <td>patient00002</td>\n",
              "      <td>Female</td>\n",
              "      <td>87</td>\n",
              "      <td>Frontal</td>\n",
              "      <td>AP</td>\n",
              "      <td>1.0</td>\n",
              "      <td>1.0</td>\n",
              "      <td>1.0</td>\n",
              "      <td>0.0</td>\n",
              "      <td>1.0</td>\n",
              "      <td>1.0</td>\n",
              "      <td>0.0</td>\n",
              "      <td>1.0</td>\n",
              "      <td>0.0</td>\n",
              "      <td>1.0</td>\n",
              "      <td>0.0</td>\n",
              "      <td>0.0</td>\n",
              "      <td>0.0</td>\n",
              "      <td>0.0</td>\n",
              "    </tr>\n",
              "  </tbody>\n",
              "</table>\n",
              "</div>"
            ],
            "text/plain": [
              "                                                Path    patient_id     Sex  \\\n",
              "0  CheXpert-v1.0/train/patient00001/study1/view1_...  patient00001  Female   \n",
              "1  CheXpert-v1.0/train/patient00002/study2/view1_...  patient00002  Female   \n",
              "\n",
              "   Age Frontal/Lateral AP/PA  Enlarged Cardiomediastinum  Cardiomegaly  \\\n",
              "0   68         Frontal    AP                         0.0           0.0   \n",
              "1   87         Frontal    AP                         1.0           1.0   \n",
              "\n",
              "   Lung Opacity  Lung Lesion  Edema  Consolidation  Pneumonia  Atelectasis  \\\n",
              "0           0.0          0.0    0.0            0.0        0.0          0.0   \n",
              "1           1.0          0.0    1.0            1.0        0.0          1.0   \n",
              "\n",
              "   Pneumothorax  Pleural Effusion  Pleural Other  Fracture  Support Devices  \\\n",
              "0           0.0               0.0            0.0       0.0              1.0   \n",
              "1           0.0               1.0            0.0       0.0              0.0   \n",
              "\n",
              "   No Finding  \n",
              "0         0.0  \n",
              "1         0.0  "
            ]
          },
          "execution_count": 7,
          "metadata": {},
          "output_type": "execute_result"
        }
      ],
      "source": [
        "chexpert_meta_data.head(2)"
      ]
    },
    {
      "cell_type": "code",
      "execution_count": 8,
      "metadata": {},
      "outputs": [],
      "source": [
        "chexpert_demo= pd.read_excel(dataset_path+'CHEXPERT DEMO.xlsx')"
      ]
    },
    {
      "cell_type": "code",
      "execution_count": 9,
      "metadata": {},
      "outputs": [],
      "source": [
        "# merge chexpert_meta_data with chexpert_demo\n",
        "merged_chexpert_df = pd.merge(chexpert_meta_data, chexpert_demo, left_on='patient_id', right_on='PATIENT', how='inner')\n"
      ]
    },
    {
      "cell_type": "code",
      "execution_count": 10,
      "metadata": {},
      "outputs": [
        {
          "data": {
            "text/plain": [
              "(222561, 25)"
            ]
          },
          "execution_count": 10,
          "metadata": {},
          "output_type": "execute_result"
        }
      ],
      "source": [
        "merged_chexpert_df.shape"
      ]
    },
    {
      "cell_type": "code",
      "execution_count": 11,
      "metadata": {},
      "outputs": [],
      "source": [
        "# Define the desired order of columns\n",
        "desired_columns_order = ['Path', 'patient_id', 'Sex', 'Age', 'Frontal/Lateral', 'AP/PA', 'PATIENT','GENDER',\n",
        "                         'PRIMARY_RACE','ETHNICITY','Enlarged Cardiomediastinum','Cardiomegaly','Lung Opacity',\n",
        "                         'Lung Lesion', 'Edema','Consolidation', 'Pneumonia','Atelectasis','Pneumothorax',\n",
        "                         'Pleural Effusion', 'Pleural Other','Fracture', 'Support Devices','No Finding'\n",
        "                         ]\n",
        "# Reorder the columns in the merged DataFrame\n",
        "reordered_CXP_df = merged_chexpert_df[desired_columns_order]"
      ]
    },
    {
      "cell_type": "code",
      "execution_count": 12,
      "metadata": {},
      "outputs": [
        {
          "name": "stderr",
          "output_type": "stream",
          "text": [
            "C:\\Users\\gebre\\AppData\\Local\\Temp\\ipykernel_4884\\2661509669.py:1: SettingWithCopyWarning: \n",
            "A value is trying to be set on a copy of a slice from a DataFrame.\n",
            "Try using .loc[row_indexer,col_indexer] = value instead\n",
            "\n",
            "See the caveats in the documentation: https://pandas.pydata.org/pandas-docs/stable/user_guide/indexing.html#returning-a-view-versus-a-copy\n",
            "  reordered_CXP_df['Age'] = reordered_CXP_df['Age'].astype('int64')\n"
          ]
        },
        {
          "data": {
            "text/html": [
              "<div>\n",
              "<style scoped>\n",
              "    .dataframe tbody tr th:only-of-type {\n",
              "        vertical-align: middle;\n",
              "    }\n",
              "\n",
              "    .dataframe tbody tr th {\n",
              "        vertical-align: top;\n",
              "    }\n",
              "\n",
              "    .dataframe thead th {\n",
              "        text-align: right;\n",
              "    }\n",
              "</style>\n",
              "<table border=\"1\" class=\"dataframe\">\n",
              "  <thead>\n",
              "    <tr style=\"text-align: right;\">\n",
              "      <th></th>\n",
              "      <th>Path</th>\n",
              "      <th>patient_id</th>\n",
              "      <th>Sex</th>\n",
              "      <th>Age</th>\n",
              "      <th>age_decile</th>\n",
              "      <th>Frontal/Lateral</th>\n",
              "      <th>AP/PA</th>\n",
              "      <th>PATIENT</th>\n",
              "      <th>GENDER</th>\n",
              "      <th>PRIMARY_RACE</th>\n",
              "      <th>...</th>\n",
              "      <th>Edema</th>\n",
              "      <th>Consolidation</th>\n",
              "      <th>Pneumonia</th>\n",
              "      <th>Atelectasis</th>\n",
              "      <th>Pneumothorax</th>\n",
              "      <th>Pleural Effusion</th>\n",
              "      <th>Pleural Other</th>\n",
              "      <th>Fracture</th>\n",
              "      <th>Support Devices</th>\n",
              "      <th>No Finding</th>\n",
              "    </tr>\n",
              "  </thead>\n",
              "  <tbody>\n",
              "    <tr>\n",
              "      <th>0</th>\n",
              "      <td>CheXpert-v1.0/train/patient00001/study1/view1_...</td>\n",
              "      <td>patient00001</td>\n",
              "      <td>Female</td>\n",
              "      <td>68</td>\n",
              "      <td>60-80</td>\n",
              "      <td>Frontal</td>\n",
              "      <td>AP</td>\n",
              "      <td>patient00001</td>\n",
              "      <td>Female</td>\n",
              "      <td>Other</td>\n",
              "      <td>...</td>\n",
              "      <td>0.0</td>\n",
              "      <td>0.0</td>\n",
              "      <td>0.0</td>\n",
              "      <td>0.0</td>\n",
              "      <td>0.0</td>\n",
              "      <td>0.0</td>\n",
              "      <td>0.0</td>\n",
              "      <td>0.0</td>\n",
              "      <td>1.0</td>\n",
              "      <td>0.0</td>\n",
              "    </tr>\n",
              "    <tr>\n",
              "      <th>1</th>\n",
              "      <td>CheXpert-v1.0/train/patient00002/study2/view1_...</td>\n",
              "      <td>patient00002</td>\n",
              "      <td>Female</td>\n",
              "      <td>87</td>\n",
              "      <td>80+</td>\n",
              "      <td>Frontal</td>\n",
              "      <td>AP</td>\n",
              "      <td>patient00002</td>\n",
              "      <td>Female</td>\n",
              "      <td>White, non-Hispanic</td>\n",
              "      <td>...</td>\n",
              "      <td>1.0</td>\n",
              "      <td>1.0</td>\n",
              "      <td>0.0</td>\n",
              "      <td>1.0</td>\n",
              "      <td>0.0</td>\n",
              "      <td>1.0</td>\n",
              "      <td>0.0</td>\n",
              "      <td>0.0</td>\n",
              "      <td>0.0</td>\n",
              "      <td>0.0</td>\n",
              "    </tr>\n",
              "  </tbody>\n",
              "</table>\n",
              "<p>2 rows × 25 columns</p>\n",
              "</div>"
            ],
            "text/plain": [
              "                                                Path    patient_id     Sex  \\\n",
              "0  CheXpert-v1.0/train/patient00001/study1/view1_...  patient00001  Female   \n",
              "1  CheXpert-v1.0/train/patient00002/study2/view1_...  patient00002  Female   \n",
              "\n",
              "   Age age_decile Frontal/Lateral AP/PA       PATIENT  GENDER  \\\n",
              "0   68      60-80         Frontal    AP  patient00001  Female   \n",
              "1   87        80+         Frontal    AP  patient00002  Female   \n",
              "\n",
              "          PRIMARY_RACE  ... Edema  Consolidation  Pneumonia  Atelectasis  \\\n",
              "0                Other  ...   0.0            0.0        0.0          0.0   \n",
              "1  White, non-Hispanic  ...   1.0            1.0        0.0          1.0   \n",
              "\n",
              "   Pneumothorax  Pleural Effusion  Pleural Other  Fracture  Support Devices  \\\n",
              "0           0.0               0.0            0.0       0.0              1.0   \n",
              "1           0.0               1.0            0.0       0.0              0.0   \n",
              "\n",
              "   No Finding  \n",
              "0         0.0  \n",
              "1         0.0  \n",
              "\n",
              "[2 rows x 25 columns]"
            ]
          },
          "metadata": {},
          "output_type": "display_data"
        }
      ],
      "source": [
        "reordered_CXP_df['Age'] = reordered_CXP_df['Age'].astype('int64')\n",
        "\n",
        "reordered_CXP_df.insert(reordered_CXP_df.columns.get_loc('Age') + 1, 'age_decile', None)\n",
        "\n",
        "# Define custom bin edges and labels\n",
        "bin_edges = [0, 20, 40, 60, 80, float('inf')]\n",
        "bin_labels = ['0-20', '20-40', '40-60', '60-80', '80+']\n",
        "\n",
        "# Use cut to create age deciles based on custom bins\n",
        "reordered_CXP_df['age_decile'] = pd.cut(reordered_CXP_df['Age'],\n",
        "                                    bins=bin_edges, labels=bin_labels,\n",
        "                                    right=False)\n",
        "display(reordered_CXP_df.head(2))"
      ]
    },
    {
      "cell_type": "code",
      "execution_count": 13,
      "metadata": {},
      "outputs": [
        {
          "data": {
            "text/plain": [
              "(222561, 25)"
            ]
          },
          "execution_count": 13,
          "metadata": {},
          "output_type": "execute_result"
        }
      ],
      "source": [
        "reordered_CXP_df.shape"
      ]
    },
    {
      "cell_type": "code",
      "execution_count": 14,
      "metadata": {},
      "outputs": [
        {
          "data": {
            "text/plain": [
              "PRIMARY_RACE\n",
              "White                                        102402\n",
              "Other                                         28095\n",
              "White, non-Hispanic                           22154\n",
              "Asian                                         20434\n",
              "Unknown                                       15186\n",
              "Black or African American                      9909\n",
              "Race and Ethnicity Unknown                     8716\n",
              "Other, Hispanic                                3621\n",
              "Native Hawaiian or Other Pacific Islander      2809\n",
              "Asian, non-Hispanic                            2793\n",
              "Black, non-Hispanic                            2000\n",
              "White, Hispanic                                 922\n",
              "Other, non-Hispanic                             566\n",
              "American Indian or Alaska Native                457\n",
              "Patient Refused                                 405\n",
              "Pacific Islander, non-Hispanic                  337\n",
              "Native American, non-Hispanic                    55\n",
              "Black, Hispanic                                  52\n",
              "Asian, Hispanic                                  37\n",
              "Native American, Hispanic                        25\n",
              "White or Caucasian                               13\n",
              "Pacific Islander, Hispanic                       10\n",
              "Asian - Historical Conv                           8\n",
              "Name: count, dtype: int64"
            ]
          },
          "execution_count": 14,
          "metadata": {},
          "output_type": "execute_result"
        }
      ],
      "source": [
        "reordered_CXP_df.PRIMARY_RACE.value_counts()"
      ]
    },
    {
      "cell_type": "code",
      "execution_count": 16,
      "metadata": {},
      "outputs": [],
      "source": [
        "race_mapping = {\n",
        "    'White': 'WHITE',\n",
        "    'White, non-Hispanic': 'WHITE',\n",
        "    'White or Caucasian': 'WHITE',\n",
        "    'Black or African American': 'BLACK/AFRICAN AMERICAN',\n",
        "    'Black, non-Hispanic': 'BLACK/AFRICAN AMERICAN',\n",
        "    'Other':'OTHER',\n",
        "    'Other, non-Hispanic':'OTHER',\n",
        "    'Black, Hispanic':'HISPANIC/LATINO',\n",
        "    'White, Hispanic':'HISPANIC/LATINO',\n",
        "    'Other, Hispanic':'HISPANIC/LATINO',\n",
        "    'Pacific Islander, Hispanic':'HISPANIC/LATINO',\n",
        "    'Native American, Hispanic':'HISPANIC/LATINO',\n",
        "    'Asian':'ASIAN',\n",
        "    'Asian, Hispanic':'ASIAN',\n",
        "    'Asian - Historical Conv':'ASIAN',\n",
        "    'Asian, non-Hispanic':'ASIAN',\n",
        "    'Native Hawaiian or Other Pacific Islander':'AMERICAN INDIAN/ALASKA NATIVE',\n",
        "    'American Indian or Alaska Native':'AMERICAN INDIAN/ALASKA NATIVE',\n",
        "    'Pacific Islander, non-Hispanic':'AMERICAN INDIAN/ALASKA NATIVE',\n",
        "    'Native American, non-Hispanic':'AMERICAN INDIAN/ALASKA NATIVE'\n",
        "}"
      ]
    },
    {
      "cell_type": "code",
      "execution_count": 17,
      "metadata": {},
      "outputs": [],
      "source": [
        "# Apply the mapping to create a new column 'Race'\n",
        "reordered_CXP_df['Race'] = reordered_CXP_df['PRIMARY_RACE'].map(race_mapping)"
      ]
    },
    {
      "cell_type": "code",
      "execution_count": 18,
      "metadata": {},
      "outputs": [
        {
          "name": "stdout",
          "output_type": "stream",
          "text": [
            "Race\n",
            "WHITE                            124569\n",
            "OTHER                             28661\n",
            "ASIAN                             23272\n",
            "BLACK/AFRICAN AMERICAN            11909\n",
            "HISPANIC/LATINO                    4630\n",
            "AMERICAN INDIAN/ALASKA NATIVE      3658\n",
            "Name: count, dtype: int64\n"
          ]
        }
      ],
      "source": [
        "# Check the value counts of the race now\n",
        "print(reordered_CXP_df['Race'].value_counts())"
      ]
    },
    {
      "cell_type": "code",
      "execution_count": 19,
      "metadata": {},
      "outputs": [],
      "source": [
        "reordered_CXP_df = reordered_CXP_df.drop(columns=['ETHNICITY','Age','Frontal/Lateral','AP/PA','PRIMARY_RACE'], axis=1)"
      ]
    },
    {
      "cell_type": "code",
      "execution_count": 20,
      "metadata": {},
      "outputs": [
        {
          "name": "stdout",
          "output_type": "stream",
          "text": [
            "<class 'pandas.core.frame.DataFrame'>\n",
            "RangeIndex: 222561 entries, 0 to 222560\n",
            "Data columns (total 21 columns):\n",
            " #   Column                      Non-Null Count   Dtype   \n",
            "---  ------                      --------------   -----   \n",
            " 0   Path                        222561 non-null  object  \n",
            " 1   patient_id                  222561 non-null  object  \n",
            " 2   Sex                         222561 non-null  object  \n",
            " 3   age_decile                  222561 non-null  category\n",
            " 4   PATIENT                     222561 non-null  object  \n",
            " 5   GENDER                      222561 non-null  object  \n",
            " 6   Enlarged Cardiomediastinum  222561 non-null  float64 \n",
            " 7   Cardiomegaly                222561 non-null  float64 \n",
            " 8   Lung Opacity                222561 non-null  float64 \n",
            " 9   Lung Lesion                 222561 non-null  float64 \n",
            " 10  Edema                       222561 non-null  float64 \n",
            " 11  Consolidation               222561 non-null  float64 \n",
            " 12  Pneumonia                   222561 non-null  float64 \n",
            " 13  Atelectasis                 222561 non-null  float64 \n",
            " 14  Pneumothorax                222561 non-null  float64 \n",
            " 15  Pleural Effusion            222561 non-null  float64 \n",
            " 16  Pleural Other               222561 non-null  float64 \n",
            " 17  Fracture                    222561 non-null  float64 \n",
            " 18  Support Devices             222561 non-null  float64 \n",
            " 19  No Finding                  222561 non-null  float64 \n",
            " 20  Race                        196699 non-null  object  \n",
            "dtypes: category(1), float64(14), object(6)\n",
            "memory usage: 34.2+ MB\n"
          ]
        }
      ],
      "source": [
        "reordered_CXP_df.info()"
      ]
    },
    {
      "cell_type": "code",
      "execution_count": 21,
      "metadata": {},
      "outputs": [],
      "source": [
        "reordered_CXP_df.rename(columns={'Path':'path'},inplace=True)"
      ]
    },
    {
      "cell_type": "code",
      "execution_count": 22,
      "metadata": {},
      "outputs": [],
      "source": [
        "# Path to the extracted npz files\n",
        "train_file_path = os.path.join(dataset_path, 'train.npz')\n"
      ]
    },
    {
      "cell_type": "code",
      "execution_count": 23,
      "metadata": {},
      "outputs": [],
      "source": [
        "# Load the datasets\n",
        "chexpert_dataset = np.load(train_file_path, allow_pickle=True)"
      ]
    },
    {
      "cell_type": "code",
      "execution_count": 24,
      "metadata": {},
      "outputs": [
        {
          "name": "stdout",
          "output_type": "stream",
          "text": [
            "Length of train dataset : 223414\n"
          ]
        }
      ],
      "source": [
        "print(f'Length of train dataset : {len(chexpert_dataset)}')"
      ]
    },
    {
      "cell_type": "code",
      "execution_count": 25,
      "metadata": {},
      "outputs": [
        {
          "name": "stdout",
          "output_type": "stream",
          "text": [
            "CheXpert-v1.0/train/patient00001/study1/view1_frontal.jpg [-0.64997774 -2.12270832  0.84318995 ... -0.29365113  0.3868877\n",
            " -0.38179815]\n"
          ]
        }
      ],
      "source": [
        "for key in chexpert_dataset.keys():\n",
        "  print(key,chexpert_dataset[key])\n",
        "  break\n"
      ]
    },
    {
      "cell_type": "code",
      "execution_count": 26,
      "metadata": {},
      "outputs": [],
      "source": [
        "# # Convert train_dataset to a Pandas DataFrame for efficient merging\n",
        "train_df = pd.DataFrame(list(chexpert_dataset.items()), columns=['path', 'features'])"
      ]
    },
    {
      "cell_type": "code",
      "execution_count": 27,
      "metadata": {},
      "outputs": [
        {
          "name": "stdout",
          "output_type": "stream",
          "text": [
            "<class 'pandas.core.frame.DataFrame'>\n",
            "RangeIndex: 223414 entries, 0 to 223413\n",
            "Data columns (total 2 columns):\n",
            " #   Column    Non-Null Count   Dtype \n",
            "---  ------    --------------   ----- \n",
            " 0   path      223414 non-null  object\n",
            " 1   features  223414 non-null  object\n",
            "dtypes: object(2)\n",
            "memory usage: 3.4+ MB\n"
          ]
        }
      ],
      "source": [
        "train_df.info()"
      ]
    },
    {
      "cell_type": "code",
      "execution_count": 30,
      "metadata": {},
      "outputs": [
        {
          "name": "stdout",
          "output_type": "stream",
          "text": [
            "1376\n",
            "[-0.64997774 -2.12270832  0.84318995 ... -0.29365113  0.3868877\n",
            " -0.38179815]\n"
          ]
        }
      ],
      "source": [
        "print(len(train_df.features[0]))\n",
        "print(train_df.features[0])"
      ]
    },
    {
      "cell_type": "code",
      "execution_count": 27,
      "metadata": {},
      "outputs": [],
      "source": [
        "# Merge metadata with train_dataset\n",
        "cxp_df = pd.merge(reordered_CXP_df, train_df, on='path', how='inner')"
      ]
    },
    {
      "cell_type": "code",
      "execution_count": 28,
      "metadata": {},
      "outputs": [
        {
          "name": "stdout",
          "output_type": "stream",
          "text": [
            "<class 'pandas.core.frame.DataFrame'>\n",
            "RangeIndex: 222561 entries, 0 to 222560\n",
            "Data columns (total 22 columns):\n",
            " #   Column                      Non-Null Count   Dtype   \n",
            "---  ------                      --------------   -----   \n",
            " 0   path                        222561 non-null  object  \n",
            " 1   patient_id                  222561 non-null  object  \n",
            " 2   Sex                         222561 non-null  object  \n",
            " 3   age_decile                  222561 non-null  category\n",
            " 4   PATIENT                     222561 non-null  object  \n",
            " 5   GENDER                      222561 non-null  object  \n",
            " 6   Enlarged Cardiomediastinum  222561 non-null  float64 \n",
            " 7   Cardiomegaly                222561 non-null  float64 \n",
            " 8   Lung Opacity                222561 non-null  float64 \n",
            " 9   Lung Lesion                 222561 non-null  float64 \n",
            " 10  Edema                       222561 non-null  float64 \n",
            " 11  Consolidation               222561 non-null  float64 \n",
            " 12  Pneumonia                   222561 non-null  float64 \n",
            " 13  Atelectasis                 222561 non-null  float64 \n",
            " 14  Pneumothorax                222561 non-null  float64 \n",
            " 15  Pleural Effusion            222561 non-null  float64 \n",
            " 16  Pleural Other               222561 non-null  float64 \n",
            " 17  Fracture                    222561 non-null  float64 \n",
            " 18  Support Devices             222561 non-null  float64 \n",
            " 19  No Finding                  222561 non-null  float64 \n",
            " 20  Race                        196699 non-null  object  \n",
            " 21  features                    222561 non-null  object  \n",
            "dtypes: category(1), float64(14), object(7)\n",
            "memory usage: 35.9+ MB\n"
          ]
        }
      ],
      "source": [
        "cxp_df.info()"
      ]
    },
    {
      "cell_type": "code",
      "execution_count": 29,
      "metadata": {},
      "outputs": [],
      "source": [
        "# Define the desired order of columns\n",
        "desired_columns_order = ['path', 'patient_id', 'Sex', 'age_decile', 'PATIENT','GENDER',\n",
        "                         'Race','features','Enlarged Cardiomediastinum','Cardiomegaly','Lung Opacity',\n",
        "                         'Lung Lesion', 'Edema','Consolidation', 'Pneumonia','Atelectasis','Pneumothorax',\n",
        "                         'Pleural Effusion', 'Pleural Other','Fracture', 'Support Devices','No Finding'\n",
        "                         ]\n",
        "# Reorder the columns in the merged DataFrame\n",
        "cxp_df = cxp_df[desired_columns_order]"
      ]
    },
    {
      "cell_type": "code",
      "execution_count": 30,
      "metadata": {},
      "outputs": [],
      "source": [
        "cxp_df.rename(columns={'GENDER':'gender','Race':'race'},inplace=True)"
      ]
    },
    {
      "cell_type": "code",
      "execution_count": 31,
      "metadata": {},
      "outputs": [],
      "source": [
        "cxp_df.drop(columns=['Sex'],inplace=True)"
      ]
    },
    {
      "cell_type": "code",
      "execution_count": 32,
      "metadata": {},
      "outputs": [],
      "source": [
        "\n",
        "# cxp_df.rename(columns={'patient_id':'PATIENT'},inplace=True)\n",
        "\n"
      ]
    },
    {
      "cell_type": "code",
      "execution_count": 33,
      "metadata": {},
      "outputs": [],
      "source": [
        "cxp_df=cxp_df[cxp_df['gender'] != 'Unknown']"
      ]
    },
    {
      "cell_type": "code",
      "execution_count": 34,
      "metadata": {},
      "outputs": [
        {
          "name": "stdout",
          "output_type": "stream",
          "text": [
            "<class 'pandas.core.frame.DataFrame'>\n",
            "Index: 222560 entries, 0 to 222560\n",
            "Data columns (total 21 columns):\n",
            " #   Column                      Non-Null Count   Dtype   \n",
            "---  ------                      --------------   -----   \n",
            " 0   path                        222560 non-null  object  \n",
            " 1   patient_id                  222560 non-null  object  \n",
            " 2   age_decile                  222560 non-null  category\n",
            " 3   PATIENT                     222560 non-null  object  \n",
            " 4   gender                      222560 non-null  object  \n",
            " 5   race                        196699 non-null  object  \n",
            " 6   features                    222560 non-null  object  \n",
            " 7   Enlarged Cardiomediastinum  222560 non-null  float64 \n",
            " 8   Cardiomegaly                222560 non-null  float64 \n",
            " 9   Lung Opacity                222560 non-null  float64 \n",
            " 10  Lung Lesion                 222560 non-null  float64 \n",
            " 11  Edema                       222560 non-null  float64 \n",
            " 12  Consolidation               222560 non-null  float64 \n",
            " 13  Pneumonia                   222560 non-null  float64 \n",
            " 14  Atelectasis                 222560 non-null  float64 \n",
            " 15  Pneumothorax                222560 non-null  float64 \n",
            " 16  Pleural Effusion            222560 non-null  float64 \n",
            " 17  Pleural Other               222560 non-null  float64 \n",
            " 18  Fracture                    222560 non-null  float64 \n",
            " 19  Support Devices             222560 non-null  float64 \n",
            " 20  No Finding                  222560 non-null  float64 \n",
            "dtypes: category(1), float64(14), object(6)\n",
            "memory usage: 35.9+ MB\n"
          ]
        }
      ],
      "source": [
        "cxp_df.info()"
      ]
    },
    {
      "cell_type": "code",
      "execution_count": 35,
      "metadata": {},
      "outputs": [],
      "source": [
        "unique_pathId = cxp_df.PATIENT.unique()\n",
        "\n",
        "train_percent, valid_percent, test_percent = 0.80, 0.10, 0.10\n",
        "\n",
        "unique_path_id = shuffle(unique_pathId)\n",
        "value1 = (round(len(unique_path_id)*train_percent))\n",
        "value2 = (round(len(unique_path_id)*valid_percent))\n",
        "value3 = value1 + value2\n",
        "value4 = (round(len(unique_path_id)*test_percent))"
      ]
    },
    {
      "cell_type": "code",
      "execution_count": 36,
      "metadata": {},
      "outputs": [
        {
          "name": "stdout",
          "output_type": "stream",
          "text": [
            "Patients in training set: 51383\n"
          ]
        }
      ],
      "source": [
        "print(\"Patients in training set: \" + str(value1))"
      ]
    },
    {
      "cell_type": "code",
      "execution_count": 37,
      "metadata": {},
      "outputs": [
        {
          "name": "stdout",
          "output_type": "stream",
          "text": [
            "Patients in validation set: 6423\n"
          ]
        }
      ],
      "source": [
        "print(\"Patients in validation set: \" + str(value2))"
      ]
    },
    {
      "cell_type": "code",
      "execution_count": 38,
      "metadata": {},
      "outputs": [
        {
          "name": "stdout",
          "output_type": "stream",
          "text": [
            "Patients in testing set: 6423\n"
          ]
        }
      ],
      "source": [
        "print(\"Patients in testing set: \" + str(value4))"
      ]
    },
    {
      "cell_type": "code",
      "execution_count": 39,
      "metadata": {},
      "outputs": [
        {
          "name": "stdout",
          "output_type": "stream",
          "text": [
            "<class 'numpy.ndarray'>\n",
            "['patient21555' 'patient25100' 'patient62713' ... 'patient18602'\n",
            " 'patient58251' 'patient23028']\n"
          ]
        }
      ],
      "source": [
        "data_df = shuffle(cxp_df)\n",
        "\n",
        "train_path_id = unique_path_id[:value1]\n",
        "validate_path_id = unique_path_id[value1:value3]\n",
        "test_path_id = unique_path_id[value3:]\n",
        "\n",
        "print(type(train_path_id))\n",
        "print(train_path_id)"
      ]
    },
    {
      "cell_type": "code",
      "execution_count": 40,
      "metadata": {},
      "outputs": [],
      "source": [
        "data_df.insert(7, \"split\",\"none\", True)"
      ]
    },
    {
      "cell_type": "code",
      "execution_count": 41,
      "metadata": {},
      "outputs": [],
      "source": [
        "data_df.rename(columns={'patient_id':'subject id'},inplace=True)"
      ]
    },
    {
      "cell_type": "code",
      "execution_count": 42,
      "metadata": {},
      "outputs": [
        {
          "data": {
            "text/plain": [
              "'CheXpert-v1.0/train/patient00001/study1/view1_frontal.jpg'"
            ]
          },
          "execution_count": 42,
          "metadata": {},
          "output_type": "execute_result"
        }
      ],
      "source": [
        "data_df.path[0]"
      ]
    },
    {
      "cell_type": "code",
      "execution_count": 43,
      "metadata": {},
      "outputs": [],
      "source": [
        "# data_df.to_csv(\"D:/Academics/Master/Thesis/CheXpert_Emb/CheXpert_Preprocessed.csv\")\n",
        "\n",
        "data_df['path'] = data_df['path'].str.replace(r'^CheXpert-v1.0/', '', regex=True)"
      ]
    },
    {
      "cell_type": "code",
      "execution_count": 44,
      "metadata": {},
      "outputs": [],
      "source": [
        "data_df['path'] = data_df['path'].str.replace('.jpg', '')"
      ]
    },
    {
      "cell_type": "code",
      "execution_count": 45,
      "metadata": {},
      "outputs": [
        {
          "data": {
            "text/html": [
              "<div>\n",
              "<style scoped>\n",
              "    .dataframe tbody tr th:only-of-type {\n",
              "        vertical-align: middle;\n",
              "    }\n",
              "\n",
              "    .dataframe tbody tr th {\n",
              "        vertical-align: top;\n",
              "    }\n",
              "\n",
              "    .dataframe thead th {\n",
              "        text-align: right;\n",
              "    }\n",
              "</style>\n",
              "<table border=\"1\" class=\"dataframe\">\n",
              "  <thead>\n",
              "    <tr style=\"text-align: right;\">\n",
              "      <th></th>\n",
              "      <th>path</th>\n",
              "      <th>subject id</th>\n",
              "      <th>age_decile</th>\n",
              "      <th>PATIENT</th>\n",
              "      <th>gender</th>\n",
              "      <th>race</th>\n",
              "      <th>features</th>\n",
              "      <th>split</th>\n",
              "      <th>Enlarged Cardiomediastinum</th>\n",
              "      <th>Cardiomegaly</th>\n",
              "      <th>...</th>\n",
              "      <th>Edema</th>\n",
              "      <th>Consolidation</th>\n",
              "      <th>Pneumonia</th>\n",
              "      <th>Atelectasis</th>\n",
              "      <th>Pneumothorax</th>\n",
              "      <th>Pleural Effusion</th>\n",
              "      <th>Pleural Other</th>\n",
              "      <th>Fracture</th>\n",
              "      <th>Support Devices</th>\n",
              "      <th>No Finding</th>\n",
              "    </tr>\n",
              "  </thead>\n",
              "  <tbody>\n",
              "    <tr>\n",
              "      <th>111127</th>\n",
              "      <td>train/patient26731/study3/view1_frontal</td>\n",
              "      <td>patient26731</td>\n",
              "      <td>40-60</td>\n",
              "      <td>patient26731</td>\n",
              "      <td>Female</td>\n",
              "      <td>WHITE</td>\n",
              "      <td>[-0.223833829164505, -1.6410856246948242, 0.21...</td>\n",
              "      <td>none</td>\n",
              "      <td>1.0</td>\n",
              "      <td>0.0</td>\n",
              "      <td>...</td>\n",
              "      <td>0.0</td>\n",
              "      <td>1.0</td>\n",
              "      <td>1.0</td>\n",
              "      <td>1.0</td>\n",
              "      <td>1.0</td>\n",
              "      <td>1.0</td>\n",
              "      <td>0.0</td>\n",
              "      <td>1.0</td>\n",
              "      <td>1.0</td>\n",
              "      <td>0.0</td>\n",
              "    </tr>\n",
              "    <tr>\n",
              "      <th>167206</th>\n",
              "      <td>train/patient39150/study1/view1_frontal</td>\n",
              "      <td>patient39150</td>\n",
              "      <td>80+</td>\n",
              "      <td>patient39150</td>\n",
              "      <td>Male</td>\n",
              "      <td>WHITE</td>\n",
              "      <td>[0.43689048290252686, -1.9892404079437256, 0.6...</td>\n",
              "      <td>none</td>\n",
              "      <td>1.0</td>\n",
              "      <td>1.0</td>\n",
              "      <td>...</td>\n",
              "      <td>1.0</td>\n",
              "      <td>0.0</td>\n",
              "      <td>0.0</td>\n",
              "      <td>1.0</td>\n",
              "      <td>0.0</td>\n",
              "      <td>0.0</td>\n",
              "      <td>0.0</td>\n",
              "      <td>0.0</td>\n",
              "      <td>1.0</td>\n",
              "      <td>0.0</td>\n",
              "    </tr>\n",
              "  </tbody>\n",
              "</table>\n",
              "<p>2 rows × 22 columns</p>\n",
              "</div>"
            ],
            "text/plain": [
              "                                           path    subject id age_decile  \\\n",
              "111127  train/patient26731/study3/view1_frontal  patient26731      40-60   \n",
              "167206  train/patient39150/study1/view1_frontal  patient39150        80+   \n",
              "\n",
              "             PATIENT  gender   race  \\\n",
              "111127  patient26731  Female  WHITE   \n",
              "167206  patient39150    Male  WHITE   \n",
              "\n",
              "                                                 features split  \\\n",
              "111127  [-0.223833829164505, -1.6410856246948242, 0.21...  none   \n",
              "167206  [0.43689048290252686, -1.9892404079437256, 0.6...  none   \n",
              "\n",
              "        Enlarged Cardiomediastinum  Cardiomegaly  ...  Edema  Consolidation  \\\n",
              "111127                         1.0           0.0  ...    0.0            1.0   \n",
              "167206                         1.0           1.0  ...    1.0            0.0   \n",
              "\n",
              "        Pneumonia  Atelectasis  Pneumothorax  Pleural Effusion  Pleural Other  \\\n",
              "111127        1.0          1.0           1.0               1.0            0.0   \n",
              "167206        0.0          1.0           0.0               0.0            0.0   \n",
              "\n",
              "        Fracture  Support Devices  No Finding  \n",
              "111127       1.0              1.0         0.0  \n",
              "167206       0.0              1.0         0.0  \n",
              "\n",
              "[2 rows x 22 columns]"
            ]
          },
          "execution_count": 45,
          "metadata": {},
          "output_type": "execute_result"
        }
      ],
      "source": [
        "data_df.head(2)"
      ]
    },
    {
      "cell_type": "code",
      "execution_count": 46,
      "metadata": {},
      "outputs": [],
      "source": [
        "data_df.loc[data_df.PATIENT.isin(train_path_id), \"split\"]=\"train\"\n",
        "data_df.loc[data_df.PATIENT.isin(validate_path_id), \"split\"]=\"validate\"\n",
        "data_df.loc[data_df.PATIENT.isin(test_path_id), \"split\"]=\"test\"\n",
        "\n",
        "data_df['gender']=data_df['gender'].replace({'Male':'M','Female':'F'})"
      ]
    },
    {
      "cell_type": "code",
      "execution_count": 47,
      "metadata": {},
      "outputs": [
        {
          "data": {
            "text/plain": [
              "split\n",
              "train       178402\n",
              "test         22085\n",
              "validate     22073\n",
              "Name: count, dtype: int64"
            ]
          },
          "execution_count": 47,
          "metadata": {},
          "output_type": "execute_result"
        }
      ],
      "source": [
        "data_df.split.value_counts()"
      ]
    },
    {
      "cell_type": "code",
      "execution_count": 48,
      "metadata": {},
      "outputs": [],
      "source": [
        "df_train = data_df[data_df[\"split\"] == \"train\"]\n",
        "df_train.head(2)\n",
        "df_train.to_csv(dataset_path+\"cxp_train_df.csv\",index=False)"
      ]
    },
    {
      "cell_type": "code",
      "execution_count": 49,
      "metadata": {},
      "outputs": [
        {
          "data": {
            "text/plain": [
              "gender\n",
              "M    132089\n",
              "F     90471\n",
              "Name: count, dtype: int64"
            ]
          },
          "execution_count": 49,
          "metadata": {},
          "output_type": "execute_result"
        }
      ],
      "source": [
        "data_df.gender.value_counts()"
      ]
    },
    {
      "cell_type": "code",
      "execution_count": 50,
      "metadata": {},
      "outputs": [],
      "source": [
        "df_validate = data_df[data_df[\"split\"] == \"validate\"]\n",
        "df_validate.head(2)\n",
        "df_validate.to_csv(dataset_path+\"cxp_validation_df.csv\",index=False)"
      ]
    },
    {
      "cell_type": "code",
      "execution_count": 51,
      "metadata": {},
      "outputs": [],
      "source": [
        "\n",
        "df_test = data_df[data_df[\"split\"] == \"test\"]\n",
        "df_test = df_test.dropna(subset=['race']).reset_index(drop=True)\n",
        "df_test.shape\n",
        "df_test.to_csv(dataset_path+\"cxp_test_df.csv\",index=False)"
      ]
    },
    {
      "cell_type": "code",
      "execution_count": 52,
      "metadata": {},
      "outputs": [],
      "source": [
        "data_df=pd.concat([df_train,df_validate,df_test],axis=0)"
      ]
    },
    {
      "cell_type": "code",
      "execution_count": 53,
      "metadata": {},
      "outputs": [
        {
          "data": {
            "text/plain": [
              "(219946, 22)"
            ]
          },
          "execution_count": 53,
          "metadata": {},
          "output_type": "execute_result"
        }
      ],
      "source": [
        "data_df.shape"
      ]
    },
    {
      "cell_type": "code",
      "execution_count": 54,
      "metadata": {},
      "outputs": [
        {
          "data": {
            "image/png": "[encoded data removed]",
            "text/plain": [
              "<Figure size 640x480 with 1 Axes>"
            ]
          },
          "metadata": {},
          "output_type": "display_data"
        }
      ],
      "source": [
        "# Count the occurrences of each gender\n",
        "gender_counts = data_df.gender.value_counts()\n",
        "\n",
        "# Create a bar plot with labels\n",
        "fig, ax = plt.subplots()\n",
        "gender_counts.plot(kind='bar', color=['#999999', '#888888', '#777777', '#666666', '#555555', '#444444', '#333333'], ax=ax)\n",
        "\n",
        "# Add labels\n",
        "for i, v in enumerate(gender_counts):\n",
        "    ax.text(i, v + 0.5, str(v), ha='center', va='bottom')\n",
        "\n",
        "plt.title('Gender Distribution')\n",
        "plt.xlabel('Gender')\n",
        "plt.ylabel('Count')\n",
        "\n",
        "# Show the plot\n",
        "plt.show()\n"
      ]
    },
    {
      "cell_type": "code",
      "execution_count": 55,
      "metadata": {},
      "outputs": [
        {
          "data": {
            "image/png": "[encoded data removed]",
            "text/plain": [
              "<Figure size 600x600 with 1 Axes>"
            ]
          },
          "metadata": {},
          "output_type": "display_data"
        }
      ],
      "source": [
        "# Count the occurrences of each race\n",
        "gender_counts = data_df.gender.value_counts()\n",
        "\n",
        "# Define a Seaborn color palette with muted colors\n",
        "sns.set_palette(\"pastel\")\n",
        "\n",
        "# Create a pie chart using Seaborn\n",
        "plt.figure(figsize=(6, 6))  # Adjust the figure size as needed\n",
        "plt.pie(gender_counts, labels=gender_counts.index, autopct='%1.1f%%', startangle=140)\n",
        "plt.title('Gender pie chart')\n",
        "\n",
        "# Show the pie chart\n",
        "plt.axis('equal')\n",
        "plt.show()"
      ]
    },
    {
      "cell_type": "code",
      "execution_count": 56,
      "metadata": {},
      "outputs": [
        {
          "data": {
            "image/png": "[encoded data removed]",
            "text/plain": [
              "<Figure size 600x600 with 1 Axes>"
            ]
          },
          "metadata": {},
          "output_type": "display_data"
        }
      ],
      "source": [
        "# Count the occurrences of each race\n",
        "race_counts = data_df.race.value_counts()\n",
        "\n",
        "# Define a Seaborn color palette with muted colors\n",
        "sns.set_palette(\"pastel\")\n",
        "\n",
        "# Create a pie chart using Seaborn\n",
        "plt.figure(figsize=(6, 6))  # Adjust the figure size as needed\n",
        "plt.pie(race_counts, labels=race_counts.index, autopct='%1.1f%%', startangle=140)\n",
        "plt.title('Race Distribution')\n",
        "\n",
        "# Show the pie chart\n",
        "plt.axis('equal')\n",
        "plt.show()"
      ]
    },
    {
      "cell_type": "code",
      "execution_count": 57,
      "metadata": {},
      "outputs": [
        {
          "name": "stderr",
          "output_type": "stream",
          "text": [
            "C:\\Users\\gebre\\AppData\\Local\\Temp\\ipykernel_10880\\1176276377.py:6: FutureWarning: \n",
            "\n",
            "Passing `palette` without assigning `hue` is deprecated and will be removed in v0.14.0. Assign the `x` variable to `hue` and set `legend=False` for the same effect.\n",
            "\n",
            "  sns.countplot(data=data_df, x='age_decile', palette=\"pastel\")\n"
          ]
        },
        {
          "data": {
            "image/png": "[encoded data removed]",
            "text/plain": [
              "<Figure size 800x600 with 1 Axes>"
            ]
          },
          "metadata": {},
          "output_type": "display_data"
        }
      ],
      "source": [
        "# Set a Seaborn style with muted colors\n",
        "sns.set_palette(\"pastel\")\n",
        "\n",
        "# Create a count plot for age categories\n",
        "plt.figure(figsize=(8, 6))  # Adjust the figure size as needed\n",
        "sns.countplot(data=data_df, x='age_decile', palette=\"pastel\")\n",
        "plt.title('Age Distribution')\n",
        "plt.xlabel('Age Category')\n",
        "plt.ylabel('Count')\n",
        "\n",
        "# Show the count plot\n",
        "plt.xticks(rotation=45)  # Rotate x-axis labels for better readability\n",
        "plt.show()"
      ]
    },
    {
      "cell_type": "code",
      "execution_count": 58,
      "metadata": {},
      "outputs": [
        {
          "data": {
            "image/png": "[encoded data removed]",
            "text/plain": [
              "<Figure size 600x600 with 1 Axes>"
            ]
          },
          "metadata": {},
          "output_type": "display_data"
        }
      ],
      "source": [
        "# Count the occurrences of each race\n",
        "age_counts = data_df.age_decile.value_counts()\n",
        "\n",
        "# Define a Seaborn color palette with muted colors\n",
        "sns.set_palette(\"pastel\")\n",
        "\n",
        "# Create a pie chart using Seaborn\n",
        "plt.figure(figsize=(6, 6))  # Adjust the figure size as needed\n",
        "plt.pie(age_counts, labels=age_counts.index, autopct='%1.1f%%', startangle=140)\n",
        "plt.title('Age pie chart')\n",
        "\n",
        "# Show the pie chart\n",
        "plt.axis('equal')\n",
        "plt.show()"
      ]
    },
    {
      "cell_type": "code",
      "execution_count": 59,
      "metadata": {},
      "outputs": [],
      "source": [
        "\n",
        "data_df.to_csv(dataset_path+\"CheXpert_Preprocessed.csv\",index=False)"
      ]
    },
    {
      "cell_type": "code",
      "execution_count": 60,
      "metadata": {},
      "outputs": [],
      "source": [
        "labels_Columns=['Enlarged Cardiomediastinum','Cardiomegaly','Lung Opacity','Lung Lesion',\n",
        "                'Edema','Consolidation','Pneumonia','Atelectasis','Pneumothorax',\n",
        "                'Pleural Effusion','Pleural Other','Fracture','Support Devices','No Finding']\n"
      ]
    },
    {
      "cell_type": "code",
      "execution_count": 61,
      "metadata": {},
      "outputs": [
        {
          "data": {
            "text/plain": [
              "array([-0.64997774, -2.12270832,  0.84318995, ..., -0.29365113,\n",
              "        0.3868877 , -0.38179815])"
            ]
          },
          "execution_count": 61,
          "metadata": {},
          "output_type": "execute_result"
        }
      ],
      "source": [
        "df_train['features'][0]\n"
      ]
    },
    {
      "cell_type": "code",
      "execution_count": 62,
      "metadata": {},
      "outputs": [
        {
          "name": "stdout",
          "output_type": "stream",
          "text": [
            "(<tf.Tensor: shape=(1376,), dtype=float64, numpy=\n",
            "array([ 0.43689048, -1.98924041,  0.64045042, ..., -1.64703894,\n",
            "        0.47789672, -1.65304232])>, <tf.Tensor: shape=(14,), dtype=float64, numpy=array([1., 1., 1., 0., 1., 0., 0., 1., 0., 0., 0., 0., 1., 0.])>)\n",
            "(<tf.Tensor: shape=(1376,), dtype=float64, numpy=\n",
            "array([-0.69617951, -2.61596131,  0.33338141, ..., -0.6317538 ,\n",
            "        0.59661829, -0.67676336])>, <tf.Tensor: shape=(14,), dtype=float64, numpy=array([0., 0., 0., 1., 0., 0., 1., 0., 1., 0., 1., 1., 1., 0.])>)\n"
          ]
        }
      ],
      "source": [
        "# Create tf.data.Dataset objects for the datasets\n",
        "train_dataset = tf.data.Dataset.from_tensor_slices((df_train.features.values.tolist(), df_train[labels_Columns].values))\n",
        "\n",
        "for train in train_dataset.take(2):\n",
        "  print(train)"
      ]
    }
  ],
  "metadata": {
    "colab": {
      "provenance": []
    },
    "kernelspec": {
      "display_name": "Python 3",
      "name": "python3"
    },
    "language_info": {
      "codemirror_mode": {
        "name": "ipython",
        "version": 3
      },
      "file_extension": ".py",
      "mimetype": "text/x-python",
      "name": "python",
      "nbconvert_exporter": "python",
      "pygments_lexer": "ipython3",
      "version": "3.10.11"
    }
  },
  "nbformat": 4,
  "nbformat_minor": 0
}

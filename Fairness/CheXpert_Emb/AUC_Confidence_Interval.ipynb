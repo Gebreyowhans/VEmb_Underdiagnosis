{
 "cells": [
  {
   "cell_type": "code",
   "execution_count": 1,
   "metadata": {},
   "outputs": [],
   "source": [
    "import pandas as pd\n",
    "import numpy as np\n",
    "import math"
   ]
  },
  {
   "cell_type": "code",
   "execution_count": 2,
   "metadata": {},
   "outputs": [],
   "source": [
    "seed_19_auc = pd.read_csv(\"./Prediction_results/eval_19.csv\", usecols=[\"label\", \"class_auc\"]).rename(columns={'class_auc':'auc1'})\n",
    "seed_31_auc = pd.read_csv(\"./Prediction_results/eval_31.csv\", usecols=[\"label\", \"class_auc\"])\n",
    "seed_38_auc = pd.read_csv(\"./Prediction_results/eval_38.csv\", usecols=[\"label\", \"class_auc\"])\n",
    "seed_47_auc = pd.read_csv(\"./Prediction_results/eval_47.csv\", usecols=[\"label\", \"class_auc\"])\n",
    "seed_77_auc = pd.read_csv(\"./Prediction_results/eval_77.csv\", usecols=[\"label\", \"class_auc\"])"
   ]
  },
  {
   "cell_type": "code",
   "execution_count": 3,
   "metadata": {},
   "outputs": [
    {
     "data": {
      "text/html": [
       "<div>\n",
       "<style scoped>\n",
       "    .dataframe tbody tr th:only-of-type {\n",
       "        vertical-align: middle;\n",
       "    }\n",
       "\n",
       "    .dataframe tbody tr th {\n",
       "        vertical-align: top;\n",
       "    }\n",
       "\n",
       "    .dataframe thead th {\n",
       "        text-align: right;\n",
       "    }\n",
       "</style>\n",
       "<table border=\"1\" class=\"dataframe\">\n",
       "  <thead>\n",
       "    <tr style=\"text-align: right;\">\n",
       "      <th></th>\n",
       "      <th>label</th>\n",
       "      <th>auc1</th>\n",
       "      <th>auc2</th>\n",
       "      <th>auc3</th>\n",
       "      <th>auc4</th>\n",
       "      <th>auc5</th>\n",
       "    </tr>\n",
       "  </thead>\n",
       "  <tbody>\n",
       "    <tr>\n",
       "      <th>0</th>\n",
       "      <td>No Finding</td>\n",
       "      <td>0.955300</td>\n",
       "      <td>0.955742</td>\n",
       "      <td>0.955304</td>\n",
       "      <td>0.955170</td>\n",
       "      <td>0.955170</td>\n",
       "    </tr>\n",
       "    <tr>\n",
       "      <th>1</th>\n",
       "      <td>Enlarged Cardiomediastinum</td>\n",
       "      <td>0.921012</td>\n",
       "      <td>0.920911</td>\n",
       "      <td>0.920575</td>\n",
       "      <td>0.920886</td>\n",
       "      <td>0.920886</td>\n",
       "    </tr>\n",
       "    <tr>\n",
       "      <th>2</th>\n",
       "      <td>Cardiomegaly</td>\n",
       "      <td>0.901885</td>\n",
       "      <td>0.901858</td>\n",
       "      <td>0.902282</td>\n",
       "      <td>0.902493</td>\n",
       "      <td>0.902493</td>\n",
       "    </tr>\n",
       "    <tr>\n",
       "      <th>3</th>\n",
       "      <td>Lung Lesion</td>\n",
       "      <td>0.873334</td>\n",
       "      <td>0.872351</td>\n",
       "      <td>0.871822</td>\n",
       "      <td>0.871766</td>\n",
       "      <td>0.871766</td>\n",
       "    </tr>\n",
       "    <tr>\n",
       "      <th>4</th>\n",
       "      <td>Lung Opacity</td>\n",
       "      <td>0.933895</td>\n",
       "      <td>0.934252</td>\n",
       "      <td>0.933714</td>\n",
       "      <td>0.933744</td>\n",
       "      <td>0.933744</td>\n",
       "    </tr>\n",
       "    <tr>\n",
       "      <th>5</th>\n",
       "      <td>Edema</td>\n",
       "      <td>0.903534</td>\n",
       "      <td>0.904317</td>\n",
       "      <td>0.903367</td>\n",
       "      <td>0.903332</td>\n",
       "      <td>0.903332</td>\n",
       "    </tr>\n",
       "    <tr>\n",
       "      <th>6</th>\n",
       "      <td>Consolidation</td>\n",
       "      <td>0.906137</td>\n",
       "      <td>0.907067</td>\n",
       "      <td>0.906278</td>\n",
       "      <td>0.906184</td>\n",
       "      <td>0.906184</td>\n",
       "    </tr>\n",
       "    <tr>\n",
       "      <th>7</th>\n",
       "      <td>Pneumonia</td>\n",
       "      <td>0.863894</td>\n",
       "      <td>0.863844</td>\n",
       "      <td>0.863720</td>\n",
       "      <td>0.863425</td>\n",
       "      <td>0.863425</td>\n",
       "    </tr>\n",
       "    <tr>\n",
       "      <th>8</th>\n",
       "      <td>Atelectasis</td>\n",
       "      <td>0.908673</td>\n",
       "      <td>0.908461</td>\n",
       "      <td>0.907745</td>\n",
       "      <td>0.907484</td>\n",
       "      <td>0.907484</td>\n",
       "    </tr>\n",
       "    <tr>\n",
       "      <th>9</th>\n",
       "      <td>Pneumothorax</td>\n",
       "      <td>0.905869</td>\n",
       "      <td>0.905657</td>\n",
       "      <td>0.904553</td>\n",
       "      <td>0.904940</td>\n",
       "      <td>0.904940</td>\n",
       "    </tr>\n",
       "    <tr>\n",
       "      <th>10</th>\n",
       "      <td>Pleural Effusion</td>\n",
       "      <td>0.904314</td>\n",
       "      <td>0.904987</td>\n",
       "      <td>0.904586</td>\n",
       "      <td>0.904092</td>\n",
       "      <td>0.904092</td>\n",
       "    </tr>\n",
       "    <tr>\n",
       "      <th>11</th>\n",
       "      <td>Pleural Other</td>\n",
       "      <td>0.894721</td>\n",
       "      <td>0.895422</td>\n",
       "      <td>0.893471</td>\n",
       "      <td>0.892204</td>\n",
       "      <td>0.892204</td>\n",
       "    </tr>\n",
       "    <tr>\n",
       "      <th>12</th>\n",
       "      <td>Fracture</td>\n",
       "      <td>0.878471</td>\n",
       "      <td>0.878579</td>\n",
       "      <td>0.879169</td>\n",
       "      <td>0.877100</td>\n",
       "      <td>0.877100</td>\n",
       "    </tr>\n",
       "    <tr>\n",
       "      <th>13</th>\n",
       "      <td>Support Devices</td>\n",
       "      <td>0.942290</td>\n",
       "      <td>0.942504</td>\n",
       "      <td>0.942674</td>\n",
       "      <td>0.941459</td>\n",
       "      <td>0.941459</td>\n",
       "    </tr>\n",
       "  </tbody>\n",
       "</table>\n",
       "</div>"
      ],
      "text/plain": [
       "                         label      auc1      auc2      auc3      auc4  \\\n",
       "0                   No Finding  0.955300  0.955742  0.955304  0.955170   \n",
       "1   Enlarged Cardiomediastinum  0.921012  0.920911  0.920575  0.920886   \n",
       "2                 Cardiomegaly  0.901885  0.901858  0.902282  0.902493   \n",
       "3                  Lung Lesion  0.873334  0.872351  0.871822  0.871766   \n",
       "4                 Lung Opacity  0.933895  0.934252  0.933714  0.933744   \n",
       "5                        Edema  0.903534  0.904317  0.903367  0.903332   \n",
       "6                Consolidation  0.906137  0.907067  0.906278  0.906184   \n",
       "7                    Pneumonia  0.863894  0.863844  0.863720  0.863425   \n",
       "8                  Atelectasis  0.908673  0.908461  0.907745  0.907484   \n",
       "9                 Pneumothorax  0.905869  0.905657  0.904553  0.904940   \n",
       "10            Pleural Effusion  0.904314  0.904987  0.904586  0.904092   \n",
       "11               Pleural Other  0.894721  0.895422  0.893471  0.892204   \n",
       "12                    Fracture  0.878471  0.878579  0.879169  0.877100   \n",
       "13             Support Devices  0.942290  0.942504  0.942674  0.941459   \n",
       "\n",
       "        auc5  \n",
       "0   0.955170  \n",
       "1   0.920886  \n",
       "2   0.902493  \n",
       "3   0.871766  \n",
       "4   0.933744  \n",
       "5   0.903332  \n",
       "6   0.906184  \n",
       "7   0.863425  \n",
       "8   0.907484  \n",
       "9   0.904940  \n",
       "10  0.904092  \n",
       "11  0.892204  \n",
       "12  0.877100  \n",
       "13  0.941459  "
      ]
     },
     "execution_count": 3,
     "metadata": {},
     "output_type": "execute_result"
    }
   ],
   "source": [
    "auc = seed_19_auc[['label','auc1']]\n",
    "auc[\"auc2\"]=seed_31_auc['class_auc']\n",
    "auc[\"auc3\"]=seed_38_auc['class_auc']\n",
    "auc[\"auc4\"]=seed_47_auc['class_auc']\n",
    "auc[\"auc5\"]=seed_77_auc['class_auc']\n",
    "auc"
   ]
  },
  {
   "cell_type": "code",
   "execution_count": 4,
   "metadata": {},
   "outputs": [
    {
     "data": {
      "text/plain": [
       "auc1    0.907\n",
       "auc2    0.907\n",
       "auc3    0.906\n",
       "auc4    0.906\n",
       "auc5    0.906\n",
       "dtype: float64"
      ]
     },
     "execution_count": 4,
     "metadata": {},
     "output_type": "execute_result"
    }
   ],
   "source": [
    "numeric_cols = auc.select_dtypes(include='number').iloc[:, 0:]\n",
    "round(numeric_cols.mean(axis=0),3)"
   ]
  },
  {
   "cell_type": "code",
   "execution_count": 5,
   "metadata": {},
   "outputs": [
    {
     "name": "stdout",
     "output_type": "stream",
     "text": [
      "Mean of 14 aucs mean over 5 run:  0.906\n",
      " Confidence interval of 14 aucs mean over 5 run:  0.0\n"
     ]
    }
   ],
   "source": [
    "mean=round(numeric_cols.mean(axis=0).mean(),3)\n",
    "confidence_interval=round( 1.96 * numeric_cols.mean(axis=0).std()/np.sqrt(5) ,3 )\n",
    "\n",
    "print(\"Mean of 14 aucs mean over 5 run: \",mean)\n",
    "print(\" Confidence interval of 14 aucs mean over 5 run: \",confidence_interval)"
   ]
  },
  {
   "cell_type": "code",
   "execution_count": 6,
   "metadata": {},
   "outputs": [
    {
     "name": "stdout",
     "output_type": "stream",
     "text": [
      "mean of auce per disease over 5 run:     \n"
     ]
    },
    {
     "data": {
      "text/plain": [
       "0     0.955\n",
       "1     0.921\n",
       "2     0.902\n",
       "3     0.872\n",
       "4     0.934\n",
       "5     0.904\n",
       "6     0.906\n",
       "7     0.864\n",
       "8     0.908\n",
       "9     0.905\n",
       "10    0.904\n",
       "11    0.894\n",
       "12    0.878\n",
       "13    0.942\n",
       "dtype: float64"
      ]
     },
     "execution_count": 6,
     "metadata": {},
     "output_type": "execute_result"
    }
   ],
   "source": [
    "print(\"mean of auce per disease over 5 run:     \")\n",
    "round(numeric_cols.mean(axis=1),3)"
   ]
  },
  {
   "cell_type": "code",
   "execution_count": 7,
   "metadata": {},
   "outputs": [
    {
     "name": "stdout",
     "output_type": "stream",
     "text": [
      "confidence interval of auce per disease over 5 run:\n"
     ]
    },
    {
     "data": {
      "text/plain": [
       "0     0.000\n",
       "1     0.000\n",
       "2     0.000\n",
       "3     0.001\n",
       "4     0.000\n",
       "5     0.000\n",
       "6     0.000\n",
       "7     0.000\n",
       "8     0.000\n",
       "9     0.000\n",
       "10    0.000\n",
       "11    0.001\n",
       "12    0.001\n",
       "13    0.001\n",
       "dtype: float64"
      ]
     },
     "execution_count": 7,
     "metadata": {},
     "output_type": "execute_result"
    }
   ],
   "source": [
    "print(\"confidence interval of auce per disease over 5 run:\")\n",
    "round(1.96 * numeric_cols.std(axis=1)/ np.sqrt(5),3)"
   ]
  }
 ],
 "metadata": {
  "kernelspec": {
   "display_name": "base",
   "language": "python",
   "name": "python3"
  },
  "language_info": {
   "codemirror_mode": {
    "name": "ipython",
    "version": 3
   },
   "file_extension": ".py",
   "mimetype": "text/x-python",
   "name": "python",
   "nbconvert_exporter": "python",
   "pygments_lexer": "ipython3",
   "version": "3.11.7"
  }
 },
 "nbformat": 4,
 "nbformat_minor": 2
}

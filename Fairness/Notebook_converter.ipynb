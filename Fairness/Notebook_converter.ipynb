{
 "cells": [
  {
   "cell_type": "code",
   "execution_count": 3,
   "metadata": {},
   "outputs": [
    {
     "name": "stdout",
     "output_type": "stream",
     "text": [
      "Notebook saved as FPR_Confidence_MIMIC.py\n"
     ]
    }
   ],
   "source": [
    "import nbformat\n",
    "\n",
    "notebook_filename = \"FPR_FNR_NF_Confidence_MIMIC.ipynb\" \n",
    "output_python_file = \"FPR_Confidence_MIMIC.py\"\n",
    "\n",
    "with open(\"./MIMIC_CXR_EMB/\"+notebook_filename, \"r\", encoding=\"utf-8\") as nb_file:\n",
    "    nb_content = nbformat.read(nb_file, as_version=4)\n",
    "\n",
    "script_content = \"\\n\\n\".join(cell[\"source\"] for cell in nb_content[\"cells\"] if cell[\"cell_type\"] == \"code\")\n",
    "\n",
    "with open(output_python_file, \"w\", encoding=\"utf-8\") as py_file:\n",
    "    py_file.write(script_content)\n",
    "\n",
    "print(f\"Notebook saved as {output_python_file}\")"
   ]
  }
 ],
 "metadata": {
  "kernelspec": {
   "display_name": "Python 3",
   "language": "python",
   "name": "python3"
  },
  "language_info": {
   "codemirror_mode": {
    "name": "ipython",
    "version": 3
   },
   "file_extension": ".py",
   "mimetype": "text/x-python",
   "name": "python",
   "nbconvert_exporter": "python",
   "pygments_lexer": "ipython3",
   "version": "3.10.11"
  }
 },
 "nbformat": 4,
 "nbformat_minor": 2
}

{
 "cells": [
  {
   "cell_type": "code",
   "execution_count": 1,
   "metadata": {
    "id": "3SeZeMO7DDe6"
   },
   "outputs": [],
   "source": [
    "import pandas as pd\n",
    "import numpy as np\n",
    "import matplotlib.pyplot as plt\n",
    "import os\n",
    "from statistics import mean"
   ]
  },
  {
   "cell_type": "code",
   "execution_count": 2,
   "metadata": {
    "id": "aDggdFh4DVab"
   },
   "outputs": [],
   "source": [
    "number_of_runs=5\n",
    "significance_level=1.96 # for 95% ci\n",
    "height = 6\n",
    "font_size=14\n",
    "rotation_degree =15"
   ]
  },
  {
   "cell_type": "code",
   "execution_count": 3,
   "metadata": {
    "id": "h2gWGZHuEFz0"
   },
   "outputs": [],
   "source": [
    "sub_group_FPR = './FPR/SubGroup_FPR'"
   ]
  },
  {
   "cell_type": "markdown",
   "metadata": {
    "id": "TmtVqBmtJoKZ"
   },
   "source": [
    "## Sex"
   ]
  },
  {
   "cell_type": "code",
   "execution_count": 4,
   "metadata": {
    "colab": {
     "base_uri": "https://localhost:8080/",
     "height": 81
    },
    "executionInfo": {
     "elapsed": 4963,
     "status": "ok",
     "timestamp": 1708269574721,
     "user": {
      "displayName": "Gebreyowhans Hailekiros",
      "userId": "12795705954051366156"
     },
     "user_tz": 300
    },
    "id": "V0t9Uyo5ELKs",
    "outputId": "b918622a-98ff-4185-896b-fb189d8164c1"
   },
   "outputs": [
    {
     "data": {
      "text/html": [
       "<div>\n",
       "<style scoped>\n",
       "    .dataframe tbody tr th:only-of-type {\n",
       "        vertical-align: middle;\n",
       "    }\n",
       "\n",
       "    .dataframe tbody tr th {\n",
       "        vertical-align: top;\n",
       "    }\n",
       "\n",
       "    .dataframe thead th {\n",
       "        text-align: right;\n",
       "    }\n",
       "</style>\n",
       "<table border=\"1\" class=\"dataframe\">\n",
       "  <thead>\n",
       "    <tr style=\"text-align: right;\">\n",
       "      <th></th>\n",
       "      <th>diseases</th>\n",
       "      <th>#M</th>\n",
       "      <th>FPR_M</th>\n",
       "      <th>FNR_M</th>\n",
       "      <th>#F</th>\n",
       "      <th>FPR_F</th>\n",
       "      <th>FNR_F</th>\n",
       "    </tr>\n",
       "  </thead>\n",
       "  <tbody>\n",
       "    <tr>\n",
       "      <th>0</th>\n",
       "      <td>No Finding</td>\n",
       "      <td>18025</td>\n",
       "      <td>0.103</td>\n",
       "      <td>0.261</td>\n",
       "      <td>13001</td>\n",
       "      <td>0.126</td>\n",
       "      <td>0.215</td>\n",
       "    </tr>\n",
       "  </tbody>\n",
       "</table>\n",
       "</div>"
      ],
      "text/plain": [
       "     diseases     #M  FPR_M  FNR_M     #F  FPR_F  FNR_F\n",
       "0  No Finding  18025  0.103  0.261  13001  0.126  0.215"
      ]
     },
     "execution_count": 4,
     "metadata": {},
     "output_type": "execute_result"
    }
   ],
   "source": [
    "seed_19_sex = pd.read_csv(sub_group_FPR+\"/run_19FPR_FNR_NF_sex.csv\",index_col=0)\n",
    "seed_31_sex = pd.read_csv(sub_group_FPR+\"/run_31FPR_FNR_NF_sex.csv\",index_col=0)\n",
    "seed_38_sex = pd.read_csv(sub_group_FPR+\"/run_38FPR_FNR_NF_sex.csv\",index_col=0)\n",
    "seed_47_sex = pd.read_csv(sub_group_FPR+\"/run_47FPR_FNR_NF_sex.csv\",index_col=0)\n",
    "seed_77_sex = pd.read_csv(sub_group_FPR+\"/run_77FPR_FNR_NF_sex.csv\",index_col=0)\n",
    "seed_77_sex.head(5)"
   ]
  },
  {
   "cell_type": "code",
   "execution_count": 5,
   "metadata": {
    "id": "U-js0gEiEqzp"
   },
   "outputs": [],
   "source": [
    "sex_dataframes = [seed_19_sex, seed_31_sex, seed_38_sex, seed_47_sex, seed_77_sex]\n",
    "result_sex = pd.concat(sex_dataframes)\n",
    "\n",
    "result_sex_df = result_sex.describe()"
   ]
  },
  {
   "cell_type": "code",
   "execution_count": 6,
   "metadata": {
    "colab": {
     "base_uri": "https://localhost:8080/"
    },
    "executionInfo": {
     "elapsed": 9,
     "status": "ok",
     "timestamp": 1708269574721,
     "user": {
      "displayName": "Gebreyowhans Hailekiros",
      "userId": "12795705954051366156"
     },
     "user_tz": 300
    },
    "id": "ASUA3nJYEL8Y",
    "outputId": "31c6bb08-f1e6-4933-a2e7-d42b63d64c8d"
   },
   "outputs": [
    {
     "name": "stdout",
     "output_type": "stream",
     "text": [
      "FPR and FNR distribiution in sexes\n",
      "#M       18025.000\n",
      "FPR_M        0.108\n",
      "FNR_M        0.248\n",
      "#F       13001.000\n",
      "FPR_F        0.133\n",
      "FNR_F        0.200\n",
      "Name: mean, dtype: float64\n"
     ]
    }
   ],
   "source": [
    "print(\"FPR and FNR distribiution in sexes\")\n",
    "print(round(result_sex_df.loc['mean'],3))"
   ]
  },
  {
   "cell_type": "code",
   "execution_count": 7,
   "metadata": {
    "colab": {
     "base_uri": "https://localhost:8080/"
    },
    "executionInfo": {
     "elapsed": 8,
     "status": "ok",
     "timestamp": 1708269574721,
     "user": {
      "displayName": "Gebreyowhans Hailekiros",
      "userId": "12795705954051366156"
     },
     "user_tz": 300
    },
    "id": "1rBjji82E2gx",
    "outputId": "ee1034ec-911d-4878-e5c5-a6cda3833fc5"
   },
   "outputs": [
    {
     "name": "stdout",
     "output_type": "stream",
     "text": [
      "FPR and FNR distribiution in sex Confidence interval\n"
     ]
    },
    {
     "data": {
      "text/plain": [
       "#M       0.000\n",
       "FPR_M    0.004\n",
       "FNR_M    0.007\n",
       "#F       0.000\n",
       "FPR_F    0.005\n",
       "FNR_F    0.008\n",
       "Name: std, dtype: float64"
      ]
     },
     "execution_count": 7,
     "metadata": {},
     "output_type": "execute_result"
    }
   ],
   "source": [
    "print(\"FPR and FNR distribiution in sex Confidence interval\")\n",
    "round(significance_level * result_sex_df.loc['std'] / np.sqrt(5),3)"
   ]
  },
  {
   "cell_type": "code",
   "execution_count": 8,
   "metadata": {
    "colab": {
     "base_uri": "https://localhost:8080/"
    },
    "executionInfo": {
     "elapsed": 6,
     "status": "ok",
     "timestamp": 1708269574721,
     "user": {
      "displayName": "Gebreyowhans Hailekiros",
      "userId": "12795705954051366156"
     },
     "user_tz": 300
    },
    "id": "P_SlN7pBFW2J",
    "outputId": "fc5fb093-bab3-46f9-89bd-c62a3b260d1c"
   },
   "outputs": [
    {
     "name": "stdout",
     "output_type": "stream",
     "text": [
      "ALL: Mean FPR distribiution over sexes\n"
     ]
    },
    {
     "data": {
      "text/plain": [
       "0.12070000000000002"
      ]
     },
     "execution_count": 8,
     "metadata": {},
     "output_type": "execute_result"
    }
   ],
   "source": [
    "print(\"ALL: Mean FPR distribiution over sexes\")\n",
    "mean([result_sex_df.loc['mean'][\"FPR_F\"], result_sex_df.loc['mean'][\"FPR_M\"]])"
   ]
  },
  {
   "cell_type": "code",
   "execution_count": 9,
   "metadata": {
    "id": "Z76TXMMhJPe9"
   },
   "outputs": [],
   "source": [
    "sex = ['M','F' ]\n",
    "fpr_fnr_sex_df = pd.DataFrame(sex, columns=[\"sex\"])"
   ]
  },
  {
   "cell_type": "code",
   "execution_count": 10,
   "metadata": {
    "id": "7P2rvZ8pHp8d"
   },
   "outputs": [],
   "source": [
    "\n",
    "def FiveRunSubgroup(factors, df_in, df_out):\n",
    "    fpr = []\n",
    "    fnr = []\n",
    "    percent = []\n",
    "    ci_fpr =[]\n",
    "    ci_fnr =[]\n",
    "    confI = significance_level * df_in.loc['std'] / np.sqrt(5)\n",
    "\n",
    "    for fact in factors:\n",
    "        percent.append(round(df_in.loc['mean']['#'+fact],3))\n",
    "        fpr.append(round(df_in.loc['mean']['FPR_'+fact],3))\n",
    "        fnr.append(round(df_in.loc['mean']['FNR_'+fact],3))\n",
    "        ci_fpr.append(round(confI.loc['FPR_'+fact],3))\n",
    "        ci_fnr.append(round(confI.loc['FNR_'+fact],3))\n",
    "\n",
    "    df_out['#'] = percent\n",
    "    df_out['FPR']=fpr\n",
    "    df_out['CI_FPR']=ci_fpr\n",
    "\n",
    "    df_out['FNR']=fnr\n",
    "    df_out['CI_FNR']=ci_fnr\n",
    "\n",
    "    return df_out\n"
   ]
  },
  {
   "cell_type": "code",
   "execution_count": 11,
   "metadata": {
    "colab": {
     "base_uri": "https://localhost:8080/",
     "height": 125
    },
    "executionInfo": {
     "elapsed": 5,
     "status": "ok",
     "timestamp": 1708269574875,
     "user": {
      "displayName": "Gebreyowhans Hailekiros",
      "userId": "12795705954051366156"
     },
     "user_tz": 300
    },
    "id": "G9esB9znJR1v",
    "outputId": "d683c917-06e1-46d0-c9b7-1ad4b840efdd"
   },
   "outputs": [
    {
     "data": {
      "text/html": [
       "<div>\n",
       "<style scoped>\n",
       "    .dataframe tbody tr th:only-of-type {\n",
       "        vertical-align: middle;\n",
       "    }\n",
       "\n",
       "    .dataframe tbody tr th {\n",
       "        vertical-align: top;\n",
       "    }\n",
       "\n",
       "    .dataframe thead th {\n",
       "        text-align: right;\n",
       "    }\n",
       "</style>\n",
       "<table border=\"1\" class=\"dataframe\">\n",
       "  <thead>\n",
       "    <tr style=\"text-align: right;\">\n",
       "      <th></th>\n",
       "      <th>sex</th>\n",
       "      <th>#</th>\n",
       "      <th>FPR</th>\n",
       "      <th>CI_FPR</th>\n",
       "      <th>FNR</th>\n",
       "      <th>CI_FNR</th>\n",
       "    </tr>\n",
       "  </thead>\n",
       "  <tbody>\n",
       "    <tr>\n",
       "      <th>0</th>\n",
       "      <td>M</td>\n",
       "      <td>18025.0</td>\n",
       "      <td>0.108</td>\n",
       "      <td>0.004</td>\n",
       "      <td>0.248</td>\n",
       "      <td>0.007</td>\n",
       "    </tr>\n",
       "    <tr>\n",
       "      <th>1</th>\n",
       "      <td>F</td>\n",
       "      <td>13001.0</td>\n",
       "      <td>0.133</td>\n",
       "      <td>0.005</td>\n",
       "      <td>0.200</td>\n",
       "      <td>0.008</td>\n",
       "    </tr>\n",
       "  </tbody>\n",
       "</table>\n",
       "</div>"
      ],
      "text/plain": [
       "  sex        #    FPR  CI_FPR    FNR  CI_FNR\n",
       "0   M  18025.0  0.108   0.004  0.248   0.007\n",
       "1   F  13001.0  0.133   0.005  0.200   0.008"
      ]
     },
     "execution_count": 11,
     "metadata": {},
     "output_type": "execute_result"
    }
   ],
   "source": [
    "fpr_fnr_sex_df=FiveRunSubgroup(sex, result_sex_df, fpr_fnr_sex_df)\n",
    "fpr_fnr_sex_df.to_csv(sub_group_FPR+'/Subgroup_FNR_FPR_Sex.csv')\n",
    "fpr_fnr_sex_df"
   ]
  },
  {
   "cell_type": "markdown",
   "metadata": {
    "id": "U9lFQmIjJu-W"
   },
   "source": [
    "## Age"
   ]
  },
  {
   "cell_type": "code",
   "execution_count": 12,
   "metadata": {
    "colab": {
     "base_uri": "https://localhost:8080/",
     "height": 81
    },
    "executionInfo": {
     "elapsed": 1044,
     "status": "ok",
     "timestamp": 1708269575915,
     "user": {
      "displayName": "Gebreyowhans Hailekiros",
      "userId": "12795705954051366156"
     },
     "user_tz": 300
    },
    "id": "YFND0A-lJhuX",
    "outputId": "89c2dbab-a579-4178-9b98-871c9af09bf4"
   },
   "outputs": [
    {
     "data": {
      "text/html": [
       "<div>\n",
       "<style scoped>\n",
       "    .dataframe tbody tr th:only-of-type {\n",
       "        vertical-align: middle;\n",
       "    }\n",
       "\n",
       "    .dataframe tbody tr th {\n",
       "        vertical-align: top;\n",
       "    }\n",
       "\n",
       "    .dataframe thead th {\n",
       "        text-align: right;\n",
       "    }\n",
       "</style>\n",
       "<table border=\"1\" class=\"dataframe\">\n",
       "  <thead>\n",
       "    <tr style=\"text-align: right;\">\n",
       "      <th></th>\n",
       "      <th>diseases</th>\n",
       "      <th>#60-80</th>\n",
       "      <th>FPR_60-80</th>\n",
       "      <th>FNR_60-80</th>\n",
       "      <th>#40-60</th>\n",
       "      <th>FPR_40-60</th>\n",
       "      <th>FNR_40-60</th>\n",
       "      <th>#20-40</th>\n",
       "      <th>FPR_20-40</th>\n",
       "      <th>FNR_20-40</th>\n",
       "      <th>#80+</th>\n",
       "      <th>FPR_80+</th>\n",
       "      <th>FNR_80+</th>\n",
       "      <th>#0-20</th>\n",
       "      <th>FPR_0-20</th>\n",
       "      <th>FNR_0-20</th>\n",
       "    </tr>\n",
       "  </thead>\n",
       "  <tbody>\n",
       "    <tr>\n",
       "      <th>0</th>\n",
       "      <td>No Finding</td>\n",
       "      <td>6526</td>\n",
       "      <td>0.061</td>\n",
       "      <td>0.234</td>\n",
       "      <td>4770</td>\n",
       "      <td>0.08</td>\n",
       "      <td>0.16</td>\n",
       "      <td>1797</td>\n",
       "      <td>0.092</td>\n",
       "      <td>0.111</td>\n",
       "      <td>3033</td>\n",
       "      <td>0.061</td>\n",
       "      <td>0.374</td>\n",
       "      <td>125</td>\n",
       "      <td>0.096</td>\n",
       "      <td>0.122</td>\n",
       "    </tr>\n",
       "  </tbody>\n",
       "</table>\n",
       "</div>"
      ],
      "text/plain": [
       "     diseases  #60-80  FPR_60-80  FNR_60-80  #40-60  FPR_40-60  FNR_40-60  \\\n",
       "0  No Finding    6526      0.061      0.234    4770       0.08       0.16   \n",
       "\n",
       "   #20-40  FPR_20-40  FNR_20-40  #80+  FPR_80+  FNR_80+  #0-20  FPR_0-20  \\\n",
       "0    1797      0.092      0.111  3033    0.061    0.374    125     0.096   \n",
       "\n",
       "   FNR_0-20  \n",
       "0     0.122  "
      ]
     },
     "execution_count": 12,
     "metadata": {},
     "output_type": "execute_result"
    }
   ],
   "source": [
    "seed_19_age = pd.read_csv(sub_group_FPR+\"/run_19FPR_FNR_NF_age.csv\",index_col=0)\n",
    "seed_31_age = pd.read_csv(sub_group_FPR+\"/run_31FPR_FNR_NF_age.csv\",index_col=0)\n",
    "seed_38_age = pd.read_csv(sub_group_FPR+\"/run_38FPR_FNR_NF_age.csv\",index_col=0)\n",
    "seed_47_age = pd.read_csv(sub_group_FPR+\"/run_47FPR_FNR_NF_age.csv\",index_col=0)\n",
    "seed_77_age = pd.read_csv(sub_group_FPR+\"/run_77FPR_FNR_NF_age.csv\",index_col=0)\n",
    "seed_77_age.head(5)"
   ]
  },
  {
   "cell_type": "code",
   "execution_count": 13,
   "metadata": {
    "id": "_TLKbQX9J0rR"
   },
   "outputs": [],
   "source": [
    "age_dataframes = [seed_19_age, seed_31_age, seed_38_age, seed_47_age, seed_77_age]\n",
    "result_age_df= pd.concat(age_dataframes)\n",
    "\n",
    "result_age_df = result_age_df.describe()"
   ]
  },
  {
   "cell_type": "code",
   "execution_count": 14,
   "metadata": {
    "colab": {
     "base_uri": "https://localhost:8080/"
    },
    "executionInfo": {
     "elapsed": 170,
     "status": "ok",
     "timestamp": 1708269576081,
     "user": {
      "displayName": "Gebreyowhans Hailekiros",
      "userId": "12795705954051366156"
     },
     "user_tz": 300
    },
    "id": "B6w5Vv1YJ6EC",
    "outputId": "5685d3b5-f830-4a11-ee79-3f25954c14ac"
   },
   "outputs": [
    {
     "name": "stdout",
     "output_type": "stream",
     "text": [
      "FPR distribiution in ages\n",
      "#60-80       6526.000\n",
      "FPR_60-80       0.061\n",
      "FNR_60-80       0.216\n",
      "#40-60       4770.000\n",
      "FPR_40-60       0.076\n",
      "FNR_40-60       0.159\n",
      "#20-40       1797.000\n",
      "FPR_20-40       0.091\n",
      "FNR_20-40       0.111\n",
      "#80+         3033.000\n",
      "FPR_80+         0.061\n",
      "FNR_80+         0.362\n",
      "#0-20         125.000\n",
      "FPR_0-20        0.082\n",
      "FNR_0-20        0.141\n",
      "Name: mean, dtype: float64\n"
     ]
    }
   ],
   "source": [
    "print(\"FPR distribiution in ages\")\n",
    "print(round(result_age_df.loc['mean'],3))"
   ]
  },
  {
   "cell_type": "code",
   "execution_count": 15,
   "metadata": {
    "colab": {
     "base_uri": "https://localhost:8080/"
    },
    "executionInfo": {
     "elapsed": 11,
     "status": "ok",
     "timestamp": 1708269576082,
     "user": {
      "displayName": "Gebreyowhans Hailekiros",
      "userId": "12795705954051366156"
     },
     "user_tz": 300
    },
    "id": "EZv_gmAFKENw",
    "outputId": "5f381b7f-f81b-4e2d-f857-d3d3229e6a63"
   },
   "outputs": [
    {
     "name": "stdout",
     "output_type": "stream",
     "text": [
      "ALL: Mean FPR distribiution over ages\n"
     ]
    },
    {
     "data": {
      "text/plain": [
       "0.07416"
      ]
     },
     "execution_count": 15,
     "metadata": {},
     "output_type": "execute_result"
    }
   ],
   "source": [
    "print(\"ALL: Mean FPR distribiution over ages\")\n",
    "mean([result_age_df.loc['mean'][\"FPR_60-80\"], result_age_df.loc['mean'][\"FPR_40-60\"],\n",
    "      result_age_df.loc['mean'][\"FPR_20-40\"], result_age_df.loc['mean'][\"FPR_0-20\"],\n",
    "      result_age_df.loc['mean'][\"FPR_80+\"]])"
   ]
  },
  {
   "cell_type": "code",
   "execution_count": 16,
   "metadata": {
    "colab": {
     "base_uri": "https://localhost:8080/"
    },
    "executionInfo": {
     "elapsed": 8,
     "status": "ok",
     "timestamp": 1708269576082,
     "user": {
      "displayName": "Gebreyowhans Hailekiros",
      "userId": "12795705954051366156"
     },
     "user_tz": 300
    },
    "id": "nY3a6jijKVhp",
    "outputId": "f4ef1661-332e-4e6b-b7bf-3463a97fb2a2"
   },
   "outputs": [
    {
     "data": {
      "text/plain": [
       "#60-80       0.000\n",
       "FPR_60-80    0.004\n",
       "FNR_60-80    0.016\n",
       "#40-60       0.000\n",
       "FPR_40-60    0.005\n",
       "FNR_40-60    0.009\n",
       "#20-40       0.000\n",
       "FPR_20-40    0.004\n",
       "FNR_20-40    0.006\n",
       "#80+         0.000\n",
       "FPR_80+      0.006\n",
       "FNR_80+      0.025\n",
       "#0-20        0.000\n",
       "FPR_0-20     0.013\n",
       "FNR_0-20     0.018\n",
       "Name: std, dtype: float64"
      ]
     },
     "execution_count": 16,
     "metadata": {},
     "output_type": "execute_result"
    }
   ],
   "source": [
    "round(significance_level* result_age_df.loc['std'] / np.sqrt(5),3)"
   ]
  },
  {
   "cell_type": "code",
   "execution_count": 17,
   "metadata": {
    "colab": {
     "base_uri": "https://localhost:8080/",
     "height": 206
    },
    "executionInfo": {
     "elapsed": 6,
     "status": "ok",
     "timestamp": 1708269576082,
     "user": {
      "displayName": "Gebreyowhans Hailekiros",
      "userId": "12795705954051366156"
     },
     "user_tz": 300
    },
    "id": "IDKRgpPaKbJp",
    "outputId": "c8eaee6c-1f77-4bcb-ae09-63fd51fa2d75"
   },
   "outputs": [
    {
     "data": {
      "text/html": [
       "<div>\n",
       "<style scoped>\n",
       "    .dataframe tbody tr th:only-of-type {\n",
       "        vertical-align: middle;\n",
       "    }\n",
       "\n",
       "    .dataframe tbody tr th {\n",
       "        vertical-align: top;\n",
       "    }\n",
       "\n",
       "    .dataframe thead th {\n",
       "        text-align: right;\n",
       "    }\n",
       "</style>\n",
       "<table border=\"1\" class=\"dataframe\">\n",
       "  <thead>\n",
       "    <tr style=\"text-align: right;\">\n",
       "      <th></th>\n",
       "      <th>Age</th>\n",
       "      <th>#</th>\n",
       "      <th>FPR</th>\n",
       "      <th>CI_FPR</th>\n",
       "      <th>FNR</th>\n",
       "      <th>CI_FNR</th>\n",
       "    </tr>\n",
       "  </thead>\n",
       "  <tbody>\n",
       "    <tr>\n",
       "      <th>0</th>\n",
       "      <td>0-20</td>\n",
       "      <td>125.0</td>\n",
       "      <td>0.082</td>\n",
       "      <td>0.013</td>\n",
       "      <td>0.141</td>\n",
       "      <td>0.018</td>\n",
       "    </tr>\n",
       "    <tr>\n",
       "      <th>1</th>\n",
       "      <td>20-40</td>\n",
       "      <td>1797.0</td>\n",
       "      <td>0.091</td>\n",
       "      <td>0.004</td>\n",
       "      <td>0.111</td>\n",
       "      <td>0.006</td>\n",
       "    </tr>\n",
       "    <tr>\n",
       "      <th>2</th>\n",
       "      <td>40-60</td>\n",
       "      <td>4770.0</td>\n",
       "      <td>0.076</td>\n",
       "      <td>0.005</td>\n",
       "      <td>0.159</td>\n",
       "      <td>0.009</td>\n",
       "    </tr>\n",
       "    <tr>\n",
       "      <th>3</th>\n",
       "      <td>60-80</td>\n",
       "      <td>6526.0</td>\n",
       "      <td>0.061</td>\n",
       "      <td>0.004</td>\n",
       "      <td>0.216</td>\n",
       "      <td>0.016</td>\n",
       "    </tr>\n",
       "    <tr>\n",
       "      <th>4</th>\n",
       "      <td>80+</td>\n",
       "      <td>3033.0</td>\n",
       "      <td>0.061</td>\n",
       "      <td>0.006</td>\n",
       "      <td>0.362</td>\n",
       "      <td>0.025</td>\n",
       "    </tr>\n",
       "  </tbody>\n",
       "</table>\n",
       "</div>"
      ],
      "text/plain": [
       "     Age       #    FPR  CI_FPR    FNR  CI_FNR\n",
       "0   0-20   125.0  0.082   0.013  0.141   0.018\n",
       "1  20-40  1797.0  0.091   0.004  0.111   0.006\n",
       "2  40-60  4770.0  0.076   0.005  0.159   0.009\n",
       "3  60-80  6526.0  0.061   0.004  0.216   0.016\n",
       "4    80+  3033.0  0.061   0.006  0.362   0.025"
      ]
     },
     "execution_count": 17,
     "metadata": {},
     "output_type": "execute_result"
    }
   ],
   "source": [
    "age = ['0-20','20-40','40-60','60-80','80+' ]\n",
    "fpr_fnr_age_df = pd.DataFrame(age, columns=[\"Age\"])\n",
    "\n",
    "fpr_fnr_age_df=FiveRunSubgroup(age, result_age_df, fpr_fnr_age_df)\n",
    "fpr_fnr_age_df.to_csv(sub_group_FPR+'/Subgrounp_FNR_FPR_Age.csv')\n",
    "fpr_fnr_age_df"
   ]
  },
  {
   "cell_type": "markdown",
   "metadata": {
    "id": "UJaOAaP6Lh-e"
   },
   "source": [
    "## Race"
   ]
  },
  {
   "cell_type": "code",
   "execution_count": 18,
   "metadata": {
    "colab": {
     "base_uri": "https://localhost:8080/",
     "height": 118
    },
    "executionInfo": {
     "elapsed": 1202,
     "status": "ok",
     "timestamp": 1708269577279,
     "user": {
      "displayName": "Gebreyowhans Hailekiros",
      "userId": "12795705954051366156"
     },
     "user_tz": 300
    },
    "id": "ONEASy0_LW9D",
    "outputId": "99c1d8ac-1d3e-469b-ce07-e0c6d374f9f6"
   },
   "outputs": [
    {
     "data": {
      "text/html": [
       "<div>\n",
       "<style scoped>\n",
       "    .dataframe tbody tr th:only-of-type {\n",
       "        vertical-align: middle;\n",
       "    }\n",
       "\n",
       "    .dataframe tbody tr th {\n",
       "        vertical-align: top;\n",
       "    }\n",
       "\n",
       "    .dataframe thead th {\n",
       "        text-align: right;\n",
       "    }\n",
       "</style>\n",
       "<table border=\"1\" class=\"dataframe\">\n",
       "  <thead>\n",
       "    <tr style=\"text-align: right;\">\n",
       "      <th></th>\n",
       "      <th>diseases</th>\n",
       "      <th>#White</th>\n",
       "      <th>FPR_White</th>\n",
       "      <th>FNR_White</th>\n",
       "      <th>#Black</th>\n",
       "      <th>FPR_Black</th>\n",
       "      <th>FNR_Black</th>\n",
       "      <th>#Hisp</th>\n",
       "      <th>FPR_Hisp</th>\n",
       "      <th>FNR_Hisp</th>\n",
       "      <th>#Other</th>\n",
       "      <th>FPR_Other</th>\n",
       "      <th>FNR_Other</th>\n",
       "      <th>#Asian</th>\n",
       "      <th>FPR_Asian</th>\n",
       "      <th>FNR_Asian</th>\n",
       "      <th>#American</th>\n",
       "      <th>FPR_American</th>\n",
       "      <th>FNR_American</th>\n",
       "    </tr>\n",
       "  </thead>\n",
       "  <tbody>\n",
       "    <tr>\n",
       "      <th>0</th>\n",
       "      <td>No Finding</td>\n",
       "      <td>20900</td>\n",
       "      <td>0.105</td>\n",
       "      <td>0.267</td>\n",
       "      <td>3225</td>\n",
       "      <td>0.178</td>\n",
       "      <td>0.193</td>\n",
       "      <td>1256</td>\n",
       "      <td>0.157</td>\n",
       "      <td>0.186</td>\n",
       "      <td>2941</td>\n",
       "      <td>0.091</td>\n",
       "      <td>0.19</td>\n",
       "      <td>2361</td>\n",
       "      <td>0.089</td>\n",
       "      <td>0.207</td>\n",
       "      <td>343</td>\n",
       "      <td>0.125</td>\n",
       "      <td>0.305</td>\n",
       "    </tr>\n",
       "  </tbody>\n",
       "</table>\n",
       "</div>"
      ],
      "text/plain": [
       "     diseases  #White  FPR_White  FNR_White  #Black  FPR_Black  FNR_Black  \\\n",
       "0  No Finding   20900      0.105      0.267    3225      0.178      0.193   \n",
       "\n",
       "   #Hisp  FPR_Hisp  FNR_Hisp  #Other  FPR_Other  FNR_Other  #Asian  FPR_Asian  \\\n",
       "0   1256     0.157     0.186    2941      0.091       0.19    2361      0.089   \n",
       "\n",
       "   FNR_Asian  #American  FPR_American  FNR_American  \n",
       "0      0.207        343         0.125         0.305  "
      ]
     },
     "execution_count": 18,
     "metadata": {},
     "output_type": "execute_result"
    }
   ],
   "source": [
    "seed_19_race = pd.read_csv(sub_group_FPR+\"/run_19FPR_FNR_NF_race.csv\",index_col=0)\n",
    "seed_31_race = pd.read_csv(sub_group_FPR+\"/run_31FPR_FNR_NF_race.csv\",index_col=0)\n",
    "seed_38_race = pd.read_csv(sub_group_FPR+\"/run_38FPR_FNR_NF_race.csv\",index_col=0)\n",
    "seed_47_race = pd.read_csv(sub_group_FPR+\"/run_47FPR_FNR_NF_race.csv\",index_col=0)\n",
    "seed_77_race = pd.read_csv(sub_group_FPR+\"/run_77FPR_FNR_NF_race.csv\",index_col=0)\n",
    "seed_77_race.head(3)"
   ]
  },
  {
   "cell_type": "code",
   "execution_count": 19,
   "metadata": {
    "id": "RGmPqzjqLzem"
   },
   "outputs": [],
   "source": [
    "race_dataframes = [seed_19_race, seed_31_race, seed_38_race, seed_47_race, seed_77_race]\n",
    "result_race= pd.concat(race_dataframes)\n",
    "\n",
    "result_race_df =result_race.describe()"
   ]
  },
  {
   "cell_type": "code",
   "execution_count": 20,
   "metadata": {
    "colab": {
     "base_uri": "https://localhost:8080/"
    },
    "executionInfo": {
     "elapsed": 9,
     "status": "ok",
     "timestamp": 1708269577280,
     "user": {
      "displayName": "Gebreyowhans Hailekiros",
      "userId": "12795705954051366156"
     },
     "user_tz": 300
    },
    "id": "EB5W5jwgL0VQ",
    "outputId": "a18140ca-3002-40f7-e910-8992f62d4e58"
   },
   "outputs": [
    {
     "name": "stdout",
     "output_type": "stream",
     "text": [
      "FPR distribiution in races\n",
      "#White          20900.000\n",
      "FPR_White           0.111\n",
      "FNR_White           0.252\n",
      "#Black           3225.000\n",
      "FPR_Black           0.188\n",
      "FNR_Black           0.176\n",
      "#Hisp            1256.000\n",
      "FPR_Hisp            0.167\n",
      "FNR_Hisp            0.166\n",
      "#Other           2941.000\n",
      "FPR_Other           0.096\n",
      "FNR_Other           0.186\n",
      "#Asian           2361.000\n",
      "FPR_Asian           0.093\n",
      "FNR_Asian           0.195\n",
      "#American         343.000\n",
      "FPR_American        0.123\n",
      "FNR_American        0.289\n",
      "Name: mean, dtype: float64\n"
     ]
    }
   ],
   "source": [
    "print(\"FPR distribiution in races\")\n",
    "print(round(result_race_df.loc['mean'],3))"
   ]
  },
  {
   "cell_type": "code",
   "execution_count": 21,
   "metadata": {
    "colab": {
     "base_uri": "https://localhost:8080/"
    },
    "executionInfo": {
     "elapsed": 8,
     "status": "ok",
     "timestamp": 1708269577280,
     "user": {
      "displayName": "Gebreyowhans Hailekiros",
      "userId": "12795705954051366156"
     },
     "user_tz": 300
    },
    "id": "v25FSgIgMXC6",
    "outputId": "bcbe57ef-01ce-4e13-9d4e-643d4366283f"
   },
   "outputs": [
    {
     "data": {
      "text/plain": [
       "#White          0.000\n",
       "FPR_White       0.004\n",
       "FNR_White       0.007\n",
       "#Black          0.000\n",
       "FPR_Black       0.006\n",
       "FNR_Black       0.009\n",
       "#Hisp           0.000\n",
       "FPR_Hisp        0.007\n",
       "FNR_Hisp        0.013\n",
       "#Other          0.000\n",
       "FPR_Other       0.004\n",
       "FNR_Other       0.007\n",
       "#Asian          0.000\n",
       "FPR_Asian       0.004\n",
       "FNR_Asian       0.009\n",
       "#American       0.000\n",
       "FPR_American    0.005\n",
       "FNR_American    0.018\n",
       "Name: std, dtype: float64"
      ]
     },
     "execution_count": 21,
     "metadata": {},
     "output_type": "execute_result"
    }
   ],
   "source": [
    "round(significance_level * result_race_df.loc['std'] / np.sqrt(5),3)"
   ]
  },
  {
   "cell_type": "code",
   "execution_count": 22,
   "metadata": {
    "colab": {
     "base_uri": "https://localhost:8080/",
     "height": 237
    },
    "executionInfo": {
     "elapsed": 6,
     "status": "ok",
     "timestamp": 1708269577280,
     "user": {
      "displayName": "Gebreyowhans Hailekiros",
      "userId": "12795705954051366156"
     },
     "user_tz": 300
    },
    "id": "8O0otV4sMdiR",
    "outputId": "e31eb920-bdcd-4083-800f-79cff08e78ed"
   },
   "outputs": [
    {
     "data": {
      "text/html": [
       "<div>\n",
       "<style scoped>\n",
       "    .dataframe tbody tr th:only-of-type {\n",
       "        vertical-align: middle;\n",
       "    }\n",
       "\n",
       "    .dataframe tbody tr th {\n",
       "        vertical-align: top;\n",
       "    }\n",
       "\n",
       "    .dataframe thead th {\n",
       "        text-align: right;\n",
       "    }\n",
       "</style>\n",
       "<table border=\"1\" class=\"dataframe\">\n",
       "  <thead>\n",
       "    <tr style=\"text-align: right;\">\n",
       "      <th></th>\n",
       "      <th>Race</th>\n",
       "      <th>#</th>\n",
       "      <th>FPR</th>\n",
       "      <th>CI_FPR</th>\n",
       "      <th>FNR</th>\n",
       "      <th>CI_FNR</th>\n",
       "    </tr>\n",
       "  </thead>\n",
       "  <tbody>\n",
       "    <tr>\n",
       "      <th>0</th>\n",
       "      <td>White</td>\n",
       "      <td>20900.0</td>\n",
       "      <td>0.111</td>\n",
       "      <td>0.004</td>\n",
       "      <td>0.252</td>\n",
       "      <td>0.007</td>\n",
       "    </tr>\n",
       "    <tr>\n",
       "      <th>1</th>\n",
       "      <td>Black</td>\n",
       "      <td>3225.0</td>\n",
       "      <td>0.188</td>\n",
       "      <td>0.006</td>\n",
       "      <td>0.176</td>\n",
       "      <td>0.009</td>\n",
       "    </tr>\n",
       "    <tr>\n",
       "      <th>2</th>\n",
       "      <td>Hisp</td>\n",
       "      <td>1256.0</td>\n",
       "      <td>0.167</td>\n",
       "      <td>0.007</td>\n",
       "      <td>0.166</td>\n",
       "      <td>0.013</td>\n",
       "    </tr>\n",
       "    <tr>\n",
       "      <th>3</th>\n",
       "      <td>Other</td>\n",
       "      <td>2941.0</td>\n",
       "      <td>0.096</td>\n",
       "      <td>0.004</td>\n",
       "      <td>0.186</td>\n",
       "      <td>0.007</td>\n",
       "    </tr>\n",
       "    <tr>\n",
       "      <th>4</th>\n",
       "      <td>Asian</td>\n",
       "      <td>2361.0</td>\n",
       "      <td>0.093</td>\n",
       "      <td>0.004</td>\n",
       "      <td>0.195</td>\n",
       "      <td>0.009</td>\n",
       "    </tr>\n",
       "    <tr>\n",
       "      <th>5</th>\n",
       "      <td>American</td>\n",
       "      <td>343.0</td>\n",
       "      <td>0.123</td>\n",
       "      <td>0.005</td>\n",
       "      <td>0.289</td>\n",
       "      <td>0.018</td>\n",
       "    </tr>\n",
       "  </tbody>\n",
       "</table>\n",
       "</div>"
      ],
      "text/plain": [
       "       Race        #    FPR  CI_FPR    FNR  CI_FNR\n",
       "0     White  20900.0  0.111   0.004  0.252   0.007\n",
       "1     Black   3225.0  0.188   0.006  0.176   0.009\n",
       "2      Hisp   1256.0  0.167   0.007  0.166   0.013\n",
       "3     Other   2941.0  0.096   0.004  0.186   0.007\n",
       "4     Asian   2361.0  0.093   0.004  0.195   0.009\n",
       "5  American    343.0  0.123   0.005  0.289   0.018"
      ]
     },
     "execution_count": 22,
     "metadata": {},
     "output_type": "execute_result"
    }
   ],
   "source": [
    "race = ['White','Black','Hisp','Other','Asian','American' ]\n",
    "fpr_fpr_race_df = pd.DataFrame(race, columns=[\"Race\"])\n",
    "\n",
    "fpr_fpr_race_df=FiveRunSubgroup(race, result_race_df, fpr_fpr_race_df)\n",
    "fpr_fpr_race_df.to_csv(sub_group_FPR+'/Subgroup_FNR_FPR_Race.csv')\n",
    "fpr_fpr_race_df"
   ]
  },
  {
   "cell_type": "markdown",
   "metadata": {
    "id": "qw46TAIcfvj2"
   },
   "source": [
    "# Two group Intersectional identity"
   ]
  },
  {
   "cell_type": "code",
   "execution_count": 23,
   "metadata": {},
   "outputs": [],
   "source": [
    "two_group_FPR = './FPR/Two_Group_Intersection_FPR/'"
   ]
  },
  {
   "cell_type": "markdown",
   "metadata": {
    "id": "e4qqGEIrf5sM"
   },
   "source": [
    "## Age-Sex"
   ]
  },
  {
   "cell_type": "code",
   "execution_count": 24,
   "metadata": {
    "colab": {
     "base_uri": "https://localhost:8080/",
     "height": 298
    },
    "executionInfo": {
     "elapsed": 2401,
     "status": "ok",
     "timestamp": 1708269579676,
     "user": {
      "displayName": "Gebreyowhans Hailekiros",
      "userId": "12795705954051366156"
     },
     "user_tz": 300
    },
    "id": "_p0JNQyHf2mg",
    "outputId": "7cc871c5-a81d-4ab0-8b2c-ef84d90cb632"
   },
   "outputs": [
    {
     "data": {
      "text/html": [
       "<div>\n",
       "<style scoped>\n",
       "    .dataframe tbody tr th:only-of-type {\n",
       "        vertical-align: middle;\n",
       "    }\n",
       "\n",
       "    .dataframe tbody tr th {\n",
       "        vertical-align: top;\n",
       "    }\n",
       "\n",
       "    .dataframe thead tr th {\n",
       "        text-align: left;\n",
       "    }\n",
       "\n",
       "    .dataframe thead tr:last-of-type th {\n",
       "        text-align: right;\n",
       "    }\n",
       "</style>\n",
       "<table border=\"1\" class=\"dataframe\">\n",
       "  <thead>\n",
       "    <tr>\n",
       "      <th></th>\n",
       "      <th colspan=\"8\" halign=\"left\">Unnamed: 0</th>\n",
       "      <th colspan=\"5\" halign=\"left\">FPR_M</th>\n",
       "      <th colspan=\"8\" halign=\"left\">FPR_F</th>\n",
       "    </tr>\n",
       "    <tr>\n",
       "      <th></th>\n",
       "      <th>count</th>\n",
       "      <th>mean</th>\n",
       "      <th>std</th>\n",
       "      <th>min</th>\n",
       "      <th>25%</th>\n",
       "      <th>50%</th>\n",
       "      <th>75%</th>\n",
       "      <th>max</th>\n",
       "      <th>count</th>\n",
       "      <th>mean</th>\n",
       "      <th>...</th>\n",
       "      <th>75%</th>\n",
       "      <th>max</th>\n",
       "      <th>count</th>\n",
       "      <th>mean</th>\n",
       "      <th>std</th>\n",
       "      <th>min</th>\n",
       "      <th>25%</th>\n",
       "      <th>50%</th>\n",
       "      <th>75%</th>\n",
       "      <th>max</th>\n",
       "    </tr>\n",
       "    <tr>\n",
       "      <th>Age</th>\n",
       "      <th></th>\n",
       "      <th></th>\n",
       "      <th></th>\n",
       "      <th></th>\n",
       "      <th></th>\n",
       "      <th></th>\n",
       "      <th></th>\n",
       "      <th></th>\n",
       "      <th></th>\n",
       "      <th></th>\n",
       "      <th></th>\n",
       "      <th></th>\n",
       "      <th></th>\n",
       "      <th></th>\n",
       "      <th></th>\n",
       "      <th></th>\n",
       "      <th></th>\n",
       "      <th></th>\n",
       "      <th></th>\n",
       "      <th></th>\n",
       "      <th></th>\n",
       "    </tr>\n",
       "  </thead>\n",
       "  <tbody>\n",
       "    <tr>\n",
       "      <th>0-20</th>\n",
       "      <td>5.0</td>\n",
       "      <td>4.0</td>\n",
       "      <td>0.0</td>\n",
       "      <td>4.0</td>\n",
       "      <td>4.0</td>\n",
       "      <td>4.0</td>\n",
       "      <td>4.0</td>\n",
       "      <td>4.0</td>\n",
       "      <td>5.0</td>\n",
       "      <td>0.0790</td>\n",
       "      <td>...</td>\n",
       "      <td>0.079</td>\n",
       "      <td>0.105</td>\n",
       "      <td>5.0</td>\n",
       "      <td>0.0858</td>\n",
       "      <td>0.022186</td>\n",
       "      <td>0.061</td>\n",
       "      <td>0.082</td>\n",
       "      <td>0.082</td>\n",
       "      <td>0.082</td>\n",
       "      <td>0.122</td>\n",
       "    </tr>\n",
       "    <tr>\n",
       "      <th>20-40</th>\n",
       "      <td>5.0</td>\n",
       "      <td>2.0</td>\n",
       "      <td>0.0</td>\n",
       "      <td>2.0</td>\n",
       "      <td>2.0</td>\n",
       "      <td>2.0</td>\n",
       "      <td>2.0</td>\n",
       "      <td>2.0</td>\n",
       "      <td>5.0</td>\n",
       "      <td>0.1006</td>\n",
       "      <td>...</td>\n",
       "      <td>0.103</td>\n",
       "      <td>0.108</td>\n",
       "      <td>5.0</td>\n",
       "      <td>0.0762</td>\n",
       "      <td>0.005675</td>\n",
       "      <td>0.068</td>\n",
       "      <td>0.073</td>\n",
       "      <td>0.078</td>\n",
       "      <td>0.080</td>\n",
       "      <td>0.082</td>\n",
       "    </tr>\n",
       "    <tr>\n",
       "      <th>40-60</th>\n",
       "      <td>5.0</td>\n",
       "      <td>1.0</td>\n",
       "      <td>0.0</td>\n",
       "      <td>1.0</td>\n",
       "      <td>1.0</td>\n",
       "      <td>1.0</td>\n",
       "      <td>1.0</td>\n",
       "      <td>1.0</td>\n",
       "      <td>5.0</td>\n",
       "      <td>0.0732</td>\n",
       "      <td>...</td>\n",
       "      <td>0.077</td>\n",
       "      <td>0.078</td>\n",
       "      <td>5.0</td>\n",
       "      <td>0.0812</td>\n",
       "      <td>0.005404</td>\n",
       "      <td>0.075</td>\n",
       "      <td>0.076</td>\n",
       "      <td>0.083</td>\n",
       "      <td>0.085</td>\n",
       "      <td>0.087</td>\n",
       "    </tr>\n",
       "    <tr>\n",
       "      <th>60-80</th>\n",
       "      <td>5.0</td>\n",
       "      <td>0.0</td>\n",
       "      <td>0.0</td>\n",
       "      <td>0.0</td>\n",
       "      <td>0.0</td>\n",
       "      <td>0.0</td>\n",
       "      <td>0.0</td>\n",
       "      <td>0.0</td>\n",
       "      <td>5.0</td>\n",
       "      <td>0.0546</td>\n",
       "      <td>...</td>\n",
       "      <td>0.057</td>\n",
       "      <td>0.060</td>\n",
       "      <td>5.0</td>\n",
       "      <td>0.0714</td>\n",
       "      <td>0.006348</td>\n",
       "      <td>0.064</td>\n",
       "      <td>0.068</td>\n",
       "      <td>0.071</td>\n",
       "      <td>0.073</td>\n",
       "      <td>0.081</td>\n",
       "    </tr>\n",
       "    <tr>\n",
       "      <th>80+</th>\n",
       "      <td>5.0</td>\n",
       "      <td>3.0</td>\n",
       "      <td>0.0</td>\n",
       "      <td>3.0</td>\n",
       "      <td>3.0</td>\n",
       "      <td>3.0</td>\n",
       "      <td>3.0</td>\n",
       "      <td>3.0</td>\n",
       "      <td>5.0</td>\n",
       "      <td>0.0460</td>\n",
       "      <td>...</td>\n",
       "      <td>0.045</td>\n",
       "      <td>0.055</td>\n",
       "      <td>5.0</td>\n",
       "      <td>0.0814</td>\n",
       "      <td>0.011014</td>\n",
       "      <td>0.070</td>\n",
       "      <td>0.077</td>\n",
       "      <td>0.077</td>\n",
       "      <td>0.084</td>\n",
       "      <td>0.099</td>\n",
       "    </tr>\n",
       "  </tbody>\n",
       "</table>\n",
       "<p>5 rows × 24 columns</p>\n",
       "</div>"
      ],
      "text/plain": [
       "      Unnamed: 0                                    FPR_M          ...         \\\n",
       "           count mean  std  min  25%  50%  75%  max count    mean  ...    75%   \n",
       "Age                                                                ...          \n",
       "0-20         5.0  4.0  0.0  4.0  4.0  4.0  4.0  4.0   5.0  0.0790  ...  0.079   \n",
       "20-40        5.0  2.0  0.0  2.0  2.0  2.0  2.0  2.0   5.0  0.1006  ...  0.103   \n",
       "40-60        5.0  1.0  0.0  1.0  1.0  1.0  1.0  1.0   5.0  0.0732  ...  0.077   \n",
       "60-80        5.0  0.0  0.0  0.0  0.0  0.0  0.0  0.0   5.0  0.0546  ...  0.057   \n",
       "80+          5.0  3.0  0.0  3.0  3.0  3.0  3.0  3.0   5.0  0.0460  ...  0.045   \n",
       "\n",
       "             FPR_F                                                       \n",
       "         max count    mean       std    min    25%    50%    75%    max  \n",
       "Age                                                                      \n",
       "0-20   0.105   5.0  0.0858  0.022186  0.061  0.082  0.082  0.082  0.122  \n",
       "20-40  0.108   5.0  0.0762  0.005675  0.068  0.073  0.078  0.080  0.082  \n",
       "40-60  0.078   5.0  0.0812  0.005404  0.075  0.076  0.083  0.085  0.087  \n",
       "60-80  0.060   5.0  0.0714  0.006348  0.064  0.068  0.071  0.073  0.081  \n",
       "80+    0.055   5.0  0.0814  0.011014  0.070  0.077  0.077  0.084  0.099  \n",
       "\n",
       "[5 rows x 24 columns]"
      ]
     },
     "execution_count": 24,
     "metadata": {},
     "output_type": "execute_result"
    }
   ],
   "source": [
    "seed_19_agesex = pd.read_csv(two_group_FPR+\"/run_19FP_AgeSex.csv\")\n",
    "seed_31_agesex= pd.read_csv(two_group_FPR+\"/run_31FP_AgeSex.csv\")\n",
    "seed_38_agesex = pd.read_csv(two_group_FPR+\"/run_38FP_AgeSex.csv\")\n",
    "seed_47_agesex = pd.read_csv(two_group_FPR+\"/run_47FP_AgeSex.csv\")\n",
    "seed_77_agesex = pd.read_csv(two_group_FPR+\"/run_77FP_AgeSex.csv\")\n",
    "\n",
    "fp_agesex =pd.concat([seed_19_agesex, seed_31_agesex,seed_38_agesex, seed_47_agesex,seed_77_agesex])\n",
    "fp_agesex =fp_agesex.groupby(\"Age\")\n",
    "fp_agesex = fp_agesex.describe()\n",
    "\n",
    "fp_agesex"
   ]
  },
  {
   "cell_type": "code",
   "execution_count": 25,
   "metadata": {
    "colab": {
     "base_uri": "https://localhost:8080/"
    },
    "executionInfo": {
     "elapsed": 8,
     "status": "ok",
     "timestamp": 1708269579676,
     "user": {
      "displayName": "Gebreyowhans Hailekiros",
      "userId": "12795705954051366156"
     },
     "user_tz": 300
    },
    "id": "8ZePSfoCii7n",
    "outputId": "f4e26070-393c-48d5-b33d-5a6fc72d6809"
   },
   "outputs": [
    {
     "name": "stdout",
     "output_type": "stream",
     "text": [
      "Age-Sex over male\n"
     ]
    },
    {
     "data": {
      "text/plain": [
       "Age\n",
       "0-20     0.079\n",
       "20-40    0.101\n",
       "40-60    0.073\n",
       "60-80    0.055\n",
       "80+      0.046\n",
       "Name: mean, dtype: float64"
      ]
     },
     "execution_count": 25,
     "metadata": {},
     "output_type": "execute_result"
    }
   ],
   "source": [
    "print(\"Age-Sex over male\")\n",
    "round(fp_agesex['FPR_M']['mean'],3)"
   ]
  },
  {
   "cell_type": "code",
   "execution_count": 26,
   "metadata": {
    "colab": {
     "base_uri": "https://localhost:8080/"
    },
    "executionInfo": {
     "elapsed": 6,
     "status": "ok",
     "timestamp": 1708269579676,
     "user": {
      "displayName": "Gebreyowhans Hailekiros",
      "userId": "12795705954051366156"
     },
     "user_tz": 300
    },
    "id": "R4Ddya4Gjh80",
    "outputId": "c778f0c4-c2f3-409c-809b-161d480ff903"
   },
   "outputs": [
    {
     "data": {
      "text/plain": [
       "Age\n",
       "0-20     0.014\n",
       "20-40    0.004\n",
       "40-60    0.005\n",
       "60-80    0.003\n",
       "80+      0.005\n",
       "Name: std, dtype: float64"
      ]
     },
     "execution_count": 26,
     "metadata": {},
     "output_type": "execute_result"
    }
   ],
   "source": [
    "round(significance_level * fp_agesex['FPR_M'][\"std\"] / np.sqrt(5),3)"
   ]
  },
  {
   "cell_type": "code",
   "execution_count": 27,
   "metadata": {
    "colab": {
     "base_uri": "https://localhost:8080/"
    },
    "executionInfo": {
     "elapsed": 5,
     "status": "ok",
     "timestamp": 1708269579676,
     "user": {
      "displayName": "Gebreyowhans Hailekiros",
      "userId": "12795705954051366156"
     },
     "user_tz": 300
    },
    "id": "y0gyCbZ9jwbp",
    "outputId": "1b714379-6046-4a78-ee7e-5fd02cc90ab2"
   },
   "outputs": [
    {
     "name": "stdout",
     "output_type": "stream",
     "text": [
      "mean:  0.0708\n"
     ]
    }
   ],
   "source": [
    "print(\"mean: \", round(fp_agesex['FPR_M']['mean'],3).mean() )"
   ]
  },
  {
   "cell_type": "code",
   "execution_count": 28,
   "metadata": {
    "colab": {
     "base_uri": "https://localhost:8080/"
    },
    "executionInfo": {
     "elapsed": 4,
     "status": "ok",
     "timestamp": 1708269579676,
     "user": {
      "displayName": "Gebreyowhans Hailekiros",
      "userId": "12795705954051366156"
     },
     "user_tz": 300
    },
    "id": "UfUogSZWj2k3",
    "outputId": "afc2dcc3-cb06-45ca-e198-f732766e4bee"
   },
   "outputs": [
    {
     "data": {
      "text/plain": [
       "Age\n",
       "0-20     0.086\n",
       "20-40    0.076\n",
       "40-60    0.081\n",
       "60-80    0.071\n",
       "80+      0.081\n",
       "Name: mean, dtype: float64"
      ]
     },
     "execution_count": 28,
     "metadata": {},
     "output_type": "execute_result"
    }
   ],
   "source": [
    "round(fp_agesex['FPR_F']['mean'],3)"
   ]
  },
  {
   "cell_type": "code",
   "execution_count": 29,
   "metadata": {
    "colab": {
     "base_uri": "https://localhost:8080/"
    },
    "executionInfo": {
     "elapsed": 145,
     "status": "ok",
     "timestamp": 1708269579818,
     "user": {
      "displayName": "Gebreyowhans Hailekiros",
      "userId": "12795705954051366156"
     },
     "user_tz": 300
    },
    "id": "duL6EOFGkEs7",
    "outputId": "3d5acb79-3c54-4f32-ee0f-d558a31150d7"
   },
   "outputs": [
    {
     "data": {
      "text/plain": [
       "Age\n",
       "0-20     0.019\n",
       "20-40    0.005\n",
       "40-60    0.005\n",
       "60-80    0.006\n",
       "80+      0.010\n",
       "Name: std, dtype: float64"
      ]
     },
     "execution_count": 29,
     "metadata": {},
     "output_type": "execute_result"
    }
   ],
   "source": [
    "round(significance_level * fp_agesex['FPR_F'][\"std\"] / np.sqrt(5),3)"
   ]
  },
  {
   "cell_type": "code",
   "execution_count": 30,
   "metadata": {
    "id": "kRLmfIK7kOGV"
   },
   "outputs": [],
   "source": [
    "CI = round(significance_level * fp_agesex['FPR_F'][\"std\"] / np.sqrt(5),3)"
   ]
  },
  {
   "cell_type": "code",
   "execution_count": 31,
   "metadata": {
    "id": "L3VeggFB0eL5"
   },
   "outputs": [],
   "source": [
    "def FiveRun(factors,output_df,df):\n",
    "  for factor in factors:\n",
    "    fpr = round(df[factor]['mean'],3)\n",
    "    confI = round(significance_level * df[factor][\"std\"] / np.sqrt(5),3)\n",
    "    output_df[factor] = pd.DataFrame(fpr.values.tolist(),columns =[factor])\n",
    "    output_df['CI_'+factor] = pd.DataFrame(confI.values.tolist(),columns =['CI_'+factor])\n",
    "\n",
    "  return output_df"
   ]
  },
  {
   "cell_type": "code",
   "execution_count": 32,
   "metadata": {
    "colab": {
     "base_uri": "https://localhost:8080/",
     "height": 206
    },
    "executionInfo": {
     "elapsed": 6,
     "status": "ok",
     "timestamp": 1708269579819,
     "user": {
      "displayName": "Gebreyowhans Hailekiros",
      "userId": "12795705954051366156"
     },
     "user_tz": 300
    },
    "id": "hNUKxCeKkf1u",
    "outputId": "6c168796-5773-479c-8693-25c358c166c7"
   },
   "outputs": [
    {
     "data": {
      "text/html": [
       "<div>\n",
       "<style scoped>\n",
       "    .dataframe tbody tr th:only-of-type {\n",
       "        vertical-align: middle;\n",
       "    }\n",
       "\n",
       "    .dataframe tbody tr th {\n",
       "        vertical-align: top;\n",
       "    }\n",
       "\n",
       "    .dataframe thead th {\n",
       "        text-align: right;\n",
       "    }\n",
       "</style>\n",
       "<table border=\"1\" class=\"dataframe\">\n",
       "  <thead>\n",
       "    <tr style=\"text-align: right;\">\n",
       "      <th></th>\n",
       "      <th>Age</th>\n",
       "      <th>FPR_F</th>\n",
       "      <th>CI_FPR_F</th>\n",
       "      <th>FPR_M</th>\n",
       "      <th>CI_FPR_M</th>\n",
       "    </tr>\n",
       "  </thead>\n",
       "  <tbody>\n",
       "    <tr>\n",
       "      <th>0</th>\n",
       "      <td>0-20</td>\n",
       "      <td>0.086</td>\n",
       "      <td>0.019</td>\n",
       "      <td>0.079</td>\n",
       "      <td>0.014</td>\n",
       "    </tr>\n",
       "    <tr>\n",
       "      <th>1</th>\n",
       "      <td>20-40</td>\n",
       "      <td>0.076</td>\n",
       "      <td>0.005</td>\n",
       "      <td>0.101</td>\n",
       "      <td>0.004</td>\n",
       "    </tr>\n",
       "    <tr>\n",
       "      <th>2</th>\n",
       "      <td>40-60</td>\n",
       "      <td>0.081</td>\n",
       "      <td>0.005</td>\n",
       "      <td>0.073</td>\n",
       "      <td>0.005</td>\n",
       "    </tr>\n",
       "    <tr>\n",
       "      <th>3</th>\n",
       "      <td>60-80</td>\n",
       "      <td>0.071</td>\n",
       "      <td>0.006</td>\n",
       "      <td>0.055</td>\n",
       "      <td>0.003</td>\n",
       "    </tr>\n",
       "    <tr>\n",
       "      <th>4</th>\n",
       "      <td>80+</td>\n",
       "      <td>0.081</td>\n",
       "      <td>0.010</td>\n",
       "      <td>0.046</td>\n",
       "      <td>0.005</td>\n",
       "    </tr>\n",
       "  </tbody>\n",
       "</table>\n",
       "</div>"
      ],
      "text/plain": [
       "     Age  FPR_F  CI_FPR_F  FPR_M  CI_FPR_M\n",
       "0   0-20  0.086     0.019  0.079     0.014\n",
       "1  20-40  0.076     0.005  0.101     0.004\n",
       "2  40-60  0.081     0.005  0.073     0.005\n",
       "3  60-80  0.071     0.006  0.055     0.003\n",
       "4    80+  0.081     0.010  0.046     0.005"
      ]
     },
     "execution_count": 32,
     "metadata": {},
     "output_type": "execute_result"
    }
   ],
   "source": [
    "factors = ['FPR_F', 'FPR_M']\n",
    "age =['0-20', '20-40', '40-60', '60-80','80+']\n",
    "agesex_df = pd.DataFrame(age, columns=[\"Age\"])\n",
    "\n",
    "agesex_df = FiveRun(factors,agesex_df,fp_agesex)\n",
    "agesex_df.to_csv(two_group_FPR+'/Inter_AgeSex.csv')\n",
    "agesex_df"
   ]
  },
  {
   "cell_type": "markdown",
   "metadata": {
    "id": "JeP4JQLNuA1M"
   },
   "source": [
    "## Race- Sex"
   ]
  },
  {
   "cell_type": "code",
   "execution_count": 33,
   "metadata": {
    "colab": {
     "base_uri": "https://localhost:8080/",
     "height": 329
    },
    "executionInfo": {
     "elapsed": 1368,
     "status": "ok",
     "timestamp": 1708269581182,
     "user": {
      "displayName": "Gebreyowhans Hailekiros",
      "userId": "12795705954051366156"
     },
     "user_tz": 300
    },
    "id": "Nov7LvV4uCTx",
    "outputId": "d369a23e-7b6a-413d-f5e3-777fd7748aea"
   },
   "outputs": [
    {
     "data": {
      "text/html": [
       "<div>\n",
       "<style scoped>\n",
       "    .dataframe tbody tr th:only-of-type {\n",
       "        vertical-align: middle;\n",
       "    }\n",
       "\n",
       "    .dataframe tbody tr th {\n",
       "        vertical-align: top;\n",
       "    }\n",
       "\n",
       "    .dataframe thead tr th {\n",
       "        text-align: left;\n",
       "    }\n",
       "\n",
       "    .dataframe thead tr:last-of-type th {\n",
       "        text-align: right;\n",
       "    }\n",
       "</style>\n",
       "<table border=\"1\" class=\"dataframe\">\n",
       "  <thead>\n",
       "    <tr>\n",
       "      <th></th>\n",
       "      <th colspan=\"8\" halign=\"left\">Unnamed: 0</th>\n",
       "      <th colspan=\"5\" halign=\"left\">FPR_M</th>\n",
       "      <th colspan=\"8\" halign=\"left\">FPR_F</th>\n",
       "    </tr>\n",
       "    <tr>\n",
       "      <th></th>\n",
       "      <th>count</th>\n",
       "      <th>mean</th>\n",
       "      <th>std</th>\n",
       "      <th>min</th>\n",
       "      <th>25%</th>\n",
       "      <th>50%</th>\n",
       "      <th>75%</th>\n",
       "      <th>max</th>\n",
       "      <th>count</th>\n",
       "      <th>mean</th>\n",
       "      <th>...</th>\n",
       "      <th>75%</th>\n",
       "      <th>max</th>\n",
       "      <th>count</th>\n",
       "      <th>mean</th>\n",
       "      <th>std</th>\n",
       "      <th>min</th>\n",
       "      <th>25%</th>\n",
       "      <th>50%</th>\n",
       "      <th>75%</th>\n",
       "      <th>max</th>\n",
       "    </tr>\n",
       "    <tr>\n",
       "      <th>race</th>\n",
       "      <th></th>\n",
       "      <th></th>\n",
       "      <th></th>\n",
       "      <th></th>\n",
       "      <th></th>\n",
       "      <th></th>\n",
       "      <th></th>\n",
       "      <th></th>\n",
       "      <th></th>\n",
       "      <th></th>\n",
       "      <th></th>\n",
       "      <th></th>\n",
       "      <th></th>\n",
       "      <th></th>\n",
       "      <th></th>\n",
       "      <th></th>\n",
       "      <th></th>\n",
       "      <th></th>\n",
       "      <th></th>\n",
       "      <th></th>\n",
       "      <th></th>\n",
       "    </tr>\n",
       "  </thead>\n",
       "  <tbody>\n",
       "    <tr>\n",
       "      <th>AMERICAN INDIAN/ALASKA NATIVE</th>\n",
       "      <td>5.0</td>\n",
       "      <td>5.0</td>\n",
       "      <td>0.0</td>\n",
       "      <td>5.0</td>\n",
       "      <td>5.0</td>\n",
       "      <td>5.0</td>\n",
       "      <td>5.0</td>\n",
       "      <td>5.0</td>\n",
       "      <td>5.0</td>\n",
       "      <td>0.1194</td>\n",
       "      <td>...</td>\n",
       "      <td>0.123</td>\n",
       "      <td>0.129</td>\n",
       "      <td>5.0</td>\n",
       "      <td>0.1268</td>\n",
       "      <td>0.007823</td>\n",
       "      <td>0.116</td>\n",
       "      <td>0.122</td>\n",
       "      <td>0.128</td>\n",
       "      <td>0.134</td>\n",
       "      <td>0.134</td>\n",
       "    </tr>\n",
       "    <tr>\n",
       "      <th>ASIAN</th>\n",
       "      <td>5.0</td>\n",
       "      <td>4.0</td>\n",
       "      <td>0.0</td>\n",
       "      <td>4.0</td>\n",
       "      <td>4.0</td>\n",
       "      <td>4.0</td>\n",
       "      <td>4.0</td>\n",
       "      <td>4.0</td>\n",
       "      <td>5.0</td>\n",
       "      <td>0.0796</td>\n",
       "      <td>...</td>\n",
       "      <td>0.083</td>\n",
       "      <td>0.086</td>\n",
       "      <td>5.0</td>\n",
       "      <td>0.1174</td>\n",
       "      <td>0.004506</td>\n",
       "      <td>0.113</td>\n",
       "      <td>0.115</td>\n",
       "      <td>0.115</td>\n",
       "      <td>0.120</td>\n",
       "      <td>0.124</td>\n",
       "    </tr>\n",
       "    <tr>\n",
       "      <th>BLACK/AFRICAN AMERICAN</th>\n",
       "      <td>5.0</td>\n",
       "      <td>1.0</td>\n",
       "      <td>0.0</td>\n",
       "      <td>1.0</td>\n",
       "      <td>1.0</td>\n",
       "      <td>1.0</td>\n",
       "      <td>1.0</td>\n",
       "      <td>1.0</td>\n",
       "      <td>5.0</td>\n",
       "      <td>0.1600</td>\n",
       "      <td>...</td>\n",
       "      <td>0.165</td>\n",
       "      <td>0.172</td>\n",
       "      <td>5.0</td>\n",
       "      <td>0.2160</td>\n",
       "      <td>0.006124</td>\n",
       "      <td>0.206</td>\n",
       "      <td>0.216</td>\n",
       "      <td>0.216</td>\n",
       "      <td>0.221</td>\n",
       "      <td>0.221</td>\n",
       "    </tr>\n",
       "    <tr>\n",
       "      <th>HISPANIC/LATINO</th>\n",
       "      <td>5.0</td>\n",
       "      <td>2.0</td>\n",
       "      <td>0.0</td>\n",
       "      <td>2.0</td>\n",
       "      <td>2.0</td>\n",
       "      <td>2.0</td>\n",
       "      <td>2.0</td>\n",
       "      <td>2.0</td>\n",
       "      <td>5.0</td>\n",
       "      <td>0.1520</td>\n",
       "      <td>...</td>\n",
       "      <td>0.159</td>\n",
       "      <td>0.161</td>\n",
       "      <td>5.0</td>\n",
       "      <td>0.1888</td>\n",
       "      <td>0.008955</td>\n",
       "      <td>0.177</td>\n",
       "      <td>0.183</td>\n",
       "      <td>0.191</td>\n",
       "      <td>0.193</td>\n",
       "      <td>0.200</td>\n",
       "    </tr>\n",
       "    <tr>\n",
       "      <th>OTHER</th>\n",
       "      <td>5.0</td>\n",
       "      <td>3.0</td>\n",
       "      <td>0.0</td>\n",
       "      <td>3.0</td>\n",
       "      <td>3.0</td>\n",
       "      <td>3.0</td>\n",
       "      <td>3.0</td>\n",
       "      <td>3.0</td>\n",
       "      <td>5.0</td>\n",
       "      <td>0.0850</td>\n",
       "      <td>...</td>\n",
       "      <td>0.085</td>\n",
       "      <td>0.094</td>\n",
       "      <td>5.0</td>\n",
       "      <td>0.1086</td>\n",
       "      <td>0.007162</td>\n",
       "      <td>0.102</td>\n",
       "      <td>0.105</td>\n",
       "      <td>0.105</td>\n",
       "      <td>0.111</td>\n",
       "      <td>0.120</td>\n",
       "    </tr>\n",
       "    <tr>\n",
       "      <th>WHITE</th>\n",
       "      <td>5.0</td>\n",
       "      <td>0.0</td>\n",
       "      <td>0.0</td>\n",
       "      <td>0.0</td>\n",
       "      <td>0.0</td>\n",
       "      <td>0.0</td>\n",
       "      <td>0.0</td>\n",
       "      <td>0.0</td>\n",
       "      <td>5.0</td>\n",
       "      <td>0.1046</td>\n",
       "      <td>...</td>\n",
       "      <td>0.106</td>\n",
       "      <td>0.110</td>\n",
       "      <td>5.0</td>\n",
       "      <td>0.1202</td>\n",
       "      <td>0.005630</td>\n",
       "      <td>0.112</td>\n",
       "      <td>0.117</td>\n",
       "      <td>0.122</td>\n",
       "      <td>0.125</td>\n",
       "      <td>0.125</td>\n",
       "    </tr>\n",
       "  </tbody>\n",
       "</table>\n",
       "<p>6 rows × 24 columns</p>\n",
       "</div>"
      ],
      "text/plain": [
       "                              Unnamed: 0                                     \\\n",
       "                                   count mean  std  min  25%  50%  75%  max   \n",
       "race                                                                          \n",
       "AMERICAN INDIAN/ALASKA NATIVE        5.0  5.0  0.0  5.0  5.0  5.0  5.0  5.0   \n",
       "ASIAN                                5.0  4.0  0.0  4.0  4.0  4.0  4.0  4.0   \n",
       "BLACK/AFRICAN AMERICAN               5.0  1.0  0.0  1.0  1.0  1.0  1.0  1.0   \n",
       "HISPANIC/LATINO                      5.0  2.0  0.0  2.0  2.0  2.0  2.0  2.0   \n",
       "OTHER                                5.0  3.0  0.0  3.0  3.0  3.0  3.0  3.0   \n",
       "WHITE                                5.0  0.0  0.0  0.0  0.0  0.0  0.0  0.0   \n",
       "\n",
       "                              FPR_M          ...               FPR_F          \\\n",
       "                              count    mean  ...    75%    max count    mean   \n",
       "race                                         ...                               \n",
       "AMERICAN INDIAN/ALASKA NATIVE   5.0  0.1194  ...  0.123  0.129   5.0  0.1268   \n",
       "ASIAN                           5.0  0.0796  ...  0.083  0.086   5.0  0.1174   \n",
       "BLACK/AFRICAN AMERICAN          5.0  0.1600  ...  0.165  0.172   5.0  0.2160   \n",
       "HISPANIC/LATINO                 5.0  0.1520  ...  0.159  0.161   5.0  0.1888   \n",
       "OTHER                           5.0  0.0850  ...  0.085  0.094   5.0  0.1086   \n",
       "WHITE                           5.0  0.1046  ...  0.106  0.110   5.0  0.1202   \n",
       "\n",
       "                                                                            \n",
       "                                    std    min    25%    50%    75%    max  \n",
       "race                                                                        \n",
       "AMERICAN INDIAN/ALASKA NATIVE  0.007823  0.116  0.122  0.128  0.134  0.134  \n",
       "ASIAN                          0.004506  0.113  0.115  0.115  0.120  0.124  \n",
       "BLACK/AFRICAN AMERICAN         0.006124  0.206  0.216  0.216  0.221  0.221  \n",
       "HISPANIC/LATINO                0.008955  0.177  0.183  0.191  0.193  0.200  \n",
       "OTHER                          0.007162  0.102  0.105  0.105  0.111  0.120  \n",
       "WHITE                          0.005630  0.112  0.117  0.122  0.125  0.125  \n",
       "\n",
       "[6 rows x 24 columns]"
      ]
     },
     "execution_count": 33,
     "metadata": {},
     "output_type": "execute_result"
    }
   ],
   "source": [
    "seed_19_race_sex = pd.read_csv(two_group_FPR+\"/run_19FP_RaceSex.csv\")\n",
    "seed_31_race_sex= pd.read_csv(two_group_FPR+\"/run_31FP_RaceSex.csv\")\n",
    "seed_38_race_sex = pd.read_csv(two_group_FPR+\"/run_38FP_RaceSex.csv\")\n",
    "seed_47_race_sex = pd.read_csv(two_group_FPR+\"/run_47FP_RaceSex.csv\")\n",
    "seed_77_race_sex = pd.read_csv(two_group_FPR+\"/run_77FP_RaceSex.csv\")\n",
    "\n",
    "fp_race_sex =pd.concat([seed_19_race_sex, seed_31_race_sex,seed_38_race_sex,\n",
    "                       seed_47_race_sex,seed_77_race_sex])\n",
    "\n",
    "fp_race_sex =fp_race_sex.groupby(\"race\")\n",
    "fp_race_sex = fp_race_sex.describe()\n",
    "\n",
    "fp_race_sex"
   ]
  },
  {
   "cell_type": "code",
   "execution_count": 34,
   "metadata": {
    "colab": {
     "base_uri": "https://localhost:8080/",
     "height": 237
    },
    "executionInfo": {
     "elapsed": 9,
     "status": "ok",
     "timestamp": 1708269581182,
     "user": {
      "displayName": "Gebreyowhans Hailekiros",
      "userId": "12795705954051366156"
     },
     "user_tz": 300
    },
    "id": "qERLv-D5wFjJ",
    "outputId": "e07bf777-6962-4929-f097-71b721cb898d"
   },
   "outputs": [
    {
     "data": {
      "text/html": [
       "<div>\n",
       "<style scoped>\n",
       "    .dataframe tbody tr th:only-of-type {\n",
       "        vertical-align: middle;\n",
       "    }\n",
       "\n",
       "    .dataframe tbody tr th {\n",
       "        vertical-align: top;\n",
       "    }\n",
       "\n",
       "    .dataframe thead th {\n",
       "        text-align: right;\n",
       "    }\n",
       "</style>\n",
       "<table border=\"1\" class=\"dataframe\">\n",
       "  <thead>\n",
       "    <tr style=\"text-align: right;\">\n",
       "      <th></th>\n",
       "      <th>race</th>\n",
       "      <th>FPR_F</th>\n",
       "      <th>CI_FPR_F</th>\n",
       "      <th>FPR_M</th>\n",
       "      <th>CI_FPR_M</th>\n",
       "    </tr>\n",
       "  </thead>\n",
       "  <tbody>\n",
       "    <tr>\n",
       "      <th>0</th>\n",
       "      <td>AMERICAN INDIAN/ALASKA NATIVE</td>\n",
       "      <td>0.127</td>\n",
       "      <td>0.007</td>\n",
       "      <td>0.119</td>\n",
       "      <td>0.006</td>\n",
       "    </tr>\n",
       "    <tr>\n",
       "      <th>1</th>\n",
       "      <td>ASIAN</td>\n",
       "      <td>0.117</td>\n",
       "      <td>0.004</td>\n",
       "      <td>0.080</td>\n",
       "      <td>0.004</td>\n",
       "    </tr>\n",
       "    <tr>\n",
       "      <th>2</th>\n",
       "      <td>BLACK/AFRICAN AMERICAN</td>\n",
       "      <td>0.216</td>\n",
       "      <td>0.005</td>\n",
       "      <td>0.160</td>\n",
       "      <td>0.008</td>\n",
       "    </tr>\n",
       "    <tr>\n",
       "      <th>3</th>\n",
       "      <td>HISPANIC/LATINO</td>\n",
       "      <td>0.189</td>\n",
       "      <td>0.008</td>\n",
       "      <td>0.152</td>\n",
       "      <td>0.007</td>\n",
       "    </tr>\n",
       "    <tr>\n",
       "      <th>4</th>\n",
       "      <td>OTHER</td>\n",
       "      <td>0.109</td>\n",
       "      <td>0.006</td>\n",
       "      <td>0.085</td>\n",
       "      <td>0.005</td>\n",
       "    </tr>\n",
       "    <tr>\n",
       "      <th>5</th>\n",
       "      <td>WHITE</td>\n",
       "      <td>0.120</td>\n",
       "      <td>0.005</td>\n",
       "      <td>0.105</td>\n",
       "      <td>0.003</td>\n",
       "    </tr>\n",
       "  </tbody>\n",
       "</table>\n",
       "</div>"
      ],
      "text/plain": [
       "                            race  FPR_F  CI_FPR_F  FPR_M  CI_FPR_M\n",
       "0  AMERICAN INDIAN/ALASKA NATIVE  0.127     0.007  0.119     0.006\n",
       "1                          ASIAN  0.117     0.004  0.080     0.004\n",
       "2         BLACK/AFRICAN AMERICAN  0.216     0.005  0.160     0.008\n",
       "3                HISPANIC/LATINO  0.189     0.008  0.152     0.007\n",
       "4                          OTHER  0.109     0.006  0.085     0.005\n",
       "5                          WHITE  0.120     0.005  0.105     0.003"
      ]
     },
     "execution_count": 34,
     "metadata": {},
     "output_type": "execute_result"
    }
   ],
   "source": [
    "factors = ['FPR_F', 'FPR_M']\n",
    "race =['AMERICAN INDIAN/ALASKA NATIVE', 'ASIAN', 'BLACK/AFRICAN AMERICAN',\n",
    "       'HISPANIC/LATINO','OTHER','WHITE']\n",
    "RaceSex_df = pd.DataFrame(race, columns=[\"race\"])\n",
    "\n",
    "RaceSex_df = FiveRun(factors,RaceSex_df,fp_race_sex)\n",
    "RaceSex_df.to_csv(two_group_FPR+'/Inter_RaceSex.csv')\n",
    "RaceSex_df"
   ]
  },
  {
   "cell_type": "markdown",
   "metadata": {
    "id": "5Yc-wGxb1HHC"
   },
   "source": [
    "## Race-Age"
   ]
  },
  {
   "cell_type": "code",
   "execution_count": 35,
   "metadata": {
    "colab": {
     "base_uri": "https://localhost:8080/",
     "height": 298
    },
    "executionInfo": {
     "elapsed": 1085,
     "status": "ok",
     "timestamp": 1708269582260,
     "user": {
      "displayName": "Gebreyowhans Hailekiros",
      "userId": "12795705954051366156"
     },
     "user_tz": 300
    },
    "id": "2S1_loqc1IhB",
    "outputId": "6e8a276b-e299-469c-9a43-7b4b54c36d9a"
   },
   "outputs": [
    {
     "data": {
      "text/html": [
       "<div>\n",
       "<style scoped>\n",
       "    .dataframe tbody tr th:only-of-type {\n",
       "        vertical-align: middle;\n",
       "    }\n",
       "\n",
       "    .dataframe tbody tr th {\n",
       "        vertical-align: top;\n",
       "    }\n",
       "\n",
       "    .dataframe thead tr th {\n",
       "        text-align: left;\n",
       "    }\n",
       "\n",
       "    .dataframe thead tr:last-of-type th {\n",
       "        text-align: right;\n",
       "    }\n",
       "</style>\n",
       "<table border=\"1\" class=\"dataframe\">\n",
       "  <thead>\n",
       "    <tr>\n",
       "      <th></th>\n",
       "      <th colspan=\"8\" halign=\"left\">Unnamed: 0</th>\n",
       "      <th colspan=\"2\" halign=\"left\">FPR_White</th>\n",
       "      <th>...</th>\n",
       "      <th colspan=\"2\" halign=\"left\">FPR_Asian</th>\n",
       "      <th colspan=\"8\" halign=\"left\">FPR_American</th>\n",
       "    </tr>\n",
       "    <tr>\n",
       "      <th></th>\n",
       "      <th>count</th>\n",
       "      <th>mean</th>\n",
       "      <th>std</th>\n",
       "      <th>min</th>\n",
       "      <th>25%</th>\n",
       "      <th>50%</th>\n",
       "      <th>75%</th>\n",
       "      <th>max</th>\n",
       "      <th>count</th>\n",
       "      <th>mean</th>\n",
       "      <th>...</th>\n",
       "      <th>75%</th>\n",
       "      <th>max</th>\n",
       "      <th>count</th>\n",
       "      <th>mean</th>\n",
       "      <th>std</th>\n",
       "      <th>min</th>\n",
       "      <th>25%</th>\n",
       "      <th>50%</th>\n",
       "      <th>75%</th>\n",
       "      <th>max</th>\n",
       "    </tr>\n",
       "    <tr>\n",
       "      <th>age</th>\n",
       "      <th></th>\n",
       "      <th></th>\n",
       "      <th></th>\n",
       "      <th></th>\n",
       "      <th></th>\n",
       "      <th></th>\n",
       "      <th></th>\n",
       "      <th></th>\n",
       "      <th></th>\n",
       "      <th></th>\n",
       "      <th></th>\n",
       "      <th></th>\n",
       "      <th></th>\n",
       "      <th></th>\n",
       "      <th></th>\n",
       "      <th></th>\n",
       "      <th></th>\n",
       "      <th></th>\n",
       "      <th></th>\n",
       "      <th></th>\n",
       "      <th></th>\n",
       "    </tr>\n",
       "  </thead>\n",
       "  <tbody>\n",
       "    <tr>\n",
       "      <th>0-20</th>\n",
       "      <td>5.0</td>\n",
       "      <td>4.0</td>\n",
       "      <td>0.0</td>\n",
       "      <td>4.0</td>\n",
       "      <td>4.0</td>\n",
       "      <td>4.0</td>\n",
       "      <td>4.0</td>\n",
       "      <td>4.0</td>\n",
       "      <td>5.0</td>\n",
       "      <td>0.0470</td>\n",
       "      <td>...</td>\n",
       "      <td>0.000</td>\n",
       "      <td>0.000</td>\n",
       "      <td>5.0</td>\n",
       "      <td>0.4666</td>\n",
       "      <td>0.182939</td>\n",
       "      <td>0.333</td>\n",
       "      <td>0.333</td>\n",
       "      <td>0.333</td>\n",
       "      <td>0.667</td>\n",
       "      <td>0.667</td>\n",
       "    </tr>\n",
       "    <tr>\n",
       "      <th>20-40</th>\n",
       "      <td>5.0</td>\n",
       "      <td>2.0</td>\n",
       "      <td>0.0</td>\n",
       "      <td>2.0</td>\n",
       "      <td>2.0</td>\n",
       "      <td>2.0</td>\n",
       "      <td>2.0</td>\n",
       "      <td>2.0</td>\n",
       "      <td>5.0</td>\n",
       "      <td>0.0990</td>\n",
       "      <td>...</td>\n",
       "      <td>0.070</td>\n",
       "      <td>0.080</td>\n",
       "      <td>5.0</td>\n",
       "      <td>0.1450</td>\n",
       "      <td>0.019596</td>\n",
       "      <td>0.113</td>\n",
       "      <td>0.145</td>\n",
       "      <td>0.145</td>\n",
       "      <td>0.161</td>\n",
       "      <td>0.161</td>\n",
       "    </tr>\n",
       "    <tr>\n",
       "      <th>40-60</th>\n",
       "      <td>5.0</td>\n",
       "      <td>1.0</td>\n",
       "      <td>0.0</td>\n",
       "      <td>1.0</td>\n",
       "      <td>1.0</td>\n",
       "      <td>1.0</td>\n",
       "      <td>1.0</td>\n",
       "      <td>1.0</td>\n",
       "      <td>5.0</td>\n",
       "      <td>0.0788</td>\n",
       "      <td>...</td>\n",
       "      <td>0.082</td>\n",
       "      <td>0.089</td>\n",
       "      <td>5.0</td>\n",
       "      <td>0.1152</td>\n",
       "      <td>0.013791</td>\n",
       "      <td>0.096</td>\n",
       "      <td>0.115</td>\n",
       "      <td>0.115</td>\n",
       "      <td>0.115</td>\n",
       "      <td>0.135</td>\n",
       "    </tr>\n",
       "    <tr>\n",
       "      <th>60-80</th>\n",
       "      <td>5.0</td>\n",
       "      <td>0.0</td>\n",
       "      <td>0.0</td>\n",
       "      <td>0.0</td>\n",
       "      <td>0.0</td>\n",
       "      <td>0.0</td>\n",
       "      <td>0.0</td>\n",
       "      <td>0.0</td>\n",
       "      <td>5.0</td>\n",
       "      <td>0.0546</td>\n",
       "      <td>...</td>\n",
       "      <td>0.085</td>\n",
       "      <td>0.088</td>\n",
       "      <td>5.0</td>\n",
       "      <td>0.1044</td>\n",
       "      <td>0.016441</td>\n",
       "      <td>0.081</td>\n",
       "      <td>0.093</td>\n",
       "      <td>0.116</td>\n",
       "      <td>0.116</td>\n",
       "      <td>0.116</td>\n",
       "    </tr>\n",
       "    <tr>\n",
       "      <th>80+</th>\n",
       "      <td>5.0</td>\n",
       "      <td>3.0</td>\n",
       "      <td>0.0</td>\n",
       "      <td>3.0</td>\n",
       "      <td>3.0</td>\n",
       "      <td>3.0</td>\n",
       "      <td>3.0</td>\n",
       "      <td>3.0</td>\n",
       "      <td>5.0</td>\n",
       "      <td>0.0596</td>\n",
       "      <td>...</td>\n",
       "      <td>0.036</td>\n",
       "      <td>0.038</td>\n",
       "      <td>5.0</td>\n",
       "      <td>0.0000</td>\n",
       "      <td>0.000000</td>\n",
       "      <td>0.000</td>\n",
       "      <td>0.000</td>\n",
       "      <td>0.000</td>\n",
       "      <td>0.000</td>\n",
       "      <td>0.000</td>\n",
       "    </tr>\n",
       "  </tbody>\n",
       "</table>\n",
       "<p>5 rows × 56 columns</p>\n",
       "</div>"
      ],
      "text/plain": [
       "      Unnamed: 0                                    FPR_White          ...  \\\n",
       "           count mean  std  min  25%  50%  75%  max     count    mean  ...   \n",
       "age                                                                    ...   \n",
       "0-20         5.0  4.0  0.0  4.0  4.0  4.0  4.0  4.0       5.0  0.0470  ...   \n",
       "20-40        5.0  2.0  0.0  2.0  2.0  2.0  2.0  2.0       5.0  0.0990  ...   \n",
       "40-60        5.0  1.0  0.0  1.0  1.0  1.0  1.0  1.0       5.0  0.0788  ...   \n",
       "60-80        5.0  0.0  0.0  0.0  0.0  0.0  0.0  0.0       5.0  0.0546  ...   \n",
       "80+          5.0  3.0  0.0  3.0  3.0  3.0  3.0  3.0       5.0  0.0596  ...   \n",
       "\n",
       "      FPR_Asian        FPR_American                                         \\\n",
       "            75%    max        count    mean       std    min    25%    50%   \n",
       "age                                                                          \n",
       "0-20      0.000  0.000          5.0  0.4666  0.182939  0.333  0.333  0.333   \n",
       "20-40     0.070  0.080          5.0  0.1450  0.019596  0.113  0.145  0.145   \n",
       "40-60     0.082  0.089          5.0  0.1152  0.013791  0.096  0.115  0.115   \n",
       "60-80     0.085  0.088          5.0  0.1044  0.016441  0.081  0.093  0.116   \n",
       "80+       0.036  0.038          5.0  0.0000  0.000000  0.000  0.000  0.000   \n",
       "\n",
       "                     \n",
       "         75%    max  \n",
       "age                  \n",
       "0-20   0.667  0.667  \n",
       "20-40  0.161  0.161  \n",
       "40-60  0.115  0.135  \n",
       "60-80  0.116  0.116  \n",
       "80+    0.000  0.000  \n",
       "\n",
       "[5 rows x 56 columns]"
      ]
     },
     "execution_count": 35,
     "metadata": {},
     "output_type": "execute_result"
    }
   ],
   "source": [
    "seed_19_race_age = pd.read_csv(two_group_FPR+\"/run_19FP_RaceAge.csv\")\n",
    "seed_31_race_age= pd.read_csv(two_group_FPR+\"/run_31FP_RaceAge.csv\")\n",
    "seed_38_race_age = pd.read_csv(two_group_FPR+\"/run_38FP_RaceAge.csv\")\n",
    "seed_47_race_age = pd.read_csv(two_group_FPR+\"/run_47FP_RaceAge.csv\")\n",
    "seed_77_race_age = pd.read_csv(two_group_FPR+\"/run_77FP_RaceAge.csv\")\n",
    "\n",
    "fp_race_age =pd.concat([seed_19_race_age, seed_31_race_age,seed_38_race_age,\n",
    "                       seed_47_race_age,seed_77_race_age])\n",
    "\n",
    "fp_race_age =fp_race_age.groupby(\"age\")\n",
    "fp_race_age = fp_race_age.describe()\n",
    "fp_race_age"
   ]
  },
  {
   "cell_type": "code",
   "execution_count": 36,
   "metadata": {
    "colab": {
     "base_uri": "https://localhost:8080/"
    },
    "executionInfo": {
     "elapsed": 7,
     "status": "ok",
     "timestamp": 1708269582260,
     "user": {
      "displayName": "Gebreyowhans Hailekiros",
      "userId": "12795705954051366156"
     },
     "user_tz": 300
    },
    "id": "w3ZKLzOwy6-a",
    "outputId": "258a0c90-0a98-4e84-a471-4ae752316be5"
   },
   "outputs": [
    {
     "data": {
      "text/plain": [
       "age\n",
       "0-20     0.017\n",
       "20-40    0.005\n",
       "40-60    0.005\n",
       "60-80    0.004\n",
       "80+      0.006\n",
       "Name: std, dtype: float64"
      ]
     },
     "execution_count": 36,
     "metadata": {},
     "output_type": "execute_result"
    }
   ],
   "source": [
    "round(significance_level * fp_race_age['FPR_White'][\"std\"] / np.sqrt(5),3)"
   ]
  },
  {
   "cell_type": "code",
   "execution_count": 37,
   "metadata": {
    "colab": {
     "base_uri": "https://localhost:8080/",
     "height": 206
    },
    "executionInfo": {
     "elapsed": 6,
     "status": "ok",
     "timestamp": 1708269582260,
     "user": {
      "displayName": "Gebreyowhans Hailekiros",
      "userId": "12795705954051366156"
     },
     "user_tz": 300
    },
    "id": "lKXGHjtI1vRD",
    "outputId": "c42831c2-8aab-4062-c494-d6477a9e1b49"
   },
   "outputs": [
    {
     "data": {
      "text/html": [
       "<div>\n",
       "<style scoped>\n",
       "    .dataframe tbody tr th:only-of-type {\n",
       "        vertical-align: middle;\n",
       "    }\n",
       "\n",
       "    .dataframe tbody tr th {\n",
       "        vertical-align: top;\n",
       "    }\n",
       "\n",
       "    .dataframe thead th {\n",
       "        text-align: right;\n",
       "    }\n",
       "</style>\n",
       "<table border=\"1\" class=\"dataframe\">\n",
       "  <thead>\n",
       "    <tr style=\"text-align: right;\">\n",
       "      <th></th>\n",
       "      <th>age</th>\n",
       "      <th>FPR_White</th>\n",
       "      <th>CI_FPR_White</th>\n",
       "      <th>FPR_Black</th>\n",
       "      <th>CI_FPR_Black</th>\n",
       "      <th>FPR_Hisp</th>\n",
       "      <th>CI_FPR_Hisp</th>\n",
       "      <th>FPR_Other</th>\n",
       "      <th>CI_FPR_Other</th>\n",
       "      <th>FPR_Asian</th>\n",
       "      <th>CI_FPR_Asian</th>\n",
       "      <th>FPR_American</th>\n",
       "      <th>CI_FPR_American</th>\n",
       "    </tr>\n",
       "  </thead>\n",
       "  <tbody>\n",
       "    <tr>\n",
       "      <th>0</th>\n",
       "      <td>0-20</td>\n",
       "      <td>0.047</td>\n",
       "      <td>0.017</td>\n",
       "      <td>0.000</td>\n",
       "      <td>0.000</td>\n",
       "      <td>0.333</td>\n",
       "      <td>0.000</td>\n",
       "      <td>0.383</td>\n",
       "      <td>0.040</td>\n",
       "      <td>0.000</td>\n",
       "      <td>0.000</td>\n",
       "      <td>0.467</td>\n",
       "      <td>0.160</td>\n",
       "    </tr>\n",
       "    <tr>\n",
       "      <th>1</th>\n",
       "      <td>20-40</td>\n",
       "      <td>0.099</td>\n",
       "      <td>0.005</td>\n",
       "      <td>0.080</td>\n",
       "      <td>0.006</td>\n",
       "      <td>0.019</td>\n",
       "      <td>0.000</td>\n",
       "      <td>0.096</td>\n",
       "      <td>0.004</td>\n",
       "      <td>0.070</td>\n",
       "      <td>0.006</td>\n",
       "      <td>0.145</td>\n",
       "      <td>0.017</td>\n",
       "    </tr>\n",
       "    <tr>\n",
       "      <th>2</th>\n",
       "      <td>40-60</td>\n",
       "      <td>0.079</td>\n",
       "      <td>0.005</td>\n",
       "      <td>0.108</td>\n",
       "      <td>0.008</td>\n",
       "      <td>0.043</td>\n",
       "      <td>0.007</td>\n",
       "      <td>0.060</td>\n",
       "      <td>0.005</td>\n",
       "      <td>0.079</td>\n",
       "      <td>0.006</td>\n",
       "      <td>0.115</td>\n",
       "      <td>0.012</td>\n",
       "    </tr>\n",
       "    <tr>\n",
       "      <th>3</th>\n",
       "      <td>60-80</td>\n",
       "      <td>0.055</td>\n",
       "      <td>0.004</td>\n",
       "      <td>0.072</td>\n",
       "      <td>0.006</td>\n",
       "      <td>0.021</td>\n",
       "      <td>0.004</td>\n",
       "      <td>0.078</td>\n",
       "      <td>0.005</td>\n",
       "      <td>0.080</td>\n",
       "      <td>0.006</td>\n",
       "      <td>0.104</td>\n",
       "      <td>0.014</td>\n",
       "    </tr>\n",
       "    <tr>\n",
       "      <th>4</th>\n",
       "      <td>80+</td>\n",
       "      <td>0.060</td>\n",
       "      <td>0.006</td>\n",
       "      <td>0.087</td>\n",
       "      <td>0.015</td>\n",
       "      <td>0.056</td>\n",
       "      <td>0.011</td>\n",
       "      <td>0.106</td>\n",
       "      <td>0.009</td>\n",
       "      <td>0.034</td>\n",
       "      <td>0.003</td>\n",
       "      <td>0.000</td>\n",
       "      <td>0.000</td>\n",
       "    </tr>\n",
       "  </tbody>\n",
       "</table>\n",
       "</div>"
      ],
      "text/plain": [
       "     age  FPR_White  CI_FPR_White  FPR_Black  CI_FPR_Black  FPR_Hisp  \\\n",
       "0   0-20      0.047         0.017      0.000         0.000     0.333   \n",
       "1  20-40      0.099         0.005      0.080         0.006     0.019   \n",
       "2  40-60      0.079         0.005      0.108         0.008     0.043   \n",
       "3  60-80      0.055         0.004      0.072         0.006     0.021   \n",
       "4    80+      0.060         0.006      0.087         0.015     0.056   \n",
       "\n",
       "   CI_FPR_Hisp  FPR_Other  CI_FPR_Other  FPR_Asian  CI_FPR_Asian  \\\n",
       "0        0.000      0.383         0.040      0.000         0.000   \n",
       "1        0.000      0.096         0.004      0.070         0.006   \n",
       "2        0.007      0.060         0.005      0.079         0.006   \n",
       "3        0.004      0.078         0.005      0.080         0.006   \n",
       "4        0.011      0.106         0.009      0.034         0.003   \n",
       "\n",
       "   FPR_American  CI_FPR_American  \n",
       "0         0.467            0.160  \n",
       "1         0.145            0.017  \n",
       "2         0.115            0.012  \n",
       "3         0.104            0.014  \n",
       "4         0.000            0.000  "
      ]
     },
     "execution_count": 37,
     "metadata": {},
     "output_type": "execute_result"
    }
   ],
   "source": [
    "factors = ['FPR_White', 'FPR_Black','FPR_Hisp','FPR_Other','FPR_Asian','FPR_American']\n",
    "age =['0-20', '20-40', '40-60', '60-80','80+']\n",
    "RaceAge_df = pd.DataFrame(age, columns=[\"age\"])\n",
    "\n",
    "\n",
    "RaceAge_df = FiveRun(factors,RaceAge_df,fp_race_age)\n",
    "RaceAge_df.to_csv(two_group_FPR+'/Inter_RaceAge.csv')\n",
    "RaceAge_df"
   ]
  },
  {
   "cell_type": "markdown",
   "metadata": {},
   "source": [
    "# Three group Intersectional identity"
   ]
  },
  {
   "cell_type": "markdown",
   "metadata": {
    "id": "SG_F04_wH1va"
   },
   "source": [
    "## Race , age and sex"
   ]
  },
  {
   "cell_type": "code",
   "execution_count": 38,
   "metadata": {
    "id": "W0LNcpvdHe_Z"
   },
   "outputs": [],
   "source": [
    "three_group_FPR = './FPR/Three_Group_Intersection_FPR/'\n"
   ]
  },
  {
   "cell_type": "code",
   "execution_count": 39,
   "metadata": {
    "id": "jcs-agOoHm4O"
   },
   "outputs": [],
   "source": [
    "RaceAgeSex_19 = pd.read_csv(three_group_FPR+\"/run_19FP_RaceAgeSex.csv\")\n",
    "RaceAgeSex_31 = pd.read_csv(three_group_FPR+\"/run_31FP_RaceAgeSex.csv\")\n",
    "RaceAgeSex_38 = pd.read_csv(three_group_FPR+\"/run_38FP_RaceAgeSex.csv\")\n",
    "RaceAgeSex_47 = pd.read_csv(three_group_FPR+\"/run_47FP_RaceAgeSex.csv\")\n",
    "RaceAgeSex_77 = pd.read_csv(three_group_FPR+\"/run_77FP_RaceAgeSex.csv\")"
   ]
  },
  {
   "cell_type": "code",
   "execution_count": 40,
   "metadata": {
    "colab": {
     "base_uri": "https://localhost:8080/",
     "height": 329
    },
    "executionInfo": {
     "elapsed": 181,
     "status": "ok",
     "timestamp": 1708269584840,
     "user": {
      "displayName": "Gebreyowhans Hailekiros",
      "userId": "12795705954051366156"
     },
     "user_tz": 300
    },
    "id": "0mP78bD1L0Cu",
    "outputId": "92ba1046-b47d-4d89-a6aa-1c15025c8a8a"
   },
   "outputs": [
    {
     "data": {
      "text/html": [
       "<div>\n",
       "<style scoped>\n",
       "    .dataframe tbody tr th:only-of-type {\n",
       "        vertical-align: middle;\n",
       "    }\n",
       "\n",
       "    .dataframe tbody tr th {\n",
       "        vertical-align: top;\n",
       "    }\n",
       "\n",
       "    .dataframe thead tr th {\n",
       "        text-align: left;\n",
       "    }\n",
       "\n",
       "    .dataframe thead tr:last-of-type th {\n",
       "        text-align: right;\n",
       "    }\n",
       "</style>\n",
       "<table border=\"1\" class=\"dataframe\">\n",
       "  <thead>\n",
       "    <tr>\n",
       "      <th></th>\n",
       "      <th colspan=\"8\" halign=\"left\">Unnamed: 0</th>\n",
       "      <th colspan=\"2\" halign=\"left\">FPR_60_80_M</th>\n",
       "      <th>...</th>\n",
       "      <th colspan=\"2\" halign=\"left\">FPR_80+_F</th>\n",
       "      <th colspan=\"8\" halign=\"left\">FPR_0_20_F</th>\n",
       "    </tr>\n",
       "    <tr>\n",
       "      <th></th>\n",
       "      <th>count</th>\n",
       "      <th>mean</th>\n",
       "      <th>std</th>\n",
       "      <th>min</th>\n",
       "      <th>25%</th>\n",
       "      <th>50%</th>\n",
       "      <th>75%</th>\n",
       "      <th>max</th>\n",
       "      <th>count</th>\n",
       "      <th>mean</th>\n",
       "      <th>...</th>\n",
       "      <th>75%</th>\n",
       "      <th>max</th>\n",
       "      <th>count</th>\n",
       "      <th>mean</th>\n",
       "      <th>std</th>\n",
       "      <th>min</th>\n",
       "      <th>25%</th>\n",
       "      <th>50%</th>\n",
       "      <th>75%</th>\n",
       "      <th>max</th>\n",
       "    </tr>\n",
       "    <tr>\n",
       "      <th>race</th>\n",
       "      <th></th>\n",
       "      <th></th>\n",
       "      <th></th>\n",
       "      <th></th>\n",
       "      <th></th>\n",
       "      <th></th>\n",
       "      <th></th>\n",
       "      <th></th>\n",
       "      <th></th>\n",
       "      <th></th>\n",
       "      <th></th>\n",
       "      <th></th>\n",
       "      <th></th>\n",
       "      <th></th>\n",
       "      <th></th>\n",
       "      <th></th>\n",
       "      <th></th>\n",
       "      <th></th>\n",
       "      <th></th>\n",
       "      <th></th>\n",
       "      <th></th>\n",
       "    </tr>\n",
       "  </thead>\n",
       "  <tbody>\n",
       "    <tr>\n",
       "      <th>AMERICAN INDIAN/ALASKA NATIVE</th>\n",
       "      <td>5.0</td>\n",
       "      <td>5.0</td>\n",
       "      <td>0.0</td>\n",
       "      <td>5.0</td>\n",
       "      <td>5.0</td>\n",
       "      <td>5.0</td>\n",
       "      <td>5.0</td>\n",
       "      <td>5.0</td>\n",
       "      <td>5.0</td>\n",
       "      <td>0.0910</td>\n",
       "      <td>...</td>\n",
       "      <td>0.000</td>\n",
       "      <td>0.000</td>\n",
       "      <td>5.0</td>\n",
       "      <td>0.2000</td>\n",
       "      <td>0.273861</td>\n",
       "      <td>0.00</td>\n",
       "      <td>0.00</td>\n",
       "      <td>0.0</td>\n",
       "      <td>0.5</td>\n",
       "      <td>0.500</td>\n",
       "    </tr>\n",
       "    <tr>\n",
       "      <th>ASIAN</th>\n",
       "      <td>5.0</td>\n",
       "      <td>4.0</td>\n",
       "      <td>0.0</td>\n",
       "      <td>4.0</td>\n",
       "      <td>4.0</td>\n",
       "      <td>4.0</td>\n",
       "      <td>4.0</td>\n",
       "      <td>4.0</td>\n",
       "      <td>5.0</td>\n",
       "      <td>0.0734</td>\n",
       "      <td>...</td>\n",
       "      <td>0.040</td>\n",
       "      <td>0.046</td>\n",
       "      <td>0.0</td>\n",
       "      <td>NaN</td>\n",
       "      <td>NaN</td>\n",
       "      <td>NaN</td>\n",
       "      <td>NaN</td>\n",
       "      <td>NaN</td>\n",
       "      <td>NaN</td>\n",
       "      <td>NaN</td>\n",
       "    </tr>\n",
       "    <tr>\n",
       "      <th>BLACK/AFRICAN AMERICAN</th>\n",
       "      <td>5.0</td>\n",
       "      <td>1.0</td>\n",
       "      <td>0.0</td>\n",
       "      <td>1.0</td>\n",
       "      <td>1.0</td>\n",
       "      <td>1.0</td>\n",
       "      <td>1.0</td>\n",
       "      <td>1.0</td>\n",
       "      <td>5.0</td>\n",
       "      <td>0.0692</td>\n",
       "      <td>...</td>\n",
       "      <td>0.079</td>\n",
       "      <td>0.089</td>\n",
       "      <td>5.0</td>\n",
       "      <td>0.0000</td>\n",
       "      <td>0.000000</td>\n",
       "      <td>0.00</td>\n",
       "      <td>0.00</td>\n",
       "      <td>0.0</td>\n",
       "      <td>0.0</td>\n",
       "      <td>0.000</td>\n",
       "    </tr>\n",
       "    <tr>\n",
       "      <th>HISPANIC/LATINO</th>\n",
       "      <td>5.0</td>\n",
       "      <td>2.0</td>\n",
       "      <td>0.0</td>\n",
       "      <td>2.0</td>\n",
       "      <td>2.0</td>\n",
       "      <td>2.0</td>\n",
       "      <td>2.0</td>\n",
       "      <td>2.0</td>\n",
       "      <td>5.0</td>\n",
       "      <td>0.0000</td>\n",
       "      <td>...</td>\n",
       "      <td>0.125</td>\n",
       "      <td>0.125</td>\n",
       "      <td>5.0</td>\n",
       "      <td>0.0000</td>\n",
       "      <td>0.000000</td>\n",
       "      <td>0.00</td>\n",
       "      <td>0.00</td>\n",
       "      <td>0.0</td>\n",
       "      <td>0.0</td>\n",
       "      <td>0.000</td>\n",
       "    </tr>\n",
       "    <tr>\n",
       "      <th>OTHER</th>\n",
       "      <td>5.0</td>\n",
       "      <td>3.0</td>\n",
       "      <td>0.0</td>\n",
       "      <td>3.0</td>\n",
       "      <td>3.0</td>\n",
       "      <td>3.0</td>\n",
       "      <td>3.0</td>\n",
       "      <td>3.0</td>\n",
       "      <td>5.0</td>\n",
       "      <td>0.0504</td>\n",
       "      <td>...</td>\n",
       "      <td>0.136</td>\n",
       "      <td>0.182</td>\n",
       "      <td>5.0</td>\n",
       "      <td>0.9000</td>\n",
       "      <td>0.136931</td>\n",
       "      <td>0.75</td>\n",
       "      <td>0.75</td>\n",
       "      <td>1.0</td>\n",
       "      <td>1.0</td>\n",
       "      <td>1.000</td>\n",
       "    </tr>\n",
       "    <tr>\n",
       "      <th>WHITE</th>\n",
       "      <td>5.0</td>\n",
       "      <td>0.0</td>\n",
       "      <td>0.0</td>\n",
       "      <td>0.0</td>\n",
       "      <td>0.0</td>\n",
       "      <td>0.0</td>\n",
       "      <td>0.0</td>\n",
       "      <td>0.0</td>\n",
       "      <td>5.0</td>\n",
       "      <td>0.0514</td>\n",
       "      <td>...</td>\n",
       "      <td>0.087</td>\n",
       "      <td>0.102</td>\n",
       "      <td>5.0</td>\n",
       "      <td>0.0052</td>\n",
       "      <td>0.011628</td>\n",
       "      <td>0.00</td>\n",
       "      <td>0.00</td>\n",
       "      <td>0.0</td>\n",
       "      <td>0.0</td>\n",
       "      <td>0.026</td>\n",
       "    </tr>\n",
       "  </tbody>\n",
       "</table>\n",
       "<p>6 rows × 88 columns</p>\n",
       "</div>"
      ],
      "text/plain": [
       "                              Unnamed: 0                                     \\\n",
       "                                   count mean  std  min  25%  50%  75%  max   \n",
       "race                                                                          \n",
       "AMERICAN INDIAN/ALASKA NATIVE        5.0  5.0  0.0  5.0  5.0  5.0  5.0  5.0   \n",
       "ASIAN                                5.0  4.0  0.0  4.0  4.0  4.0  4.0  4.0   \n",
       "BLACK/AFRICAN AMERICAN               5.0  1.0  0.0  1.0  1.0  1.0  1.0  1.0   \n",
       "HISPANIC/LATINO                      5.0  2.0  0.0  2.0  2.0  2.0  2.0  2.0   \n",
       "OTHER                                5.0  3.0  0.0  3.0  3.0  3.0  3.0  3.0   \n",
       "WHITE                                5.0  0.0  0.0  0.0  0.0  0.0  0.0  0.0   \n",
       "\n",
       "                              FPR_60_80_M          ... FPR_80+_F         \\\n",
       "                                    count    mean  ...       75%    max   \n",
       "race                                               ...                    \n",
       "AMERICAN INDIAN/ALASKA NATIVE         5.0  0.0910  ...     0.000  0.000   \n",
       "ASIAN                                 5.0  0.0734  ...     0.040  0.046   \n",
       "BLACK/AFRICAN AMERICAN                5.0  0.0692  ...     0.079  0.089   \n",
       "HISPANIC/LATINO                       5.0  0.0000  ...     0.125  0.125   \n",
       "OTHER                                 5.0  0.0504  ...     0.136  0.182   \n",
       "WHITE                                 5.0  0.0514  ...     0.087  0.102   \n",
       "\n",
       "                              FPR_0_20_F                                     \\\n",
       "                                   count    mean       std   min   25%  50%   \n",
       "race                                                                          \n",
       "AMERICAN INDIAN/ALASKA NATIVE        5.0  0.2000  0.273861  0.00  0.00  0.0   \n",
       "ASIAN                                0.0     NaN       NaN   NaN   NaN  NaN   \n",
       "BLACK/AFRICAN AMERICAN               5.0  0.0000  0.000000  0.00  0.00  0.0   \n",
       "HISPANIC/LATINO                      5.0  0.0000  0.000000  0.00  0.00  0.0   \n",
       "OTHER                                5.0  0.9000  0.136931  0.75  0.75  1.0   \n",
       "WHITE                                5.0  0.0052  0.011628  0.00  0.00  0.0   \n",
       "\n",
       "                                           \n",
       "                               75%    max  \n",
       "race                                       \n",
       "AMERICAN INDIAN/ALASKA NATIVE  0.5  0.500  \n",
       "ASIAN                          NaN    NaN  \n",
       "BLACK/AFRICAN AMERICAN         0.0  0.000  \n",
       "HISPANIC/LATINO                0.0  0.000  \n",
       "OTHER                          1.0  1.000  \n",
       "WHITE                          0.0  0.026  \n",
       "\n",
       "[6 rows x 88 columns]"
      ]
     },
     "execution_count": 40,
     "metadata": {},
     "output_type": "execute_result"
    }
   ],
   "source": [
    "\n",
    "fp_race_age_sex_df =pd.concat([RaceAgeSex_19, RaceAgeSex_31,RaceAgeSex_38,\n",
    "                       RaceAgeSex_47,RaceAgeSex_77])\n",
    "\n",
    "fp_race_age_sex_df =fp_race_age_sex_df.groupby(\"race\")\n",
    "fp_race_age_sex_df = fp_race_age_sex_df.describe()\n",
    "fp_race_age_sex_df"
   ]
  },
  {
   "cell_type": "code",
   "execution_count": 41,
   "metadata": {
    "colab": {
     "base_uri": "https://localhost:8080/",
     "height": 339
    },
    "executionInfo": {
     "elapsed": 16,
     "status": "ok",
     "timestamp": 1708269584841,
     "user": {
      "displayName": "Gebreyowhans Hailekiros",
      "userId": "12795705954051366156"
     },
     "user_tz": 300
    },
    "id": "0___JZHjLw8b",
    "outputId": "04f6af3a-cf2f-4c92-f67c-b5a266ac3aa0"
   },
   "outputs": [
    {
     "data": {
      "text/html": [
       "<div>\n",
       "<style scoped>\n",
       "    .dataframe tbody tr th:only-of-type {\n",
       "        vertical-align: middle;\n",
       "    }\n",
       "\n",
       "    .dataframe tbody tr th {\n",
       "        vertical-align: top;\n",
       "    }\n",
       "\n",
       "    .dataframe thead th {\n",
       "        text-align: right;\n",
       "    }\n",
       "</style>\n",
       "<table border=\"1\" class=\"dataframe\">\n",
       "  <thead>\n",
       "    <tr style=\"text-align: right;\">\n",
       "      <th></th>\n",
       "      <th>race</th>\n",
       "      <th>FPR_60_80_M</th>\n",
       "      <th>CI_FPR_60_80_M</th>\n",
       "      <th>FPR_40_60_M</th>\n",
       "      <th>CI_FPR_40_60_M</th>\n",
       "      <th>FPR_20_40_M</th>\n",
       "      <th>CI_FPR_20_40_M</th>\n",
       "      <th>FPR_80+_M</th>\n",
       "      <th>CI_FPR_80+_M</th>\n",
       "      <th>FPR_0_20_M</th>\n",
       "      <th>...</th>\n",
       "      <th>FPR_60_80_F</th>\n",
       "      <th>CI_FPR_60_80_F</th>\n",
       "      <th>FPR_40_60_F</th>\n",
       "      <th>CI_FPR_40_60_F</th>\n",
       "      <th>FPR_20_40_F</th>\n",
       "      <th>CI_FPR_20_40_F</th>\n",
       "      <th>FPR_80+_F</th>\n",
       "      <th>CI_FPR_80+_F</th>\n",
       "      <th>FPR_0_20_F</th>\n",
       "      <th>CI_FPR_0_20_F</th>\n",
       "    </tr>\n",
       "  </thead>\n",
       "  <tbody>\n",
       "    <tr>\n",
       "      <th>0</th>\n",
       "      <td>AMERICAN INDIAN/ALASKA NATIVE</td>\n",
       "      <td>0.091</td>\n",
       "      <td>0.000</td>\n",
       "      <td>0.114</td>\n",
       "      <td>0.014</td>\n",
       "      <td>0.107</td>\n",
       "      <td>0.019</td>\n",
       "      <td>0.000</td>\n",
       "      <td>0.000</td>\n",
       "      <td>1.000</td>\n",
       "      <td>...</td>\n",
       "      <td>0.109</td>\n",
       "      <td>0.019</td>\n",
       "      <td>0.117</td>\n",
       "      <td>0.016</td>\n",
       "      <td>0.219</td>\n",
       "      <td>0.023</td>\n",
       "      <td>0.000</td>\n",
       "      <td>0.000</td>\n",
       "      <td>0.200</td>\n",
       "      <td>0.24</td>\n",
       "    </tr>\n",
       "    <tr>\n",
       "      <th>1</th>\n",
       "      <td>ASIAN</td>\n",
       "      <td>0.073</td>\n",
       "      <td>0.005</td>\n",
       "      <td>0.073</td>\n",
       "      <td>0.007</td>\n",
       "      <td>0.054</td>\n",
       "      <td>0.007</td>\n",
       "      <td>0.030</td>\n",
       "      <td>0.002</td>\n",
       "      <td>0.000</td>\n",
       "      <td>...</td>\n",
       "      <td>0.094</td>\n",
       "      <td>0.007</td>\n",
       "      <td>0.092</td>\n",
       "      <td>0.006</td>\n",
       "      <td>0.085</td>\n",
       "      <td>0.010</td>\n",
       "      <td>0.040</td>\n",
       "      <td>0.004</td>\n",
       "      <td>NaN</td>\n",
       "      <td>NaN</td>\n",
       "    </tr>\n",
       "    <tr>\n",
       "      <th>2</th>\n",
       "      <td>BLACK/AFRICAN AMERICAN</td>\n",
       "      <td>0.069</td>\n",
       "      <td>0.006</td>\n",
       "      <td>0.085</td>\n",
       "      <td>0.011</td>\n",
       "      <td>0.126</td>\n",
       "      <td>0.014</td>\n",
       "      <td>0.143</td>\n",
       "      <td>0.017</td>\n",
       "      <td>0.000</td>\n",
       "      <td>...</td>\n",
       "      <td>0.075</td>\n",
       "      <td>0.008</td>\n",
       "      <td>0.136</td>\n",
       "      <td>0.005</td>\n",
       "      <td>0.046</td>\n",
       "      <td>0.006</td>\n",
       "      <td>0.062</td>\n",
       "      <td>0.019</td>\n",
       "      <td>0.000</td>\n",
       "      <td>0.00</td>\n",
       "    </tr>\n",
       "    <tr>\n",
       "      <th>3</th>\n",
       "      <td>HISPANIC/LATINO</td>\n",
       "      <td>0.000</td>\n",
       "      <td>0.000</td>\n",
       "      <td>0.059</td>\n",
       "      <td>0.005</td>\n",
       "      <td>0.022</td>\n",
       "      <td>0.000</td>\n",
       "      <td>0.040</td>\n",
       "      <td>0.013</td>\n",
       "      <td>0.500</td>\n",
       "      <td>...</td>\n",
       "      <td>0.044</td>\n",
       "      <td>0.009</td>\n",
       "      <td>0.026</td>\n",
       "      <td>0.011</td>\n",
       "      <td>0.000</td>\n",
       "      <td>0.000</td>\n",
       "      <td>0.125</td>\n",
       "      <td>0.000</td>\n",
       "      <td>0.000</td>\n",
       "      <td>0.00</td>\n",
       "    </tr>\n",
       "    <tr>\n",
       "      <th>4</th>\n",
       "      <td>OTHER</td>\n",
       "      <td>0.050</td>\n",
       "      <td>0.005</td>\n",
       "      <td>0.065</td>\n",
       "      <td>0.004</td>\n",
       "      <td>0.102</td>\n",
       "      <td>0.005</td>\n",
       "      <td>0.078</td>\n",
       "      <td>0.004</td>\n",
       "      <td>0.125</td>\n",
       "      <td>...</td>\n",
       "      <td>0.110</td>\n",
       "      <td>0.006</td>\n",
       "      <td>0.053</td>\n",
       "      <td>0.006</td>\n",
       "      <td>0.085</td>\n",
       "      <td>0.006</td>\n",
       "      <td>0.145</td>\n",
       "      <td>0.018</td>\n",
       "      <td>0.900</td>\n",
       "      <td>0.12</td>\n",
       "    </tr>\n",
       "    <tr>\n",
       "      <th>5</th>\n",
       "      <td>WHITE</td>\n",
       "      <td>0.051</td>\n",
       "      <td>0.003</td>\n",
       "      <td>0.074</td>\n",
       "      <td>0.005</td>\n",
       "      <td>0.117</td>\n",
       "      <td>0.004</td>\n",
       "      <td>0.043</td>\n",
       "      <td>0.005</td>\n",
       "      <td>0.100</td>\n",
       "      <td>...</td>\n",
       "      <td>0.060</td>\n",
       "      <td>0.005</td>\n",
       "      <td>0.085</td>\n",
       "      <td>0.005</td>\n",
       "      <td>0.072</td>\n",
       "      <td>0.007</td>\n",
       "      <td>0.085</td>\n",
       "      <td>0.010</td>\n",
       "      <td>0.005</td>\n",
       "      <td>0.01</td>\n",
       "    </tr>\n",
       "  </tbody>\n",
       "</table>\n",
       "<p>6 rows × 21 columns</p>\n",
       "</div>"
      ],
      "text/plain": [
       "                            race  FPR_60_80_M  CI_FPR_60_80_M  FPR_40_60_M  \\\n",
       "0  AMERICAN INDIAN/ALASKA NATIVE        0.091           0.000        0.114   \n",
       "1                          ASIAN        0.073           0.005        0.073   \n",
       "2         BLACK/AFRICAN AMERICAN        0.069           0.006        0.085   \n",
       "3                HISPANIC/LATINO        0.000           0.000        0.059   \n",
       "4                          OTHER        0.050           0.005        0.065   \n",
       "5                          WHITE        0.051           0.003        0.074   \n",
       "\n",
       "   CI_FPR_40_60_M  FPR_20_40_M  CI_FPR_20_40_M  FPR_80+_M  CI_FPR_80+_M  \\\n",
       "0           0.014        0.107           0.019      0.000         0.000   \n",
       "1           0.007        0.054           0.007      0.030         0.002   \n",
       "2           0.011        0.126           0.014      0.143         0.017   \n",
       "3           0.005        0.022           0.000      0.040         0.013   \n",
       "4           0.004        0.102           0.005      0.078         0.004   \n",
       "5           0.005        0.117           0.004      0.043         0.005   \n",
       "\n",
       "   FPR_0_20_M  ...  FPR_60_80_F  CI_FPR_60_80_F  FPR_40_60_F  CI_FPR_40_60_F  \\\n",
       "0       1.000  ...        0.109           0.019        0.117           0.016   \n",
       "1       0.000  ...        0.094           0.007        0.092           0.006   \n",
       "2       0.000  ...        0.075           0.008        0.136           0.005   \n",
       "3       0.500  ...        0.044           0.009        0.026           0.011   \n",
       "4       0.125  ...        0.110           0.006        0.053           0.006   \n",
       "5       0.100  ...        0.060           0.005        0.085           0.005   \n",
       "\n",
       "   FPR_20_40_F  CI_FPR_20_40_F  FPR_80+_F  CI_FPR_80+_F  FPR_0_20_F  \\\n",
       "0        0.219           0.023      0.000         0.000       0.200   \n",
       "1        0.085           0.010      0.040         0.004         NaN   \n",
       "2        0.046           0.006      0.062         0.019       0.000   \n",
       "3        0.000           0.000      0.125         0.000       0.000   \n",
       "4        0.085           0.006      0.145         0.018       0.900   \n",
       "5        0.072           0.007      0.085         0.010       0.005   \n",
       "\n",
       "   CI_FPR_0_20_F  \n",
       "0           0.24  \n",
       "1            NaN  \n",
       "2           0.00  \n",
       "3           0.00  \n",
       "4           0.12  \n",
       "5           0.01  \n",
       "\n",
       "[6 rows x 21 columns]"
      ]
     },
     "execution_count": 41,
     "metadata": {},
     "output_type": "execute_result"
    }
   ],
   "source": [
    "factors = ['FPR_60_80_M', 'FPR_40_60_M','FPR_20_40_M','FPR_80+_M','FPR_0_20_M','FPR_60_80_F',\n",
    "           'FPR_40_60_F','FPR_20_40_F','FPR_80+_F','FPR_0_20_F']\n",
    "race = ['AMERICAN INDIAN/ALASKA NATIVE','ASIAN','BLACK/AFRICAN AMERICAN','HISPANIC/LATINO','OTHER','WHITE']\n",
    "RaceAgeSex_df = pd.DataFrame(race, columns=[\"race\"])\n",
    "\n",
    "RaceAgeSex_df = FiveRun(factors,RaceAgeSex_df,fp_race_age_sex_df)\n",
    "\n",
    "RaceAgeSex_df.to_csv(three_group_FPR+'/Inter_RaceAgeSex.csv')\n",
    "RaceAgeSex_df"
   ]
  }
 ],
 "metadata": {
  "colab": {
   "provenance": []
  },
  "kernelspec": {
   "display_name": "base",
   "language": "python",
   "name": "python3"
  },
  "language_info": {
   "codemirror_mode": {
    "name": "ipython",
    "version": 3
   },
   "file_extension": ".py",
   "mimetype": "text/x-python",
   "name": "python",
   "nbconvert_exporter": "python",
   "pygments_lexer": "ipython3",
   "version": "3.11.7"
  }
 },
 "nbformat": 4,
 "nbformat_minor": 0
}

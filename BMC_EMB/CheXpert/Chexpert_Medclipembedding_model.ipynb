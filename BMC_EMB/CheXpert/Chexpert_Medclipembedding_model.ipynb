{
 "cells": [
  {
   "cell_type": "code",
   "execution_count": 18,
   "metadata": {},
   "outputs": [],
   "source": [
    "import numpy as np\n",
    "import pandas as pd \n",
    "import sys\n",
    "import os \n",
    "import pickle\n",
    "from sklearn.utils import shuffle\n",
    "import tensorflow as tf\n",
    "from tensorflow.keras.utils import to_categorical\n",
    "from tensorflow.keras.models import Model\n",
    "from tensorflow.keras.layers import Input,Dense,BatchNormalization, Dropout\n",
    "from tensorflow.keras.metrics import AUC\n",
    "# from tensorflow.keras.experimental import CosineDecay\n",
    "from tensorflow.keras.optimizers import Adam\n",
    "from tensorflow.keras.losses import BinaryCrossentropy\n",
    "from tensorflow.keras.initializers import HeUniform\n",
    "from tensorflow.keras.callbacks import EarlyStopping\n",
    "import sklearn.metrics as sklm\n",
    "seed = 19\n",
    "np.random.seed(seed)\n",
    "tf.random.set_seed(seed)\n"
   ]
  },
  {
   "cell_type": "code",
   "execution_count": 19,
   "metadata": {},
   "outputs": [
    {
     "name": "stdout",
     "output_type": "stream",
     "text": [
      "3.11.7 | packaged by Anaconda, Inc. | (main, Dec 15 2023, 18:05:47) [MSC v.1916 64 bit (AMD64)]\n"
     ]
    }
   ],
   "source": [
    "\n",
    "print(sys.version)"
   ]
  },
  {
   "cell_type": "code",
   "execution_count": 20,
   "metadata": {},
   "outputs": [],
   "source": [
    "sys.path.append(os.path.abspath(os.path.join(os.path.dirname('__file__'), os.pardir)))"
   ]
  },
  {
   "cell_type": "code",
   "execution_count": 21,
   "metadata": {},
   "outputs": [
    {
     "name": "stdout",
     "output_type": "stream",
     "text": [
      "\n"
     ]
    }
   ],
   "source": [
    "root_dir = os.path.dirname(os.path.dirname('__file__'))\n",
    "print(root_dir)"
   ]
  },
  {
   "cell_type": "code",
   "execution_count": 22,
   "metadata": {},
   "outputs": [
    {
     "name": "stdout",
     "output_type": "stream",
     "text": [
      "biomedclip-embedding\\embedding_from_biomedclip.pkl\n"
     ]
    }
   ],
   "source": [
    "medclip_embedding_folder = os.path.join(root_dir,\"biomedclip-embedding\")\n",
    "os.makedirs(medclip_embedding_folder, exist_ok=True)\n",
    "medclip_embedding_path = os.path.join(\n",
    "    medclip_embedding_folder, \"embedding_from_biomedclip.pkl\")\n",
    "print(medclip_embedding_path)"
   ]
  },
  {
   "cell_type": "code",
   "execution_count": 23,
   "metadata": {},
   "outputs": [
    {
     "data": {
      "text/html": [
       "<div>\n",
       "<style scoped>\n",
       "    .dataframe tbody tr th:only-of-type {\n",
       "        vertical-align: middle;\n",
       "    }\n",
       "\n",
       "    .dataframe tbody tr th {\n",
       "        vertical-align: top;\n",
       "    }\n",
       "\n",
       "    .dataframe thead th {\n",
       "        text-align: right;\n",
       "    }\n",
       "</style>\n",
       "<table border=\"1\" class=\"dataframe\">\n",
       "  <thead>\n",
       "    <tr style=\"text-align: right;\">\n",
       "      <th></th>\n",
       "      <th>Ids</th>\n",
       "      <th>Path</th>\n",
       "      <th>race</th>\n",
       "      <th>Sex</th>\n",
       "      <th>Age</th>\n",
       "      <th>age_decile</th>\n",
       "      <th>Frontal/Lateral</th>\n",
       "      <th>AP/PA</th>\n",
       "      <th>No Finding</th>\n",
       "      <th>Enlarged Cardiomediastinum</th>\n",
       "      <th>...</th>\n",
       "      <th>Lung Lesion</th>\n",
       "      <th>Edema</th>\n",
       "      <th>Consolidation</th>\n",
       "      <th>Pneumonia</th>\n",
       "      <th>Atelectasis</th>\n",
       "      <th>Pneumothorax</th>\n",
       "      <th>Pleural Effusion</th>\n",
       "      <th>Pleural Other</th>\n",
       "      <th>Fracture</th>\n",
       "      <th>Support Devices</th>\n",
       "    </tr>\n",
       "  </thead>\n",
       "  <tbody>\n",
       "    <tr>\n",
       "      <th>0</th>\n",
       "      <td>0</td>\n",
       "      <td>CheXpert-v1.0-small/train/patient39734/study6/...</td>\n",
       "      <td>Unknown</td>\n",
       "      <td>Male</td>\n",
       "      <td>64</td>\n",
       "      <td>60-80</td>\n",
       "      <td>Frontal</td>\n",
       "      <td>AP</td>\n",
       "      <td>0</td>\n",
       "      <td>0</td>\n",
       "      <td>...</td>\n",
       "      <td>0</td>\n",
       "      <td>-1</td>\n",
       "      <td>0</td>\n",
       "      <td>-1</td>\n",
       "      <td>0</td>\n",
       "      <td>0</td>\n",
       "      <td>1</td>\n",
       "      <td>0</td>\n",
       "      <td>0</td>\n",
       "      <td>0</td>\n",
       "    </tr>\n",
       "    <tr>\n",
       "      <th>1</th>\n",
       "      <td>1</td>\n",
       "      <td>CheXpert-v1.0-small/train/patient29203/study7/...</td>\n",
       "      <td>WHITE</td>\n",
       "      <td>Male</td>\n",
       "      <td>63</td>\n",
       "      <td>60-80</td>\n",
       "      <td>Frontal</td>\n",
       "      <td>PA</td>\n",
       "      <td>0</td>\n",
       "      <td>-1</td>\n",
       "      <td>...</td>\n",
       "      <td>0</td>\n",
       "      <td>0</td>\n",
       "      <td>-1</td>\n",
       "      <td>0</td>\n",
       "      <td>0</td>\n",
       "      <td>-1</td>\n",
       "      <td>-1</td>\n",
       "      <td>0</td>\n",
       "      <td>0</td>\n",
       "      <td>0</td>\n",
       "    </tr>\n",
       "    <tr>\n",
       "      <th>2</th>\n",
       "      <td>2</td>\n",
       "      <td>CheXpert-v1.0-small/train/patient36764/study19...</td>\n",
       "      <td>WHITE</td>\n",
       "      <td>Female</td>\n",
       "      <td>75</td>\n",
       "      <td>60-80</td>\n",
       "      <td>Frontal</td>\n",
       "      <td>AP</td>\n",
       "      <td>0</td>\n",
       "      <td>0</td>\n",
       "      <td>...</td>\n",
       "      <td>0</td>\n",
       "      <td>0</td>\n",
       "      <td>0</td>\n",
       "      <td>0</td>\n",
       "      <td>0</td>\n",
       "      <td>0</td>\n",
       "      <td>-1</td>\n",
       "      <td>0</td>\n",
       "      <td>0</td>\n",
       "      <td>1</td>\n",
       "    </tr>\n",
       "    <tr>\n",
       "      <th>3</th>\n",
       "      <td>3</td>\n",
       "      <td>CheXpert-v1.0-small/train/patient11447/study17...</td>\n",
       "      <td>WHITE</td>\n",
       "      <td>Male</td>\n",
       "      <td>48</td>\n",
       "      <td>40-60</td>\n",
       "      <td>Frontal</td>\n",
       "      <td>AP</td>\n",
       "      <td>0</td>\n",
       "      <td>0</td>\n",
       "      <td>...</td>\n",
       "      <td>0</td>\n",
       "      <td>0</td>\n",
       "      <td>0</td>\n",
       "      <td>0</td>\n",
       "      <td>0</td>\n",
       "      <td>0</td>\n",
       "      <td>1</td>\n",
       "      <td>0</td>\n",
       "      <td>0</td>\n",
       "      <td>1</td>\n",
       "    </tr>\n",
       "    <tr>\n",
       "      <th>4</th>\n",
       "      <td>4</td>\n",
       "      <td>CheXpert-v1.0-small/train/patient26111/study2/...</td>\n",
       "      <td>OTHER</td>\n",
       "      <td>Female</td>\n",
       "      <td>31</td>\n",
       "      <td>20-40</td>\n",
       "      <td>Frontal</td>\n",
       "      <td>AP</td>\n",
       "      <td>0</td>\n",
       "      <td>-1</td>\n",
       "      <td>...</td>\n",
       "      <td>0</td>\n",
       "      <td>0</td>\n",
       "      <td>0</td>\n",
       "      <td>0</td>\n",
       "      <td>0</td>\n",
       "      <td>0</td>\n",
       "      <td>0</td>\n",
       "      <td>0</td>\n",
       "      <td>0</td>\n",
       "      <td>1</td>\n",
       "    </tr>\n",
       "  </tbody>\n",
       "</table>\n",
       "<p>5 rows × 22 columns</p>\n",
       "</div>"
      ],
      "text/plain": [
       "   Ids                                               Path     race     Sex  \\\n",
       "0    0  CheXpert-v1.0-small/train/patient39734/study6/...  Unknown    Male   \n",
       "1    1  CheXpert-v1.0-small/train/patient29203/study7/...    WHITE    Male   \n",
       "2    2  CheXpert-v1.0-small/train/patient36764/study19...    WHITE  Female   \n",
       "3    3  CheXpert-v1.0-small/train/patient11447/study17...    WHITE    Male   \n",
       "4    4  CheXpert-v1.0-small/train/patient26111/study2/...    OTHER  Female   \n",
       "\n",
       "   Age age_decile Frontal/Lateral AP/PA  No Finding  \\\n",
       "0   64      60-80         Frontal    AP           0   \n",
       "1   63      60-80         Frontal    PA           0   \n",
       "2   75      60-80         Frontal    AP           0   \n",
       "3   48      40-60         Frontal    AP           0   \n",
       "4   31      20-40         Frontal    AP           0   \n",
       "\n",
       "   Enlarged Cardiomediastinum  ...  Lung Lesion  Edema  Consolidation  \\\n",
       "0                           0  ...            0     -1              0   \n",
       "1                          -1  ...            0      0             -1   \n",
       "2                           0  ...            0      0              0   \n",
       "3                           0  ...            0      0              0   \n",
       "4                          -1  ...            0      0              0   \n",
       "\n",
       "   Pneumonia  Atelectasis  Pneumothorax  Pleural Effusion  Pleural Other  \\\n",
       "0         -1            0             0                 1              0   \n",
       "1          0            0            -1                -1              0   \n",
       "2          0            0             0                -1              0   \n",
       "3          0            0             0                 1              0   \n",
       "4          0            0             0                 0              0   \n",
       "\n",
       "   Fracture  Support Devices  \n",
       "0         0                0  \n",
       "1         0                0  \n",
       "2         0                1  \n",
       "3         0                1  \n",
       "4         0                1  \n",
       "\n",
       "[5 rows x 22 columns]"
      ]
     },
     "execution_count": 23,
     "metadata": {},
     "output_type": "execute_result"
    }
   ],
   "source": [
    "metadata_df=pd.read_csv(\"./dataframes/chexpert_df.csv\")\n",
    "metadata_df.head(5)"
   ]
  },
  {
   "cell_type": "code",
   "execution_count": 24,
   "metadata": {},
   "outputs": [],
   "source": [
    "metadata_df['ids'] = range(len(metadata_df))"
   ]
  },
  {
   "cell_type": "code",
   "execution_count": 25,
   "metadata": {},
   "outputs": [
    {
     "name": "stdout",
     "output_type": "stream",
     "text": [
      "=============================== Load embedding and target ======================================\n"
     ]
    }
   ],
   "source": [
    "print('=============================== Load embedding and target ======================================')\n",
    "if os.path.exists(medclip_embedding_path):\n",
    "    with open(medclip_embedding_path, 'rb') as f:\n",
    "        X, y, valid_id, ids = pickle.load(f)"
   ]
  },
  {
   "cell_type": "code",
   "execution_count": 26,
   "metadata": {},
   "outputs": [],
   "source": [
    "# X is 2D numpy array of shape (200452, 512) \n",
    "bioClipdf = pd.DataFrame({\n",
    "    'ids': range(len(X)),        # Create an 'id' column starting from 0\n",
    "    'emb': list(X),# The 'emb' column holds the embeddings\n",
    "})\n",
    "bioClipdf.columns = ['ids', 'emb']"
   ]
  },
  {
   "cell_type": "code",
   "execution_count": 27,
   "metadata": {},
   "outputs": [
    {
     "data": {
      "text/plain": [
       "(222822, 2)"
      ]
     },
     "execution_count": 27,
     "metadata": {},
     "output_type": "execute_result"
    }
   ],
   "source": [
    "bioClipdf = bioClipdf[~bioClipdf['emb'].apply(lambda x: np.all(np.array(x) == 0.0))]\n",
    "\n",
    "bioClipdf.shape\n"
   ]
  },
  {
   "cell_type": "code",
   "execution_count": 28,
   "metadata": {},
   "outputs": [],
   "source": [
    "df=bioClipdf.merge(metadata_df,on='ids',how=\"inner\")\n",
    "df = df[~df['emb'].apply(lambda x: np.all(np.array(x) == 0.0))]"
   ]
  },
  {
   "cell_type": "code",
   "execution_count": 29,
   "metadata": {},
   "outputs": [
    {
     "data": {
      "text/plain": [
       "Index(['ids', 'emb', 'Ids', 'Path', 'race', 'Sex', 'Age', 'age_decile',\n",
       "       'Frontal/Lateral', 'AP/PA', 'No Finding', 'Enlarged Cardiomediastinum',\n",
       "       'Cardiomegaly', 'Lung Opacity', 'Lung Lesion', 'Edema', 'Consolidation',\n",
       "       'Pneumonia', 'Atelectasis', 'Pneumothorax', 'Pleural Effusion',\n",
       "       'Pleural Other', 'Fracture', 'Support Devices'],\n",
       "      dtype='object')"
      ]
     },
     "execution_count": 29,
     "metadata": {},
     "output_type": "execute_result"
    }
   ],
   "source": [
    "df.columns\n"
   ]
  },
  {
   "cell_type": "code",
   "execution_count": 30,
   "metadata": {},
   "outputs": [],
   "source": [
    "# Define the desired order of columns\n",
    "olumns_order = ['Path','race','Sex','age_decile', 'Frontal/Lateral', 'AP/PA','emb',\n",
    "                'Enlarged Cardiomediastinum','Cardiomegaly','Lung Opacity','Lung Lesion','Edema','Consolidation',\n",
    "                'Pneumonia','Atelectasis','Pneumothorax','Pleural Effusion','Pleural Other',\n",
    "                'Fracture','Support Devices','No Finding']\n",
    "# Reorder the columns in the merged DataFrame\n",
    "df = df[olumns_order]\n"
   ]
  },
  {
   "cell_type": "code",
   "execution_count": 31,
   "metadata": {},
   "outputs": [],
   "source": [
    "labels_Columns=['Enlarged Cardiomediastinum', 'Cardiomegaly',\n",
    "                'Lung Opacity', 'Lung Lesion', 'Edema', 'Consolidation', 'Pneumonia',\n",
    "                'Atelectasis', 'Pneumothorax', 'Pleural Effusion', 'Pleural Other',\n",
    "                'Fracture', 'Support Devices', 'No Finding']\n",
    "\n",
    "df[labels_Columns]=df[labels_Columns].astype(\"float64\")"
   ]
  },
  {
   "cell_type": "code",
   "execution_count": 32,
   "metadata": {},
   "outputs": [],
   "source": [
    "df['path_splited'] = df['Path'].str.split('/')\n",
    "df['patientid'] = df['path_splited'].apply(lambda x: x[2])\n",
    "\n",
    "# Insert 'patient_id' column at the second position\n",
    "df.insert(1, 'patient_id', df['patientid'])\n",
    "\n",
    "# Drop the intermediate 'path_splited' column\n",
    "df.drop('path_splited', axis=1, inplace=True)\n",
    "df.drop('patientid', axis=1, inplace=True)"
   ]
  },
  {
   "cell_type": "code",
   "execution_count": 33,
   "metadata": {},
   "outputs": [],
   "source": [
    "df[labels_Columns] = df[labels_Columns].replace(-1.0, 0.0)"
   ]
  },
  {
   "cell_type": "code",
   "execution_count": 34,
   "metadata": {},
   "outputs": [],
   "source": [
    "unique_pathId = df.patient_id.unique()\n",
    "\n",
    "train_percent, valid_percent, test_percent = 0.80, 0.10, 0.10\n",
    "\n",
    "unique_path_id = shuffle(unique_pathId)\n",
    "value1 = (round(len(unique_path_id)*train_percent))\n",
    "value2 = (round(len(unique_path_id)*valid_percent))\n",
    "value3 = value1 + value2\n",
    "value4 = (round(len(unique_path_id)*test_percent))"
   ]
  },
  {
   "cell_type": "code",
   "execution_count": 35,
   "metadata": {},
   "outputs": [
    {
     "name": "stdout",
     "output_type": "stream",
     "text": [
      "Patients in training set: 47132\n"
     ]
    }
   ],
   "source": [
    "print(\"Patients in training set: \" + str(value1))"
   ]
  },
  {
   "cell_type": "code",
   "execution_count": 36,
   "metadata": {},
   "outputs": [
    {
     "name": "stdout",
     "output_type": "stream",
     "text": [
      "Patients in validation set: 5892\n"
     ]
    }
   ],
   "source": [
    "print(\"Patients in validation set: \" + str(value2))"
   ]
  },
  {
   "cell_type": "code",
   "execution_count": 37,
   "metadata": {},
   "outputs": [
    {
     "name": "stdout",
     "output_type": "stream",
     "text": [
      "Patients in testing set: 5892\n"
     ]
    }
   ],
   "source": [
    "print(\"Patients in testing set: \" + str(value4))"
   ]
  },
  {
   "cell_type": "code",
   "execution_count": 38,
   "metadata": {},
   "outputs": [
    {
     "name": "stdout",
     "output_type": "stream",
     "text": [
      "<class 'numpy.ndarray'>\n",
      "['patient47099' 'patient01426' 'patient62616' ... 'patient27137'\n",
      " 'patient15811' 'patient34633']\n"
     ]
    }
   ],
   "source": [
    "df = shuffle(df)\n",
    "\n",
    "train_path_id = unique_path_id[:value1]\n",
    "validate_path_id = unique_path_id[value1:value3]\n",
    "test_path_id = unique_path_id[value3:]\n",
    "\n",
    "print(type(train_path_id))\n",
    "print(train_path_id)"
   ]
  },
  {
   "cell_type": "code",
   "execution_count": 39,
   "metadata": {},
   "outputs": [],
   "source": [
    "df.insert(7, \"split\",\"none\", True)"
   ]
  },
  {
   "cell_type": "code",
   "execution_count": 40,
   "metadata": {},
   "outputs": [],
   "source": [
    "df.loc[df.patient_id.isin(train_path_id), \"split\"]=\"train\"\n",
    "df.loc[df.patient_id.isin(validate_path_id), \"split\"]=\"validate\"\n",
    "df.loc[df.patient_id.isin(test_path_id), \"split\"]=\"test\"\n"
   ]
  },
  {
   "cell_type": "code",
   "execution_count": 41,
   "metadata": {},
   "outputs": [
    {
     "data": {
      "text/plain": [
       "split\n",
       "train       178119\n",
       "test         22398\n",
       "validate     22305\n",
       "Name: count, dtype: int64"
      ]
     },
     "execution_count": 41,
     "metadata": {},
     "output_type": "execute_result"
    }
   ],
   "source": [
    "df.split.value_counts()"
   ]
  },
  {
   "cell_type": "code",
   "execution_count": 42,
   "metadata": {},
   "outputs": [],
   "source": [
    "df_train = df[df[\"split\"] == \"train\"]\n",
    "df_validate = df[df[\"split\"] == \"validate\"]\n",
    "df_test = df[df[\"split\"] == \"test\"]"
   ]
  },
  {
   "cell_type": "code",
   "execution_count": 43,
   "metadata": {},
   "outputs": [],
   "source": [
    "# Create tf.data.Dataset objects for the datasets\n",
    "train_dataset = tf.data.Dataset.from_tensor_slices((df_train.emb.values.tolist(), df_train[labels_Columns].values))"
   ]
  },
  {
   "cell_type": "code",
   "execution_count": 44,
   "metadata": {},
   "outputs": [],
   "source": [
    "\n",
    "# Create tf.data.Dataset objects for the datasets\n",
    "validation_dataset = tf.data.Dataset.from_tensor_slices((df_validate.emb.values.tolist(), \n",
    "                                                         df_validate[labels_Columns].values))"
   ]
  },
  {
   "cell_type": "code",
   "execution_count": 45,
   "metadata": {},
   "outputs": [
    {
     "name": "stdout",
     "output_type": "stream",
     "text": [
      "(<tf.Tensor: shape=(512,), dtype=float32, numpy=\n",
      "array([-2.52827644e+00, -2.73314929e+00, -2.25194874e+01,  1.76190758e+00,\n",
      "       -8.13132823e-02,  5.90191066e-01, -2.02042675e+00,  3.24216843e+00,\n",
      "       -3.64443827e+00, -1.85935259e+00,  1.39303878e-01, -4.52414036e-01,\n",
      "       -2.83769751e+00, -1.24786854e+00,  2.59242344e+00, -3.29066467e+00,\n",
      "       -4.43732738e-03,  2.84692264e+00, -5.48546791e-01,  6.13512993e-01,\n",
      "        3.60663831e-01, -1.45759487e+00,  1.02198958e+00, -1.47407055e+00,\n",
      "       -1.65611446e+00, -1.54040229e+00,  9.63267982e-01, -4.14039046e-01,\n",
      "        6.30937767e+00, -2.62229323e+00,  1.95765936e+00,  1.66747451e+00,\n",
      "       -2.87865400e-01,  4.01815057e-01,  2.38236284e+00,  2.45617938e+00,\n",
      "        4.15446281e+00,  3.92585897e+00, -7.18697357e+00, -1.13032949e+00,\n",
      "        2.74335957e+00, -3.82473969e+00, -6.78174686e+00,  3.00571871e+00,\n",
      "        2.37133503e+00,  6.73607707e-01, -4.24187869e-01,  1.92160857e+00,\n",
      "       -3.02830696e+00, -2.52796602e+00, -3.48400569e+00, -1.04729879e+00,\n",
      "        3.69376779e-01, -2.04440451e+00, -2.30113834e-01,  5.81144691e-02,\n",
      "        4.01655912e-01,  4.49016380e+00,  3.22408938e+00,  5.28537321e+00,\n",
      "        1.51901078e+00, -4.65622330e+00, -3.03598523e+00,  6.23436546e+00,\n",
      "       -1.58095503e+00,  1.44710928e-01, -1.21086907e+00, -1.70971549e+00,\n",
      "        1.40636563e-01,  8.02424431e-01, -1.67291164e-02, -1.72237635e-01,\n",
      "       -2.82266688e+00, -1.27983379e+00,  3.52050996e+00,  5.86397648e+00,\n",
      "       -6.97430491e-01, -1.25994980e-02,  1.81258547e+00, -4.57553959e+00,\n",
      "        5.37691295e-01, -1.92652440e+00,  1.62734962e+00, -3.07892650e-01,\n",
      "       -2.24706507e+00, -4.18807077e+00,  6.24460316e+00,  2.21713209e+00,\n",
      "        7.63161302e-01, -2.13202953e-01, -4.68921661e+00, -1.57284641e+00,\n",
      "       -3.38544726e+00, -2.56951427e+00,  1.04273319e+00, -1.37971747e+00,\n",
      "       -5.37056637e+00,  2.63463259e-01,  1.31063282e-01,  3.47849989e+00,\n",
      "       -5.23182392e+00,  2.65530586e+00, -2.19676256e+00,  1.03608489e+00,\n",
      "       -1.42599702e+00, -1.55491912e+00, -2.91053593e-01, -4.67310524e+00,\n",
      "        1.57220578e+00,  6.85109615e+00, -5.03910005e-01,  7.15067267e-01,\n",
      "        1.24152231e+00,  4.19431877e+00, -1.40768194e+00,  1.63272762e+00,\n",
      "       -1.89640045e+00,  3.82413340e+00, -1.63419890e+00,  7.33821332e-01,\n",
      "       -5.20306635e+00, -7.44747519e-01, -8.38192368e+00, -4.40427971e+00,\n",
      "        1.25226188e+00,  2.69302058e+00, -1.30453932e+00,  5.76957417e+00,\n",
      "       -6.81994200e-01,  1.56435513e+00, -1.32684493e+00, -1.43014026e+00,\n",
      "       -1.91451776e+00, -5.76734018e+00, -4.94478750e+00, -1.09785390e+00,\n",
      "       -2.87387705e+00,  1.56987214e+00, -1.68182898e+00, -3.50994253e+00,\n",
      "       -2.23253131e+00,  6.39968872e-01, -3.93314123e+00,  1.90985942e+00,\n",
      "       -2.59899080e-01, -1.94295442e+00, -1.20788765e+00,  2.51615810e+00,\n",
      "       -5.28012753e+00,  2.78004974e-01, -8.32920551e-01,  4.25726080e+00,\n",
      "        1.98881531e+00,  8.18553269e-01,  2.40137053e+00, -5.20549297e+00,\n",
      "       -1.13893986e-01, -6.40157342e-01,  3.55081987e+00,  3.36351490e+00,\n",
      "       -1.91109824e+00,  2.16277885e+00,  1.70148778e+00,  2.87361693e+00,\n",
      "        1.28384161e+00,  5.92385626e+00, -1.77755189e+00, -9.04131603e+00,\n",
      "        5.23237514e+00,  1.38483167e+00,  7.59155416e+00, -1.46573520e+00,\n",
      "        3.35919929e+00, -7.89704919e-02, -1.67705321e+00, -4.26702213e+00,\n",
      "       -6.57850885e+00, -2.87219524e+00,  1.41193080e+00, -2.48704648e+00,\n",
      "       -2.06631184e+00,  2.99258375e+00,  2.23761988e+00,  2.96102500e+00,\n",
      "        3.12453270e+00, -2.94324827e+00, -5.80019772e-01,  1.45243967e+00,\n",
      "        2.98492730e-01,  5.92707634e+00, -1.44964767e+00,  3.01005960e+00,\n",
      "        7.41714835e-02,  2.83492231e+00, -2.54338384e+00,  8.16424549e-01,\n",
      "       -1.89173353e+00,  2.85440922e+00,  1.02026987e+00,  1.95234573e+00,\n",
      "        1.90870357e+00,  5.24984300e-03, -9.32164311e-01,  1.04588795e+00,\n",
      "        4.22212505e+00,  2.14917302e+00,  5.08846283e-01, -2.46966124e-01,\n",
      "        2.82176089e+00, -3.00184774e+00, -1.11387074e+00,  1.45856142e+00,\n",
      "       -7.90456176e-01,  6.43254220e-01, -2.27203310e-01,  8.98743212e-01,\n",
      "        8.43430519e+00, -2.48866558e+00,  3.94614172e+00, -9.94626999e-01,\n",
      "        6.93243980e+00, -5.55783033e-01, -1.46256137e+00,  5.74230194e-01,\n",
      "        2.06745625e+00,  1.16969490e+00, -6.19387817e+00, -6.34467721e-01,\n",
      "       -5.15374184e-01, -2.32844567e+00,  1.70348299e+00, -5.33921385e+00,\n",
      "       -3.45502317e-01,  5.13755131e+00, -1.26491189e-01,  3.25148582e-01,\n",
      "       -4.20153427e+00, -7.47440529e+00, -2.49238566e-01, -1.87972820e+00,\n",
      "       -5.70946312e+00,  6.99959993e-02,  2.84657717e+00,  3.65455437e+00,\n",
      "       -3.22483301e+00, -3.22172737e+00, -2.32071900e+00,  8.77775192e-01,\n",
      "        1.38469803e+00, -6.49879360e+00,  5.30822158e-01,  5.93646526e+00,\n",
      "       -5.31899977e+00,  1.55260980e+00,  7.85758197e-02, -1.56468558e+00,\n",
      "       -6.31236172e+00, -9.50988865e+00,  1.47579217e+00, -9.98198628e-01,\n",
      "        1.18922544e+00, -2.92744565e+00,  2.59893847e+00, -2.42510414e+00,\n",
      "        3.91981900e-02,  3.02190351e+00, -9.13610339e-01,  2.57995367e+00,\n",
      "        7.81091750e-02, -3.91295743e+00,  2.78598309e+00,  5.27515769e-01,\n",
      "        7.51927328e+00,  1.44256842e+00, -5.60583496e+00,  1.90702152e+01,\n",
      "        2.42443323e+00,  6.06319189e-01,  3.73927116e+00,  2.88712049e+00,\n",
      "       -1.65493846e+00, -2.31119275e-01,  5.68854141e+00,  2.41436219e+00,\n",
      "        5.62523842e-01,  1.09490669e+00,  5.73159218e-01,  5.05126476e-01,\n",
      "        2.76633549e+00, -3.14051151e+00, -9.43487644e-01,  7.46737957e-01,\n",
      "       -7.27397203e-01,  2.44983983e+00, -2.38615084e+00, -7.35441303e+00,\n",
      "        4.93222046e+00,  5.24271607e-01, -8.39351273e+00, -5.58149457e-01,\n",
      "        1.49326432e+00, -1.97688174e+00,  1.30057216e-01, -2.18430042e+00,\n",
      "        8.54177833e-01,  2.57228279e+00, -6.77438557e-01, -4.38930094e-01,\n",
      "       -1.21485507e+00,  7.12835026e+00,  3.86549139e+00,  1.98867589e-01,\n",
      "       -7.80363441e-01,  2.02338982e+00, -1.93753898e-01,  2.36433554e+00,\n",
      "        1.92905879e+00,  8.64688158e-01, -5.48267937e+00, -1.76526046e+00,\n",
      "       -5.95495892e+00,  1.84712768e+00, -2.02707934e+00, -1.50897861e+00,\n",
      "       -1.15148687e+00,  7.29920340e+00, -4.69211674e+00,  4.32261705e+00,\n",
      "       -5.07178402e+00, -2.69661379e+00, -2.35851402e+01,  2.30161190e-01,\n",
      "       -9.92861271e-01,  1.10937893e+00, -1.69362235e+00,  2.01355830e-01,\n",
      "       -2.73229432e+00, -1.87942624e+00,  6.24109328e-01,  5.13796329e+00,\n",
      "       -2.29696226e+00, -1.31684685e+00,  3.53454024e-01, -4.37739182e+00,\n",
      "       -4.38025475e-01,  5.29859543e-01,  1.19117403e+00, -2.84097981e+00,\n",
      "       -3.83836055e+00, -3.46328080e-01,  2.04996681e+00, -1.86798418e+00,\n",
      "       -6.34108543e-01,  2.60194540e-01, -8.76989722e-01, -4.78575706e+00,\n",
      "       -5.34534454e-03, -1.17717040e+00, -1.31387687e+00, -4.67099428e+00,\n",
      "       -2.39791751e+00, -4.54423141e+00, -1.63329303e+00,  4.83227670e-01,\n",
      "        4.91448879e+00,  4.56500244e+00,  2.22586989e+00, -3.35057235e+00,\n",
      "        1.07828605e+00, -1.02733409e+00,  1.95501566e+00, -1.53028345e+00,\n",
      "        1.89663565e+00,  3.46690059e+00, -2.91060162e+00, -1.63767505e+00,\n",
      "       -4.10967970e+00,  2.09354663e+00, -3.97739220e+00,  8.46937299e-01,\n",
      "       -5.62509727e+00,  1.84202671e-01, -6.89021111e-01, -1.13296938e+00,\n",
      "        4.38332462e+00,  3.22824240e-01, -1.65616012e+00,  3.80226970e+00,\n",
      "        5.09052134e+00,  2.28685856e-01,  4.43489361e+00, -5.92344522e+00,\n",
      "       -3.73670101e+00,  3.16559458e+00, -1.00425243e-01,  4.90520763e+00,\n",
      "        6.29575729e-01,  2.06469193e+01, -5.32708740e+00,  3.76895785e+00,\n",
      "        3.69704151e+00,  5.17356157e+00, -1.10628378e+00, -9.04543400e-02,\n",
      "        2.79668164e+00, -2.84794509e-01, -3.64201546e+00, -5.10449529e-01,\n",
      "        1.21580648e+00, -1.59239435e+00, -1.97365367e+00, -6.31055832e-01,\n",
      "        1.21786237e+00, -1.68411517e+00, -1.90838146e+00, -3.78371596e+00,\n",
      "        5.23308277e+00,  3.11134958e+00,  1.52375937e+00, -3.34276700e+00,\n",
      "        3.63719559e+00, -9.47870636e+00,  7.09092259e-01,  1.26303744e+00,\n",
      "       -6.14552915e-01,  4.92806530e+00,  4.11052656e+00,  1.15714431e+00,\n",
      "       -3.56035256e+00, -8.29486609e-01,  1.04777193e+00,  5.46002674e+00,\n",
      "       -2.13779211e+00, -7.43152380e-01,  4.61557770e+00,  5.63146830e+00,\n",
      "        1.49145246e+00, -3.97957921e+00, -2.59434640e-01, -2.71237278e+00,\n",
      "        5.23738480e+00, -3.41503835e+00, -1.33731806e+00, -4.21778488e+00,\n",
      "       -3.62589383e+00, -6.80360842e+00,  1.21527672e+00,  2.07564473e+00,\n",
      "       -2.13034439e+00,  2.65728855e+00, -1.16366959e+00, -4.54881144e+00,\n",
      "        7.56670475e+00,  1.85477781e+00, -6.15002298e+00,  4.73311782e-01,\n",
      "       -1.57946539e+00,  2.61468434e+00,  3.20969701e+00, -5.67832756e+00,\n",
      "       -1.48945808e+00, -7.72866547e-01, -4.23666382e+00,  2.81010008e+00,\n",
      "       -9.62954521e-01,  5.63306427e+00,  8.44195187e-01,  3.78564000e-02,\n",
      "        1.37972808e+00, -6.70805836e+00,  2.22138309e+00,  1.10642266e+00,\n",
      "       -3.26961303e+00,  3.37747383e+00,  2.05127239e+00,  3.87222958e+00,\n",
      "       -2.79577160e+00,  3.07997227e-01,  3.43756914e+00,  1.67415965e+00,\n",
      "        2.99444509e+00, -2.36237574e+00,  2.01122189e+00,  5.26051235e+00,\n",
      "        4.43290138e+00, -2.76594901e+00, -1.47352004e+00, -1.81027627e+00,\n",
      "       -5.40697384e+00, -4.53962088e+00, -2.38702106e+00, -2.91930437e-02,\n",
      "        5.74525118e+00,  1.04713786e+00, -1.64060390e+00,  6.93852127e-01,\n",
      "        3.64323080e-01, -3.52786255e+00,  4.08948326e+00,  6.84573841e+00,\n",
      "        1.72444856e+00,  6.38164461e-01, -2.03891850e+00,  3.62467504e+00,\n",
      "       -4.50850153e+00,  1.39538336e+00,  1.74561763e+00,  3.35342336e+00,\n",
      "       -3.22199416e+00, -5.63646436e-01, -1.66317797e+00, -1.09562814e+00],\n",
      "      dtype=float32)>, <tf.Tensor: shape=(14,), dtype=float64, numpy=array([1., 0., 1., 0., 0., 0., 0., 0., 0., 0., 0., 0., 1., 0.])>)\n"
     ]
    }
   ],
   "source": [
    "# Create tf.data.Dataset objects for the datasets\n",
    "test_dataset = tf.data.Dataset.from_tensor_slices((df_test.emb.values.tolist(), \n",
    "                                                         df_test[labels_Columns].values))\n",
    "\n",
    "for record_ in test_dataset.take(1):\n",
    "    print(record_)"
   ]
  },
  {
   "cell_type": "code",
   "execution_count": 46,
   "metadata": {},
   "outputs": [],
   "source": [
    "df_test=df_test.drop(columns='emb',axis=1)\n",
    "df_validate=df_validate.drop(columns='emb',axis=1)"
   ]
  },
  {
   "cell_type": "code",
   "execution_count": 47,
   "metadata": {},
   "outputs": [],
   "source": [
    "df_validate.to_csv(\"df_validate.csv\",index=False)\n",
    "df_test.to_csv(\"df_test.csv\",index=False)"
   ]
  },
  {
   "cell_type": "code",
   "execution_count": 48,
   "metadata": {},
   "outputs": [],
   "source": [
    "# These parameters are obtained by doing hyperparameter tuning \n",
    "embeddings_size=512\n",
    "learning_rate=0.0001253\n",
    "batch_size = 256\n",
    "epochs = 50\n",
    "end_lr_factor=1.0\n",
    "dropout=0.3\n",
    "decay_steps=1000\n",
    "loss_weights=None\n",
    "weight_decay = 1.1342834436836775e-05\n",
    "\n",
    "hidden_layer_sizes = [768,256]"
   ]
  },
  {
   "cell_type": "code",
   "execution_count": 49,
   "metadata": {},
   "outputs": [],
   "source": [
    "checkpoint_path = medclip_embedding_folder+\"/Seed_\"+str(seed)+\"/model_checkpoint_seed_\"+str(seed)+\"/\"\n",
    "# Create directory model weightes saving\n",
    "save_model_dir = os.path.join(checkpoint_path,'models')\n",
    "os.makedirs(os.path.dirname(save_model_dir), exist_ok=True)\n",
    "\n",
    "def get_callbacks(patience=5,fold=1):\n",
    "    early_stop = tf.keras.callbacks.EarlyStopping(monitor=\"val_loss\",\n",
    "                                             mode=\"min\",\n",
    "                                             patience=patience,\n",
    "                                             restore_best_weights=True)\n",
    "\n",
    "    saved_model = tf.keras.callbacks.ModelCheckpoint(f'{save_model_dir}/model_{fold}.keras',\n",
    "                                                    monitor='val_auc',\n",
    "                                                    mode='max',\n",
    "                                                    save_freq='epoch',\n",
    "                                                    save_best_only=True,\n",
    "                                                    save_weights_only=False,\n",
    "                                                    verbose=1)\n",
    "    callbacks_list = [early_stop,saved_model,]\n",
    "    return callbacks_list"
   ]
  },
  {
   "cell_type": "code",
   "execution_count": 50,
   "metadata": {},
   "outputs": [],
   "source": [
    "# Define a function to build the model\n",
    "def build_model(\n",
    "    # hp\n",
    "    ):\n",
    "    # Define the input layer\n",
    "    inputs = Input(shape=(embeddings_size,))\n",
    "\n",
    "    # Build the model using the Functional API\n",
    "    hidden = inputs\n",
    "    for size in hidden_layer_sizes:\n",
    "        hidden = Dense(size,\n",
    "                       activation='relu',\n",
    "                       kernel_initializer=HeUniform())(hidden)\n",
    "        hidden = BatchNormalization()(hidden)\n",
    "        hidden = Dropout(dropout)(hidden)\n",
    "\n",
    "    output = Dense(len(labels_Columns), activation='sigmoid', kernel_initializer=HeUniform())(hidden)\n",
    "\n",
    "    # Create the model\n",
    "    model = Model(inputs=inputs, outputs=output)\n",
    "\n",
    "    # Compile the model with AUC as the metric\n",
    "    model.compile(optimizer=Adam(learning_rate=learning_rate),\n",
    "                  loss='binary_crossentropy',\n",
    "                  metrics=[AUC(multi_label=True)])\n",
    "\n",
    "    return model\n"
   ]
  },
  {
   "cell_type": "code",
   "execution_count": 51,
   "metadata": {},
   "outputs": [],
   "source": [
    "model=build_model()"
   ]
  },
  {
   "cell_type": "code",
   "execution_count": 52,
   "metadata": {},
   "outputs": [
    {
     "data": {
      "text/html": [
       "<pre style=\"white-space:pre;overflow-x:auto;line-height:normal;font-family:Menlo,'DejaVu Sans Mono',consolas,'Courier New',monospace\"><span style=\"font-weight: bold\">Model: \"functional_1\"</span>\n",
       "</pre>\n"
      ],
      "text/plain": [
       "\u001b[1mModel: \"functional_1\"\u001b[0m\n"
      ]
     },
     "metadata": {},
     "output_type": "display_data"
    },
    {
     "data": {
      "text/html": [
       "<pre style=\"white-space:pre;overflow-x:auto;line-height:normal;font-family:Menlo,'DejaVu Sans Mono',consolas,'Courier New',monospace\">┏━━━━━━━━━━━━━━━━━━━━━━━━━━━━━━━━━┳━━━━━━━━━━━━━━━━━━━━━━━━┳━━━━━━━━━━━━━━━┓\n",
       "┃<span style=\"font-weight: bold\"> Layer (type)                    </span>┃<span style=\"font-weight: bold\"> Output Shape           </span>┃<span style=\"font-weight: bold\">       Param # </span>┃\n",
       "┡━━━━━━━━━━━━━━━━━━━━━━━━━━━━━━━━━╇━━━━━━━━━━━━━━━━━━━━━━━━╇━━━━━━━━━━━━━━━┩\n",
       "│ input_layer (<span style=\"color: #0087ff; text-decoration-color: #0087ff\">InputLayer</span>)        │ (<span style=\"color: #00d7ff; text-decoration-color: #00d7ff\">None</span>, <span style=\"color: #00af00; text-decoration-color: #00af00\">512</span>)            │             <span style=\"color: #00af00; text-decoration-color: #00af00\">0</span> │\n",
       "├─────────────────────────────────┼────────────────────────┼───────────────┤\n",
       "│ dense (<span style=\"color: #0087ff; text-decoration-color: #0087ff\">Dense</span>)                   │ (<span style=\"color: #00d7ff; text-decoration-color: #00d7ff\">None</span>, <span style=\"color: #00af00; text-decoration-color: #00af00\">768</span>)            │       <span style=\"color: #00af00; text-decoration-color: #00af00\">393,984</span> │\n",
       "├─────────────────────────────────┼────────────────────────┼───────────────┤\n",
       "│ batch_normalization             │ (<span style=\"color: #00d7ff; text-decoration-color: #00d7ff\">None</span>, <span style=\"color: #00af00; text-decoration-color: #00af00\">768</span>)            │         <span style=\"color: #00af00; text-decoration-color: #00af00\">3,072</span> │\n",
       "│ (<span style=\"color: #0087ff; text-decoration-color: #0087ff\">BatchNormalization</span>)            │                        │               │\n",
       "├─────────────────────────────────┼────────────────────────┼───────────────┤\n",
       "│ dropout (<span style=\"color: #0087ff; text-decoration-color: #0087ff\">Dropout</span>)               │ (<span style=\"color: #00d7ff; text-decoration-color: #00d7ff\">None</span>, <span style=\"color: #00af00; text-decoration-color: #00af00\">768</span>)            │             <span style=\"color: #00af00; text-decoration-color: #00af00\">0</span> │\n",
       "├─────────────────────────────────┼────────────────────────┼───────────────┤\n",
       "│ dense_1 (<span style=\"color: #0087ff; text-decoration-color: #0087ff\">Dense</span>)                 │ (<span style=\"color: #00d7ff; text-decoration-color: #00d7ff\">None</span>, <span style=\"color: #00af00; text-decoration-color: #00af00\">256</span>)            │       <span style=\"color: #00af00; text-decoration-color: #00af00\">196,864</span> │\n",
       "├─────────────────────────────────┼────────────────────────┼───────────────┤\n",
       "│ batch_normalization_1           │ (<span style=\"color: #00d7ff; text-decoration-color: #00d7ff\">None</span>, <span style=\"color: #00af00; text-decoration-color: #00af00\">256</span>)            │         <span style=\"color: #00af00; text-decoration-color: #00af00\">1,024</span> │\n",
       "│ (<span style=\"color: #0087ff; text-decoration-color: #0087ff\">BatchNormalization</span>)            │                        │               │\n",
       "├─────────────────────────────────┼────────────────────────┼───────────────┤\n",
       "│ dropout_1 (<span style=\"color: #0087ff; text-decoration-color: #0087ff\">Dropout</span>)             │ (<span style=\"color: #00d7ff; text-decoration-color: #00d7ff\">None</span>, <span style=\"color: #00af00; text-decoration-color: #00af00\">256</span>)            │             <span style=\"color: #00af00; text-decoration-color: #00af00\">0</span> │\n",
       "├─────────────────────────────────┼────────────────────────┼───────────────┤\n",
       "│ dense_2 (<span style=\"color: #0087ff; text-decoration-color: #0087ff\">Dense</span>)                 │ (<span style=\"color: #00d7ff; text-decoration-color: #00d7ff\">None</span>, <span style=\"color: #00af00; text-decoration-color: #00af00\">14</span>)             │         <span style=\"color: #00af00; text-decoration-color: #00af00\">3,598</span> │\n",
       "└─────────────────────────────────┴────────────────────────┴───────────────┘\n",
       "</pre>\n"
      ],
      "text/plain": [
       "┏━━━━━━━━━━━━━━━━━━━━━━━━━━━━━━━━━┳━━━━━━━━━━━━━━━━━━━━━━━━┳━━━━━━━━━━━━━━━┓\n",
       "┃\u001b[1m \u001b[0m\u001b[1mLayer (type)                   \u001b[0m\u001b[1m \u001b[0m┃\u001b[1m \u001b[0m\u001b[1mOutput Shape          \u001b[0m\u001b[1m \u001b[0m┃\u001b[1m \u001b[0m\u001b[1m      Param #\u001b[0m\u001b[1m \u001b[0m┃\n",
       "┡━━━━━━━━━━━━━━━━━━━━━━━━━━━━━━━━━╇━━━━━━━━━━━━━━━━━━━━━━━━╇━━━━━━━━━━━━━━━┩\n",
       "│ input_layer (\u001b[38;5;33mInputLayer\u001b[0m)        │ (\u001b[38;5;45mNone\u001b[0m, \u001b[38;5;34m512\u001b[0m)            │             \u001b[38;5;34m0\u001b[0m │\n",
       "├─────────────────────────────────┼────────────────────────┼───────────────┤\n",
       "│ dense (\u001b[38;5;33mDense\u001b[0m)                   │ (\u001b[38;5;45mNone\u001b[0m, \u001b[38;5;34m768\u001b[0m)            │       \u001b[38;5;34m393,984\u001b[0m │\n",
       "├─────────────────────────────────┼────────────────────────┼───────────────┤\n",
       "│ batch_normalization             │ (\u001b[38;5;45mNone\u001b[0m, \u001b[38;5;34m768\u001b[0m)            │         \u001b[38;5;34m3,072\u001b[0m │\n",
       "│ (\u001b[38;5;33mBatchNormalization\u001b[0m)            │                        │               │\n",
       "├─────────────────────────────────┼────────────────────────┼───────────────┤\n",
       "│ dropout (\u001b[38;5;33mDropout\u001b[0m)               │ (\u001b[38;5;45mNone\u001b[0m, \u001b[38;5;34m768\u001b[0m)            │             \u001b[38;5;34m0\u001b[0m │\n",
       "├─────────────────────────────────┼────────────────────────┼───────────────┤\n",
       "│ dense_1 (\u001b[38;5;33mDense\u001b[0m)                 │ (\u001b[38;5;45mNone\u001b[0m, \u001b[38;5;34m256\u001b[0m)            │       \u001b[38;5;34m196,864\u001b[0m │\n",
       "├─────────────────────────────────┼────────────────────────┼───────────────┤\n",
       "│ batch_normalization_1           │ (\u001b[38;5;45mNone\u001b[0m, \u001b[38;5;34m256\u001b[0m)            │         \u001b[38;5;34m1,024\u001b[0m │\n",
       "│ (\u001b[38;5;33mBatchNormalization\u001b[0m)            │                        │               │\n",
       "├─────────────────────────────────┼────────────────────────┼───────────────┤\n",
       "│ dropout_1 (\u001b[38;5;33mDropout\u001b[0m)             │ (\u001b[38;5;45mNone\u001b[0m, \u001b[38;5;34m256\u001b[0m)            │             \u001b[38;5;34m0\u001b[0m │\n",
       "├─────────────────────────────────┼────────────────────────┼───────────────┤\n",
       "│ dense_2 (\u001b[38;5;33mDense\u001b[0m)                 │ (\u001b[38;5;45mNone\u001b[0m, \u001b[38;5;34m14\u001b[0m)             │         \u001b[38;5;34m3,598\u001b[0m │\n",
       "└─────────────────────────────────┴────────────────────────┴───────────────┘\n"
      ]
     },
     "metadata": {},
     "output_type": "display_data"
    },
    {
     "data": {
      "text/html": [
       "<pre style=\"white-space:pre;overflow-x:auto;line-height:normal;font-family:Menlo,'DejaVu Sans Mono',consolas,'Courier New',monospace\"><span style=\"font-weight: bold\"> Total params: </span><span style=\"color: #00af00; text-decoration-color: #00af00\">598,542</span> (2.28 MB)\n",
       "</pre>\n"
      ],
      "text/plain": [
       "\u001b[1m Total params: \u001b[0m\u001b[38;5;34m598,542\u001b[0m (2.28 MB)\n"
      ]
     },
     "metadata": {},
     "output_type": "display_data"
    },
    {
     "data": {
      "text/html": [
       "<pre style=\"white-space:pre;overflow-x:auto;line-height:normal;font-family:Menlo,'DejaVu Sans Mono',consolas,'Courier New',monospace\"><span style=\"font-weight: bold\"> Trainable params: </span><span style=\"color: #00af00; text-decoration-color: #00af00\">596,494</span> (2.28 MB)\n",
       "</pre>\n"
      ],
      "text/plain": [
       "\u001b[1m Trainable params: \u001b[0m\u001b[38;5;34m596,494\u001b[0m (2.28 MB)\n"
      ]
     },
     "metadata": {},
     "output_type": "display_data"
    },
    {
     "data": {
      "text/html": [
       "<pre style=\"white-space:pre;overflow-x:auto;line-height:normal;font-family:Menlo,'DejaVu Sans Mono',consolas,'Courier New',monospace\"><span style=\"font-weight: bold\"> Non-trainable params: </span><span style=\"color: #00af00; text-decoration-color: #00af00\">2,048</span> (8.00 KB)\n",
       "</pre>\n"
      ],
      "text/plain": [
       "\u001b[1m Non-trainable params: \u001b[0m\u001b[38;5;34m2,048\u001b[0m (8.00 KB)\n"
      ]
     },
     "metadata": {},
     "output_type": "display_data"
    },
    {
     "data": {
      "text/plain": [
       "<Figure size 1200x800 with 0 Axes>"
      ]
     },
     "metadata": {},
     "output_type": "display_data"
    }
   ],
   "source": [
    "# Plot the model architecture\n",
    "import matplotlib.pyplot as plt\n",
    "\n",
    "plt.figure(figsize=(12, 8))\n",
    "model.summary()\n",
    "plt.show()"
   ]
  },
  {
   "cell_type": "code",
   "execution_count": 53,
   "metadata": {},
   "outputs": [
    {
     "name": "stdout",
     "output_type": "stream",
     "text": [
      "Epoch 1/50\n",
      "\u001b[1m694/696\u001b[0m \u001b[32m━━━━━━━━━━━━━━━━━━━\u001b[0m\u001b[37m━\u001b[0m \u001b[1m0s\u001b[0m 10ms/step - auc: 0.5914 - loss: 0.7538\n",
      "Epoch 1: val_auc improved from -inf to 0.67153, saving model to biomedclip-embedding/Seed_19/model_checkpoint_seed_19/models/model_1.keras\n",
      "\u001b[1m696/696\u001b[0m \u001b[32m━━━━━━━━━━━━━━━━━━━━\u001b[0m\u001b[37m\u001b[0m \u001b[1m11s\u001b[0m 12ms/step - auc: 0.5914 - loss: 0.7534 - val_auc: 0.6715 - val_loss: 0.4040\n",
      "Epoch 2/50\n",
      "\u001b[1m695/696\u001b[0m \u001b[32m━━━━━━━━━━━━━━━━━━━\u001b[0m\u001b[37m━\u001b[0m \u001b[1m0s\u001b[0m 16ms/step - auc: 0.6259 - loss: 0.4048\n",
      "Epoch 2: val_auc improved from 0.67153 to 0.69293, saving model to biomedclip-embedding/Seed_19/model_checkpoint_seed_19/models/model_1.keras\n",
      "\u001b[1m696/696\u001b[0m \u001b[32m━━━━━━━━━━━━━━━━━━━━\u001b[0m\u001b[37m\u001b[0m \u001b[1m12s\u001b[0m 17ms/step - auc: 0.6259 - loss: 0.4047 - val_auc: 0.6929 - val_loss: 0.3124\n",
      "Epoch 3/50\n",
      "\u001b[1m693/696\u001b[0m \u001b[32m━━━━━━━━━━━━━━━━━━━\u001b[0m\u001b[37m━\u001b[0m \u001b[1m0s\u001b[0m 14ms/step - auc: 0.6554 - loss: 0.3358\n",
      "Epoch 3: val_auc improved from 0.69293 to 0.70564, saving model to biomedclip-embedding/Seed_19/model_checkpoint_seed_19/models/model_1.keras\n",
      "\u001b[1m696/696\u001b[0m \u001b[32m━━━━━━━━━━━━━━━━━━━━\u001b[0m\u001b[37m\u001b[0m \u001b[1m10s\u001b[0m 15ms/step - auc: 0.6555 - loss: 0.3358 - val_auc: 0.7056 - val_loss: 0.3088\n",
      "Epoch 4/50\n",
      "\u001b[1m693/696\u001b[0m \u001b[32m━━━━━━━━━━━━━━━━━━━\u001b[0m\u001b[37m━\u001b[0m \u001b[1m0s\u001b[0m 14ms/step - auc: 0.6772 - loss: 0.3259\n",
      "Epoch 4: val_auc improved from 0.70564 to 0.71875, saving model to biomedclip-embedding/Seed_19/model_checkpoint_seed_19/models/model_1.keras\n",
      "\u001b[1m696/696\u001b[0m \u001b[32m━━━━━━━━━━━━━━━━━━━━\u001b[0m\u001b[37m\u001b[0m \u001b[1m10s\u001b[0m 15ms/step - auc: 0.6772 - loss: 0.3259 - val_auc: 0.7188 - val_loss: 0.3072\n",
      "Epoch 5/50\n",
      "\u001b[1m694/696\u001b[0m \u001b[32m━━━━━━━━━━━━━━━━━━━\u001b[0m\u001b[37m━\u001b[0m \u001b[1m0s\u001b[0m 14ms/step - auc: 0.6897 - loss: 0.3209\n",
      "Epoch 5: val_auc improved from 0.71875 to 0.72703, saving model to biomedclip-embedding/Seed_19/model_checkpoint_seed_19/models/model_1.keras\n",
      "\u001b[1m696/696\u001b[0m \u001b[32m━━━━━━━━━━━━━━━━━━━━\u001b[0m\u001b[37m\u001b[0m \u001b[1m10s\u001b[0m 14ms/step - auc: 0.6897 - loss: 0.3209 - val_auc: 0.7270 - val_loss: 0.3059\n",
      "Epoch 6/50\n",
      "\u001b[1m694/696\u001b[0m \u001b[32m━━━━━━━━━━━━━━━━━━━\u001b[0m\u001b[37m━\u001b[0m \u001b[1m0s\u001b[0m 15ms/step - auc: 0.6978 - loss: 0.3176\n",
      "Epoch 6: val_auc did not improve from 0.72703\n",
      "\u001b[1m696/696\u001b[0m \u001b[32m━━━━━━━━━━━━━━━━━━━━\u001b[0m\u001b[37m\u001b[0m \u001b[1m11s\u001b[0m 16ms/step - auc: 0.6978 - loss: 0.3176 - val_auc: 0.7257 - val_loss: 0.3057\n",
      "Epoch 7/50\n",
      "\u001b[1m694/696\u001b[0m \u001b[32m━━━━━━━━━━━━━━━━━━━\u001b[0m\u001b[37m━\u001b[0m \u001b[1m0s\u001b[0m 16ms/step - auc: 0.7055 - loss: 0.3148\n",
      "Epoch 7: val_auc improved from 0.72703 to 0.73006, saving model to biomedclip-embedding/Seed_19/model_checkpoint_seed_19/models/model_1.keras\n",
      "\u001b[1m696/696\u001b[0m \u001b[32m━━━━━━━━━━━━━━━━━━━━\u001b[0m\u001b[37m\u001b[0m \u001b[1m12s\u001b[0m 17ms/step - auc: 0.7055 - loss: 0.3148 - val_auc: 0.7301 - val_loss: 0.3052\n",
      "Epoch 8/50\n",
      "\u001b[1m694/696\u001b[0m \u001b[32m━━━━━━━━━━━━━━━━━━━\u001b[0m\u001b[37m━\u001b[0m \u001b[1m0s\u001b[0m 14ms/step - auc: 0.7108 - loss: 0.3126\n",
      "Epoch 8: val_auc improved from 0.73006 to 0.73170, saving model to biomedclip-embedding/Seed_19/model_checkpoint_seed_19/models/model_1.keras\n",
      "\u001b[1m696/696\u001b[0m \u001b[32m━━━━━━━━━━━━━━━━━━━━\u001b[0m\u001b[37m\u001b[0m \u001b[1m10s\u001b[0m 15ms/step - auc: 0.7108 - loss: 0.3126 - val_auc: 0.7317 - val_loss: 0.3048\n",
      "Epoch 9/50\n",
      "\u001b[1m692/696\u001b[0m \u001b[32m━━━━━━━━━━━━━━━━━━━\u001b[0m\u001b[37m━\u001b[0m \u001b[1m0s\u001b[0m 11ms/step - auc: 0.7168 - loss: 0.3106\n",
      "Epoch 9: val_auc improved from 0.73170 to 0.73362, saving model to biomedclip-embedding/Seed_19/model_checkpoint_seed_19/models/model_1.keras\n",
      "\u001b[1m696/696\u001b[0m \u001b[32m━━━━━━━━━━━━━━━━━━━━\u001b[0m\u001b[37m\u001b[0m \u001b[1m8s\u001b[0m 11ms/step - auc: 0.7168 - loss: 0.3106 - val_auc: 0.7336 - val_loss: 0.3043\n",
      "Epoch 10/50\n",
      "\u001b[1m693/696\u001b[0m \u001b[32m━━━━━━━━━━━━━━━━━━━\u001b[0m\u001b[37m━\u001b[0m \u001b[1m0s\u001b[0m 15ms/step - auc: 0.7197 - loss: 0.3092\n",
      "Epoch 10: val_auc improved from 0.73362 to 0.73473, saving model to biomedclip-embedding/Seed_19/model_checkpoint_seed_19/models/model_1.keras\n",
      "\u001b[1m696/696\u001b[0m \u001b[32m━━━━━━━━━━━━━━━━━━━━\u001b[0m\u001b[37m\u001b[0m \u001b[1m11s\u001b[0m 16ms/step - auc: 0.7197 - loss: 0.3091 - val_auc: 0.7347 - val_loss: 0.3043\n",
      "Epoch 11/50\n",
      "\u001b[1m696/696\u001b[0m \u001b[32m━━━━━━━━━━━━━━━━━━━━\u001b[0m\u001b[37m\u001b[0m \u001b[1m0s\u001b[0m 14ms/step - auc: 0.7241 - loss: 0.3080\n",
      "Epoch 11: val_auc improved from 0.73473 to 0.73611, saving model to biomedclip-embedding/Seed_19/model_checkpoint_seed_19/models/model_1.keras\n",
      "\u001b[1m696/696\u001b[0m \u001b[32m━━━━━━━━━━━━━━━━━━━━\u001b[0m\u001b[37m\u001b[0m \u001b[1m11s\u001b[0m 15ms/step - auc: 0.7241 - loss: 0.3080 - val_auc: 0.7361 - val_loss: 0.3040\n",
      "Epoch 12/50\n",
      "\u001b[1m693/696\u001b[0m \u001b[32m━━━━━━━━━━━━━━━━━━━\u001b[0m\u001b[37m━\u001b[0m \u001b[1m0s\u001b[0m 14ms/step - auc: 0.7276 - loss: 0.3070\n",
      "Epoch 12: val_auc improved from 0.73611 to 0.73728, saving model to biomedclip-embedding/Seed_19/model_checkpoint_seed_19/models/model_1.keras\n",
      "\u001b[1m696/696\u001b[0m \u001b[32m━━━━━━━━━━━━━━━━━━━━\u001b[0m\u001b[37m\u001b[0m \u001b[1m10s\u001b[0m 15ms/step - auc: 0.7275 - loss: 0.3070 - val_auc: 0.7373 - val_loss: 0.3035\n",
      "Epoch 13/50\n",
      "\u001b[1m696/696\u001b[0m \u001b[32m━━━━━━━━━━━━━━━━━━━━\u001b[0m\u001b[37m\u001b[0m \u001b[1m0s\u001b[0m 14ms/step - auc: 0.7304 - loss: 0.3060\n",
      "Epoch 13: val_auc improved from 0.73728 to 0.73777, saving model to biomedclip-embedding/Seed_19/model_checkpoint_seed_19/models/model_1.keras\n",
      "\u001b[1m696/696\u001b[0m \u001b[32m━━━━━━━━━━━━━━━━━━━━\u001b[0m\u001b[37m\u001b[0m \u001b[1m10s\u001b[0m 15ms/step - auc: 0.7304 - loss: 0.3060 - val_auc: 0.7378 - val_loss: 0.3034\n",
      "Epoch 14/50\n",
      "\u001b[1m694/696\u001b[0m \u001b[32m━━━━━━━━━━━━━━━━━━━\u001b[0m\u001b[37m━\u001b[0m \u001b[1m0s\u001b[0m 13ms/step - auc: 0.7324 - loss: 0.3055\n",
      "Epoch 14: val_auc did not improve from 0.73777\n",
      "\u001b[1m696/696\u001b[0m \u001b[32m━━━━━━━━━━━━━━━━━━━━\u001b[0m\u001b[37m\u001b[0m \u001b[1m10s\u001b[0m 14ms/step - auc: 0.7324 - loss: 0.3055 - val_auc: 0.7378 - val_loss: 0.3034\n",
      "Epoch 15/50\n",
      "\u001b[1m694/696\u001b[0m \u001b[32m━━━━━━━━━━━━━━━━━━━\u001b[0m\u001b[37m━\u001b[0m \u001b[1m0s\u001b[0m 13ms/step - auc: 0.7359 - loss: 0.3045\n",
      "Epoch 15: val_auc improved from 0.73777 to 0.73886, saving model to biomedclip-embedding/Seed_19/model_checkpoint_seed_19/models/model_1.keras\n",
      "\u001b[1m696/696\u001b[0m \u001b[32m━━━━━━━━━━━━━━━━━━━━\u001b[0m\u001b[37m\u001b[0m \u001b[1m9s\u001b[0m 13ms/step - auc: 0.7359 - loss: 0.3045 - val_auc: 0.7389 - val_loss: 0.3031\n",
      "Epoch 16/50\n",
      "\u001b[1m693/696\u001b[0m \u001b[32m━━━━━━━━━━━━━━━━━━━\u001b[0m\u001b[37m━\u001b[0m \u001b[1m0s\u001b[0m 11ms/step - auc: 0.7367 - loss: 0.3042\n",
      "Epoch 16: val_auc improved from 0.73886 to 0.73929, saving model to biomedclip-embedding/Seed_19/model_checkpoint_seed_19/models/model_1.keras\n",
      "\u001b[1m696/696\u001b[0m \u001b[32m━━━━━━━━━━━━━━━━━━━━\u001b[0m\u001b[37m\u001b[0m \u001b[1m8s\u001b[0m 12ms/step - auc: 0.7367 - loss: 0.3042 - val_auc: 0.7393 - val_loss: 0.3032\n",
      "Epoch 17/50\n",
      "\u001b[1m694/696\u001b[0m \u001b[32m━━━━━━━━━━━━━━━━━━━\u001b[0m\u001b[37m━\u001b[0m \u001b[1m0s\u001b[0m 11ms/step - auc: 0.7377 - loss: 0.3037\n",
      "Epoch 17: val_auc improved from 0.73929 to 0.73973, saving model to biomedclip-embedding/Seed_19/model_checkpoint_seed_19/models/model_1.keras\n",
      "\u001b[1m696/696\u001b[0m \u001b[32m━━━━━━━━━━━━━━━━━━━━\u001b[0m\u001b[37m\u001b[0m \u001b[1m8s\u001b[0m 12ms/step - auc: 0.7377 - loss: 0.3037 - val_auc: 0.7397 - val_loss: 0.3028\n",
      "Epoch 18/50\n",
      "\u001b[1m691/696\u001b[0m \u001b[32m━━━━━━━━━━━━━━━━━━━\u001b[0m\u001b[37m━\u001b[0m \u001b[1m0s\u001b[0m 10ms/step - auc: 0.7407 - loss: 0.3030\n",
      "Epoch 18: val_auc improved from 0.73973 to 0.73983, saving model to biomedclip-embedding/Seed_19/model_checkpoint_seed_19/models/model_1.keras\n",
      "\u001b[1m696/696\u001b[0m \u001b[32m━━━━━━━━━━━━━━━━━━━━\u001b[0m\u001b[37m\u001b[0m \u001b[1m7s\u001b[0m 11ms/step - auc: 0.7407 - loss: 0.3030 - val_auc: 0.7398 - val_loss: 0.3028\n",
      "Epoch 19/50\n",
      "\u001b[1m696/696\u001b[0m \u001b[32m━━━━━━━━━━━━━━━━━━━━\u001b[0m\u001b[37m\u001b[0m \u001b[1m0s\u001b[0m 10ms/step - auc: 0.7415 - loss: 0.3028\n",
      "Epoch 19: val_auc improved from 0.73983 to 0.74051, saving model to biomedclip-embedding/Seed_19/model_checkpoint_seed_19/models/model_1.keras\n",
      "\u001b[1m696/696\u001b[0m \u001b[32m━━━━━━━━━━━━━━━━━━━━\u001b[0m\u001b[37m\u001b[0m \u001b[1m8s\u001b[0m 11ms/step - auc: 0.7415 - loss: 0.3028 - val_auc: 0.7405 - val_loss: 0.3026\n",
      "Epoch 20/50\n",
      "\u001b[1m696/696\u001b[0m \u001b[32m━━━━━━━━━━━━━━━━━━━━\u001b[0m\u001b[37m\u001b[0m \u001b[1m0s\u001b[0m 10ms/step - auc: 0.7429 - loss: 0.3023\n",
      "Epoch 20: val_auc did not improve from 0.74051\n",
      "\u001b[1m696/696\u001b[0m \u001b[32m━━━━━━━━━━━━━━━━━━━━\u001b[0m\u001b[37m\u001b[0m \u001b[1m7s\u001b[0m 11ms/step - auc: 0.7429 - loss: 0.3023 - val_auc: 0.7403 - val_loss: 0.3024\n",
      "Epoch 21/50\n",
      "\u001b[1m692/696\u001b[0m \u001b[32m━━━━━━━━━━━━━━━━━━━\u001b[0m\u001b[37m━\u001b[0m \u001b[1m0s\u001b[0m 10ms/step - auc: 0.7447 - loss: 0.3021\n",
      "Epoch 21: val_auc improved from 0.74051 to 0.74116, saving model to biomedclip-embedding/Seed_19/model_checkpoint_seed_19/models/model_1.keras\n",
      "\u001b[1m696/696\u001b[0m \u001b[32m━━━━━━━━━━━━━━━━━━━━\u001b[0m\u001b[37m\u001b[0m \u001b[1m7s\u001b[0m 11ms/step - auc: 0.7447 - loss: 0.3021 - val_auc: 0.7412 - val_loss: 0.3020\n",
      "Epoch 22/50\n",
      "\u001b[1m695/696\u001b[0m \u001b[32m━━━━━━━━━━━━━━━━━━━\u001b[0m\u001b[37m━\u001b[0m \u001b[1m0s\u001b[0m 10ms/step - auc: 0.7448 - loss: 0.3018\n",
      "Epoch 22: val_auc did not improve from 0.74116\n",
      "\u001b[1m696/696\u001b[0m \u001b[32m━━━━━━━━━━━━━━━━━━━━\u001b[0m\u001b[37m\u001b[0m \u001b[1m7s\u001b[0m 10ms/step - auc: 0.7448 - loss: 0.3018 - val_auc: 0.7411 - val_loss: 0.3024\n",
      "Epoch 23/50\n",
      "\u001b[1m692/696\u001b[0m \u001b[32m━━━━━━━━━━━━━━━━━━━\u001b[0m\u001b[37m━\u001b[0m \u001b[1m0s\u001b[0m 10ms/step - auc: 0.7459 - loss: 0.3015\n",
      "Epoch 23: val_auc improved from 0.74116 to 0.74131, saving model to biomedclip-embedding/Seed_19/model_checkpoint_seed_19/models/model_1.keras\n",
      "\u001b[1m696/696\u001b[0m \u001b[32m━━━━━━━━━━━━━━━━━━━━\u001b[0m\u001b[37m\u001b[0m \u001b[1m7s\u001b[0m 11ms/step - auc: 0.7459 - loss: 0.3015 - val_auc: 0.7413 - val_loss: 0.3021\n",
      "Epoch 24/50\n",
      "\u001b[1m692/696\u001b[0m \u001b[32m━━━━━━━━━━━━━━━━━━━\u001b[0m\u001b[37m━\u001b[0m \u001b[1m0s\u001b[0m 10ms/step - auc: 0.7473 - loss: 0.3012\n",
      "Epoch 24: val_auc improved from 0.74131 to 0.74140, saving model to biomedclip-embedding/Seed_19/model_checkpoint_seed_19/models/model_1.keras\n",
      "\u001b[1m696/696\u001b[0m \u001b[32m━━━━━━━━━━━━━━━━━━━━\u001b[0m\u001b[37m\u001b[0m \u001b[1m8s\u001b[0m 11ms/step - auc: 0.7473 - loss: 0.3012 - val_auc: 0.7414 - val_loss: 0.3021\n",
      "Epoch 25/50\n",
      "\u001b[1m696/696\u001b[0m \u001b[32m━━━━━━━━━━━━━━━━━━━━\u001b[0m\u001b[37m\u001b[0m \u001b[1m0s\u001b[0m 11ms/step - auc: 0.7487 - loss: 0.3008\n",
      "Epoch 25: val_auc improved from 0.74140 to 0.74180, saving model to biomedclip-embedding/Seed_19/model_checkpoint_seed_19/models/model_1.keras\n",
      "\u001b[1m696/696\u001b[0m \u001b[32m━━━━━━━━━━━━━━━━━━━━\u001b[0m\u001b[37m\u001b[0m \u001b[1m8s\u001b[0m 11ms/step - auc: 0.7487 - loss: 0.3008 - val_auc: 0.7418 - val_loss: 0.3020\n",
      "Epoch 26/50\n",
      "\u001b[1m691/696\u001b[0m \u001b[32m━━━━━━━━━━━━━━━━━━━\u001b[0m\u001b[37m━\u001b[0m \u001b[1m0s\u001b[0m 10ms/step - auc: 0.7491 - loss: 0.3003\n",
      "Epoch 26: val_auc improved from 0.74180 to 0.74234, saving model to biomedclip-embedding/Seed_19/model_checkpoint_seed_19/models/model_1.keras\n",
      "\u001b[1m696/696\u001b[0m \u001b[32m━━━━━━━━━━━━━━━━━━━━\u001b[0m\u001b[37m\u001b[0m \u001b[1m7s\u001b[0m 10ms/step - auc: 0.7491 - loss: 0.3003 - val_auc: 0.7423 - val_loss: 0.3020\n",
      "Epoch 27/50\n",
      "\u001b[1m696/696\u001b[0m \u001b[32m━━━━━━━━━━━━━━━━━━━━\u001b[0m\u001b[37m\u001b[0m \u001b[1m0s\u001b[0m 11ms/step - auc: 0.7498 - loss: 0.3003\n",
      "Epoch 27: val_auc did not improve from 0.74234\n",
      "\u001b[1m696/696\u001b[0m \u001b[32m━━━━━━━━━━━━━━━━━━━━\u001b[0m\u001b[37m\u001b[0m \u001b[1m8s\u001b[0m 12ms/step - auc: 0.7498 - loss: 0.3003 - val_auc: 0.7419 - val_loss: 0.3018\n",
      "Epoch 28/50\n",
      "\u001b[1m695/696\u001b[0m \u001b[32m━━━━━━━━━━━━━━━━━━━\u001b[0m\u001b[37m━\u001b[0m \u001b[1m0s\u001b[0m 11ms/step - auc: 0.7510 - loss: 0.2998\n",
      "Epoch 28: val_auc improved from 0.74234 to 0.74306, saving model to biomedclip-embedding/Seed_19/model_checkpoint_seed_19/models/model_1.keras\n",
      "\u001b[1m696/696\u001b[0m \u001b[32m━━━━━━━━━━━━━━━━━━━━\u001b[0m\u001b[37m\u001b[0m \u001b[1m8s\u001b[0m 11ms/step - auc: 0.7510 - loss: 0.2998 - val_auc: 0.7431 - val_loss: 0.3017\n",
      "Epoch 29/50\n",
      "\u001b[1m696/696\u001b[0m \u001b[32m━━━━━━━━━━━━━━━━━━━━\u001b[0m\u001b[37m\u001b[0m \u001b[1m0s\u001b[0m 10ms/step - auc: 0.7524 - loss: 0.2998\n",
      "Epoch 29: val_auc did not improve from 0.74306\n",
      "\u001b[1m696/696\u001b[0m \u001b[32m━━━━━━━━━━━━━━━━━━━━\u001b[0m\u001b[37m\u001b[0m \u001b[1m8s\u001b[0m 11ms/step - auc: 0.7524 - loss: 0.2998 - val_auc: 0.7414 - val_loss: 0.3020\n",
      "Epoch 30/50\n",
      "\u001b[1m696/696\u001b[0m \u001b[32m━━━━━━━━━━━━━━━━━━━━\u001b[0m\u001b[37m\u001b[0m \u001b[1m0s\u001b[0m 11ms/step - auc: 0.7521 - loss: 0.2998\n",
      "Epoch 30: val_auc did not improve from 0.74306\n",
      "\u001b[1m696/696\u001b[0m \u001b[32m━━━━━━━━━━━━━━━━━━━━\u001b[0m\u001b[37m\u001b[0m \u001b[1m8s\u001b[0m 11ms/step - auc: 0.7521 - loss: 0.2998 - val_auc: 0.7410 - val_loss: 0.3020\n",
      "Epoch 31/50\n",
      "\u001b[1m692/696\u001b[0m \u001b[32m━━━━━━━━━━━━━━━━━━━\u001b[0m\u001b[37m━\u001b[0m \u001b[1m0s\u001b[0m 10ms/step - auc: 0.7523 - loss: 0.2995\n",
      "Epoch 31: val_auc did not improve from 0.74306\n",
      "\u001b[1m696/696\u001b[0m \u001b[32m━━━━━━━━━━━━━━━━━━━━\u001b[0m\u001b[37m\u001b[0m \u001b[1m7s\u001b[0m 11ms/step - auc: 0.7522 - loss: 0.2995 - val_auc: 0.7414 - val_loss: 0.3020\n",
      "Epoch 32/50\n",
      "\u001b[1m692/696\u001b[0m \u001b[32m━━━━━━━━━━━━━━━━━━━\u001b[0m\u001b[37m━\u001b[0m \u001b[1m0s\u001b[0m 10ms/step - auc: 0.7535 - loss: 0.2993\n",
      "Epoch 32: val_auc did not improve from 0.74306\n",
      "\u001b[1m696/696\u001b[0m \u001b[32m━━━━━━━━━━━━━━━━━━━━\u001b[0m\u001b[37m\u001b[0m \u001b[1m7s\u001b[0m 11ms/step - auc: 0.7535 - loss: 0.2993 - val_auc: 0.7419 - val_loss: 0.3020\n",
      "Epoch 33/50\n",
      "\u001b[1m696/696\u001b[0m \u001b[32m━━━━━━━━━━━━━━━━━━━━\u001b[0m\u001b[37m\u001b[0m \u001b[1m0s\u001b[0m 11ms/step - auc: 0.7535 - loss: 0.2991\n",
      "Epoch 33: val_auc did not improve from 0.74306\n",
      "\u001b[1m696/696\u001b[0m \u001b[32m━━━━━━━━━━━━━━━━━━━━\u001b[0m\u001b[37m\u001b[0m \u001b[1m8s\u001b[0m 12ms/step - auc: 0.7535 - loss: 0.2991 - val_auc: 0.7419 - val_loss: 0.3018\n"
     ]
    }
   ],
   "source": [
    "# train the model\n",
    "history=model.fit(\n",
    "    x=train_dataset.batch(batch_size).prefetch(tf.data.AUTOTUNE).cache(),\n",
    "    validation_data=validation_dataset.batch(batch_size).cache(),\n",
    "    callbacks = get_callbacks(patience=5,fold=1),\n",
    "    epochs=epochs,\n",
    ")"
   ]
  },
  {
   "cell_type": "code",
   "execution_count": 54,
   "metadata": {},
   "outputs": [
    {
     "data": {
      "text/plain": [
       "['model_1.keras']"
      ]
     },
     "execution_count": 54,
     "metadata": {},
     "output_type": "execute_result"
    }
   ],
   "source": [
    "os.listdir(save_model_dir)"
   ]
  },
  {
   "cell_type": "code",
   "execution_count": 55,
   "metadata": {},
   "outputs": [
    {
     "name": "stdout",
     "output_type": "stream",
     "text": [
      "\u001b[1m88/88\u001b[0m \u001b[32m━━━━━━━━━━━━━━━━━━━━\u001b[0m\u001b[37m\u001b[0m \u001b[1m1s\u001b[0m 5ms/step\n"
     ]
    },
    {
     "data": {
      "text/plain": [
       "array([0.0412373 , 0.5327245 , 0.56961215, 0.00819686, 0.5420489 ,\n",
       "       0.06660549, 0.00667585, 0.15711659, 0.01918675, 0.86524665,\n",
       "       0.00267595, 0.00583189, 0.8063741 , 0.00530804], dtype=float32)"
      ]
     },
     "execution_count": 55,
     "metadata": {},
     "output_type": "execute_result"
    }
   ],
   "source": [
    "\n",
    "# Evaluate using ROC-AUC\n",
    "y_pred_prob = model.predict(test_dataset.batch(batch_size))\n",
    "y_pred_prob[3]"
   ]
  },
  {
   "cell_type": "code",
   "execution_count": 56,
   "metadata": {},
   "outputs": [
    {
     "name": "stdout",
     "output_type": "stream",
     "text": [
      "Shape of y_pred_prob: (22398, 14)\n",
      "Shape of df_test[labels_Columns].values: (22398, 14)\n"
     ]
    }
   ],
   "source": [
    "print(\"Shape of y_pred_prob:\", y_pred_prob.shape)\n",
    "print(\"Shape of df_test[labels_Columns].values:\", df_test[labels_Columns].values.shape)"
   ]
  },
  {
   "cell_type": "code",
   "execution_count": 57,
   "metadata": {},
   "outputs": [],
   "source": [
    "from sklearn.metrics import roc_auc_score"
   ]
  },
  {
   "cell_type": "code",
   "execution_count": 58,
   "metadata": {},
   "outputs": [
    {
     "name": "stdout",
     "output_type": "stream",
     "text": [
      "Average ROC-AUC: 0.74\n"
     ]
    }
   ],
   "source": [
    "roc_auc_scores = []\n",
    "for i in range(14):\n",
    "    roc_auc = roc_auc_score(df_test[labels_Columns].values[:, i], y_pred_prob[:, i])\n",
    "    roc_auc_scores.append(roc_auc)\n",
    "\n",
    "average_roc_auc = np.mean(roc_auc_scores)\n",
    "print(\"Average ROC-AUC:\", round(average_roc_auc,2))"
   ]
  },
  {
   "cell_type": "code",
   "execution_count": 59,
   "metadata": {},
   "outputs": [
    {
     "name": "stdout",
     "output_type": "stream",
     "text": [
      "Average ROC-AUC: 0.74\n"
     ]
    }
   ],
   "source": [
    "roc_auc_scores = []\n",
    "for i in range(14):\n",
    "    roc_auc = roc_auc_score(df_test[labels_Columns].values[:, i], y_pred_prob[:, i])\n",
    "    roc_auc_scores.append(roc_auc)\n",
    "\n",
    "average_roc_auc = np.mean(roc_auc_scores)\n",
    "print(\"Average ROC-AUC:\", round(average_roc_auc,2))"
   ]
  },
  {
   "cell_type": "code",
   "execution_count": 60,
   "metadata": {},
   "outputs": [
    {
     "name": "stdout",
     "output_type": "stream",
     "text": [
      "Shape of y_pred_prob: (22398, 14)\n",
      "Shape of df_test[labels_Columns].values: (22398, 14)\n"
     ]
    },
    {
     "data": {
      "image/png": "[encoded data removed]",
      "text/plain": [
       "<Figure size 1000x700 with 1 Axes>"
      ]
     },
     "metadata": {},
     "output_type": "display_data"
    },
    {
     "name": "stdout",
     "output_type": "stream",
     "text": [
      "Average ROC AUC across all labels: 0.7441196855181779\n"
     ]
    }
   ],
   "source": [
    "from sklearn.metrics import roc_curve, auc, roc_auc_score\n",
    "import matplotlib.pyplot as plt\n",
    "import numpy as np\n",
    "\n",
    "# Verify data shapes and types first\n",
    "print(\"Shape of y_pred_prob:\", y_pred_prob.shape)\n",
    "print(\"Shape of df_test[labels_Columns].values:\", df_test[labels_Columns].values.shape)\n",
    "\n",
    "# Check if predictions are binary or probabilities\n",
    "if np.any((y_pred_prob < 0) | (y_pred_prob > 1)):\n",
    "    print(\"Warning: y_pred_prob contains values outside [0, 1] range.\")\n",
    "\n",
    "# Plot ROC Curves for each disease label\n",
    "plt.figure(figsize=(10, 7))\n",
    "roc_auc_scores = []\n",
    "\n",
    "for i, label_name in enumerate(labels_Columns):\n",
    "    # Extract true and predicted values for the current label\n",
    "    y_true = df_test[labels_Columns].values[:, i]\n",
    "    y_scores = y_pred_prob[:, i]\n",
    "\n",
    "    # Calculate ROC curve and AUC for the label\n",
    "    try:\n",
    "        fpr, tpr, _ = roc_curve(y_true, y_scores)\n",
    "        roc_auc = auc(fpr, tpr)\n",
    "        roc_auc_scores.append(roc_auc)\n",
    "        plt.plot(fpr, tpr, lw=2, label=f'{label_name} (AUC = {roc_auc:.2f})')\n",
    "    except ValueError as e:\n",
    "        print(f\"Skipping {label_name} due to error: {e}\")\n",
    "\n",
    "# Add plot labels and legend\n",
    "plt.xlabel('False Positive Rate')\n",
    "plt.ylabel('True Positive Rate')\n",
    "plt.title('ROC Curves for Each Disease Label')\n",
    "plt.legend(loc=\"lower right\")\n",
    "plt.show()\n",
    "\n",
    "# Calculate the average AUC if no labels were skipped\n",
    "if roc_auc_scores:\n",
    "    average_roc_auc = np.mean(roc_auc_scores)\n",
    "    print(\"Average ROC AUC across all labels:\", average_roc_auc)\n",
    "else:\n",
    "    print(\"No ROC AUC scores calculated due to data issues.\")\n"
   ]
  },
  {
   "cell_type": "code",
   "execution_count": 61,
   "metadata": {},
   "outputs": [],
   "source": [
    "\n",
    "def make_pred_multilabel(model, test_dataset, validation_dataset, test_df):\n",
    "  \n",
    "    #Load  pre-trained Keras model\n",
    "    PRED_LABELS = labels_Columns\n",
    "\n",
    "    for mode in [\"Threshold\", \"test\"]:\n",
    "        # Create empty dataframes\n",
    "        pred_df = pd.DataFrame(columns=[\"Path\"])\n",
    "        bi_pred_df = pd.DataFrame(columns=[\"Path\"])\n",
    "        true_df = pd.DataFrame(columns=[\"Path\"])\n",
    "\n",
    "        if mode == \"Threshold\":\n",
    "            data = validation_dataset  # Use validation dataset for threshold mode\n",
    "            Eval_df = pd.DataFrame(columns=[\"label\", 'bestthr'])\n",
    "            thrs = []\n",
    "\n",
    "        if mode == \"test\":\n",
    "            data = test_dataset  # Use test dataset for test mode\n",
    "            index=0\n",
    "            TestEval_df = pd.DataFrame(columns=[\"label\", 'auc', \"auprc\",\"accuracy\"])\n",
    "\n",
    "            Eval = pd.read_csv(\"Threshold.csv\")  # Load threshold values from the CSV\n",
    "            Eval.head(14)\n",
    "            thrs = [Eval[\"bestthr\"][Eval[Eval[\"label\"] == label].index[0]] for label in PRED_LABELS]\n",
    "\n",
    "            print(\"thrs :\",thrs)\n",
    "\n",
    "        for inputs, labels in data:\n",
    "            # Get predictions from the pre-trained model\n",
    "            # inputs = tf.constant(inputs, dtype=tf.float32)\n",
    "            true_labels = labels.numpy()\n",
    "            model.set_weights(model.get_weights())\n",
    "\n",
    "            \"\"\" perform inference\n",
    "              ... use tf.expand_dims(inputs, axis=0) adds an extra dimension at axis 0,\n",
    "              ... effectively creating a batch of size 1. \"\"\"\n",
    "\n",
    "            inputs_batched = tf.expand_dims(inputs, axis=0)\n",
    "            outputs = model(inputs_batched, training=False)\n",
    "            probs = outputs.numpy()\n",
    "\n",
    "            thisrow = {}\n",
    "            bi_thisrow = {}\n",
    "            truerow = {}\n",
    "\n",
    "            thisrow['Path']='Path'\n",
    "            truerow['Path']='Path'\n",
    "\n",
    "            if mode == \"test\":\n",
    "              path=test_df.iloc[index]['Path']\n",
    "              bi_thisrow['Path']=path\n",
    "\n",
    "            # Iterate over each entry in prediction vector; each corresponds to an individual label\n",
    "            for j, _label in enumerate(PRED_LABELS):\n",
    "                thisrow[\"prob_\" + _label] = probs[0][j]\n",
    "                truerow[_label] = true_labels[j]\n",
    "\n",
    "                if mode == \"test\":\n",
    "                   bi_thisrow[\"bi_\" + _label] = probs[0][j] >= thrs[j]\n",
    "\n",
    "            pred_df = pd.concat([pred_df, pd.DataFrame([thisrow])], ignore_index=True)\n",
    "            true_df = pd.concat([true_df, pd.DataFrame([truerow])], ignore_index=True)\n",
    "\n",
    "            if mode == \"test\":\n",
    "              #Explicitly cast object-dtype columns with boolean values to bool\n",
    "              bool_columns = [col_name for col_name in bi_pred_df.columns if col_name != 'path'\n",
    "               and bi_pred_df[col_name].dtype == 'object']\n",
    "              bi_pred_df[bool_columns] = bi_pred_df[bool_columns].astype(bool)\n",
    "\n",
    "              #Append the dictionary to the DataFrame\n",
    "              bi_pred_df = pd.concat([bi_pred_df, pd.DataFrame([bi_thisrow])], ignore_index=True)\n",
    "              index=index+1\n",
    "\n",
    "        #print(f'Last indext in thershold : {index}')\n",
    "        for column in true_df:\n",
    "          if column not in PRED_LABELS:\n",
    "            continue\n",
    "          actual = true_df[column]\n",
    "          pred = pred_df[\"prob_\" + column]\n",
    "\n",
    "          thisrow = {}\n",
    "          thisrow['label'] = column\n",
    "          if mode == \"test\":\n",
    "            bi_pred = bi_pred_df[\"bi_\" + column]\n",
    "            thisrow['auc'] = np.nan\n",
    "            thisrow['accuracy'] = np.nan\n",
    "            thisrow['auprc'] = np.nan\n",
    "          else:\n",
    "            thisrow['bestthr'] = np.nan\n",
    "\n",
    "          try:\n",
    "            if mode == \"test\":\n",
    "              # Calculate the AUC using the true labels and predicted probabilities\n",
    "              thisrow['auc'] =sklm.roc_auc_score(actual.astype(int),pred)\n",
    "\n",
    "              thisrow['auprc'] = sklm.average_precision_score(\n",
    "                  actual.astype(int), pred)\n",
    "\n",
    "              #Calculate accuracy\n",
    "              thisrow['accuracy'] = sklm.accuracy_score(actual.astype(int), bi_pred)\n",
    "            else:\n",
    "\n",
    "              p, r, t = sklm.precision_recall_curve(actual.astype(int), pred)\n",
    "\n",
    "              #Calculate F1-score, handling division by zero\n",
    "              f1_scores = []\n",
    "              for precision, recall in zip(p, r):\n",
    "                if precision + recall == 0:\n",
    "                  f1_scores.append(0.0)  # Handle division by zero\n",
    "                else:\n",
    "                  f1_scores.append(2 * (precision * recall) / (precision + recall))\n",
    "\n",
    "              #Find the threshold that maximizes F1-score\n",
    "              best_threshold = t[np.argmax(f1_scores)]\n",
    "\n",
    "              thrs.append(best_threshold)\n",
    "              thisrow['bestthr'] = best_threshold\n",
    "\n",
    "          except BaseException as be:\n",
    "            #Handle the exception\n",
    "            print(f'can not caclucalte AUC and Accuracy for  : {str(column)}, see the error : {str(be)}')\n",
    "\n",
    "          if mode == \"Threshold\":\n",
    "            Eval_df = pd.concat([Eval_df, pd.DataFrame([thisrow])], ignore_index=True)\n",
    "\n",
    "          if mode == \"test\":\n",
    "            TestEval_df = pd.concat([TestEval_df, pd.DataFrame([thisrow])], ignore_index=True)\n",
    "\n",
    "\n",
    "        if mode == \"Threshold\":\n",
    "          Eval_df.to_csv(\"Threshold.csv\", index=False)\n",
    "\n",
    "        if mode == \"test\":\n",
    "          TestEval_df.to_csv(\"TestEval.csv\", index=False)\n",
    "          bi_pred_df.to_csv(\"bipred.csv\", index=False)\n",
    "\n",
    "\n",
    "    avg_AUC=TestEval_df['auc'].sum()/14.0\n",
    "    avg_accuracy=TestEval_df['accuracy'].sum() /14.0\n",
    "\n",
    "    print(\"AUC ave:\", round(avg_AUC,2))\n",
    "    #print(\"auprc ave:\", TestEval_df['auprc'].sum() / 14.0)\n",
    "    print(\"Accuracy ave:\", round(avg_accuracy,2))\n",
    "    print(\"done\")\n",
    "  \n",
    "    #return pred_df, Eval_df, bi_pred_df,TestEval_df"
   ]
  },
  {
   "cell_type": "code",
   "execution_count": 62,
   "metadata": {},
   "outputs": [
    {
     "name": "stderr",
     "output_type": "stream",
     "text": [
      "C:\\Users\\gebre\\AppData\\Local\\Temp\\ipykernel_6192\\3786497249.py:124: FutureWarning: The behavior of DataFrame concatenation with empty or all-NA entries is deprecated. In a future version, this will no longer exclude empty or all-NA columns when determining the result dtypes. To retain the old behavior, exclude the relevant entries before the concat operation.\n",
      "  Eval_df = pd.concat([Eval_df, pd.DataFrame([thisrow])], ignore_index=True)\n"
     ]
    },
    {
     "name": "stdout",
     "output_type": "stream",
     "text": [
      "thrs : [0.08022316, 0.20057693, 0.34493607, 0.08358415, 0.2791314, 0.09334874, 0.05384423, 0.14704022, 0.19708325, 0.3512227, 0.043803632, 0.069913544, 0.3826395, 0.22612913]\n",
      "AUC ave: 0.74\n",
      "Accuracy ave: 0.79\n",
      "done\n"
     ]
    },
    {
     "name": "stderr",
     "output_type": "stream",
     "text": [
      "C:\\Users\\gebre\\AppData\\Local\\Temp\\ipykernel_6192\\3786497249.py:127: FutureWarning: The behavior of DataFrame concatenation with empty or all-NA entries is deprecated. In a future version, this will no longer exclude empty or all-NA columns when determining the result dtypes. To retain the old behavior, exclude the relevant entries before the concat operation.\n",
      "  TestEval_df = pd.concat([TestEval_df, pd.DataFrame([thisrow])], ignore_index=True)\n"
     ]
    }
   ],
   "source": [
    "#path_image = path_to_image_files  # Replace with the path to your image files\n",
    "make_pred_multilabel(model,test_dataset,validation_dataset,df_test)"
   ]
  }
 ],
 "metadata": {
  "kernelspec": {
   "display_name": "base",
   "language": "python",
   "name": "python3"
  },
  "language_info": {
   "codemirror_mode": {
    "name": "ipython",
    "version": 3
   },
   "file_extension": ".py",
   "mimetype": "text/x-python",
   "name": "python",
   "nbconvert_exporter": "python",
   "pygments_lexer": "ipython3",
   "version": "3.11.7"
  }
 },
 "nbformat": 4,
 "nbformat_minor": 2
}
